{
  "nbformat": 4,
  "nbformat_minor": 0,
  "metadata": {
    "colab": {
      "provenance": [],
      "authorship_tag": "ABX9TyMATbEoyz7FSW7s6RD5tciz",
      "include_colab_link": true
    },
    "kernelspec": {
      "name": "python3",
      "display_name": "Python 3"
    },
    "language_info": {
      "name": "python"
    }
  },
  "cells": [
    {
      "cell_type": "markdown",
      "metadata": {
        "id": "view-in-github",
        "colab_type": "text"
      },
      "source": [
        "<a href=\"https://colab.research.google.com/github/Epilef86/DNC/blob/main/Formulario_Clientes.ipynb\" target=\"_parent\"><img src=\"https://colab.research.google.com/assets/colab-badge.svg\" alt=\"Open In Colab\"/></a>"
      ]
    },
    {
      "cell_type": "code",
      "execution_count": 2,
      "metadata": {
        "colab": {
          "base_uri": "https://localhost:8080/"
        },
        "id": "qMTD_36co41k",
        "outputId": "2c9ed425-c70a-4519-d912-3428157bb44f"
      },
      "outputs": [
        {
          "output_type": "stream",
          "name": "stdout",
          "text": [
            "Deseja adicionar um novo contato(add) ou parar a execução(stop)add\n",
            "Digite o nome do contato: Felipe\n",
            "Digite o telefone do contato: 81995294484\n",
            "Digite o endereço do contato: Rua Desembargador Virgílio de Sá Pereira\n",
            "Digite o Email do contato: amaral.felipelima@gmail.com\n",
            "{'Felipe': {'Telefone': '81995294484', 'Endereço': 'Rua Desembargador Virgílio de Sá Pereira', 'Email': 'amaral.felipelima@gmail.com'}}\n",
            "Deseja adicionar um novo contato(add) ou parar a execução(stop)add\n",
            "Digite o nome do contato: Mizael\n",
            "Digite o telefone do contato: 81999248583\n",
            "Digite o endereço do contato: Rua Veneza\n",
            "Digite o Email do contato: mizael.correia@gmail.com\n",
            "{'Felipe': {'Telefone': '81995294484', 'Endereço': 'Rua Desembargador Virgílio de Sá Pereira', 'Email': 'amaral.felipelima@gmail.com'}, 'Mizael': {'Telefone': '81999248583', 'Endereço': 'Rua Veneza', 'Email': 'mizael.correia@gmail.com'}}\n",
            "Deseja adicionar um novo contato(add) ou parar a execução(stop)stop\n",
            "A G E N D A\n",
            "\n",
            "Nome:  Felipe\n",
            "Telefone:  81995294484\n",
            "Endereço:  Rua Desembargador Virgílio de Sá Pereira\n",
            "Email:  amaral.felipelima@gmail.com\n",
            "\n",
            "Nome:  Mizael\n",
            "Telefone:  81999248583\n",
            "Endereço:  Rua Veneza\n",
            "Email:  mizael.correia@gmail.com\n",
            "\n"
          ]
        }
      ],
      "source": [
        "nomes = []\n",
        "agenda = {}\n",
        "\n",
        "while True:\n",
        "    ordem = input('Deseja adicionar um novo contato(add) ou parar a execução(stop)').lower()\n",
        "\n",
        "    if not ordem.isalpha():\n",
        "        print(\"Digite apenas letras!\")\n",
        "        \n",
        "    elif ordem.startswith('a'):\n",
        "        contato = {}\n",
        "\n",
        "\n",
        "        nome = input('Digite o nome do contato: ')\n",
        "        if not nome[0].isupper():\n",
        "            nome = nome[0].upper() + nome[1:]\n",
        "\n",
        "        nomes.append(nome)\n",
        "\n",
        "        tel = input('Digite o telefone do contato: ')\n",
        "        contato['Telefone'] = tel\n",
        "\n",
        "        end = input('Digite o endereço do contato: ')\n",
        "        contato['Endereço'] = end\n",
        "\n",
        "        email = input('Digite o Email do contato: ')\n",
        "        contato['Email'] = email\n",
        "\n",
        "        agenda[nome] = contato\n",
        "        print(agenda)\n",
        "        \n",
        "    elif ordem.startswith('s'):\n",
        "        break\n",
        "\n",
        "print('A G E N D A\\n')\n",
        "nomes.sort()\n",
        "for nome in nomes:\n",
        "    print('Nome: ', nome)\n",
        "    print('Telefone: ', agenda[nome]['Telefone'])\n",
        "    print('Endereço: ', agenda[nome]['Endereço'])\n",
        "    print('Email: ', agenda[nome]['Email'])\n",
        "    print()"
      ]
    }
  ]
}