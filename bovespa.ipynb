{
  "nbformat": 4,
  "nbformat_minor": 0,
  "metadata": {
    "colab": {
      "provenance": [],
      "collapsed_sections": [],
      "authorship_tag": "ABX9TyPYXX/3YrO2LbbiuP1Al8Oh",
      "include_colab_link": true
    },
    "kernelspec": {
      "name": "python3",
      "display_name": "Python 3"
    },
    "language_info": {
      "name": "python"
    }
  },
  "cells": [
    {
      "cell_type": "markdown",
      "metadata": {
        "id": "view-in-github",
        "colab_type": "text"
      },
      "source": [
        "<a href=\"https://colab.research.google.com/github/Epilef86/DNC/blob/main/bovespa.ipynb\" target=\"_parent\"><img src=\"https://colab.research.google.com/assets/colab-badge.svg\" alt=\"Open In Colab\"/></a>"
      ]
    },
    {
      "cell_type": "markdown",
      "source": [
        "Após a década de 80 e 90, período no qual houveram diversos avanços tecnológicos e uma maior integração entre os mercados de diferentes países, o estudo e aplicação de técnicas no mercado financeiro se tornou ainda mais evidente.\n",
        "\n",
        "Neste quesito, utilizar técnicas matemáticas e estatísticas para entender o comportamento do mercado se tornou algo muito comum após o o banco JP Morgan divulgou seu serviço RiskMetrics divulgar o VaR (Value at Risk) que consiste em uma métrica, utilizando estatística, para estimar o máximo de valor que seu ativo poderá perder em um único dia.\n",
        "\n",
        "Neste contexto, iremos analisar os dados de ação da BOVESPA, a bolsa de valores do Brasil com índices diários dos últimos 3 anos. Com estes dados e seguindo o passo a passo das perguntas abaixo, iremos calcular a maior perda esperada para o meu ativo no dia posterior.\n",
        "\n",
        "Primeiro, para fazer o download dos dados, utilize o código abaixo para gerar o dataset:"
      ],
      "metadata": {
        "id": "JZW3wXH3ymvB"
      }
    },
    {
      "cell_type": "code",
      "execution_count": 57,
      "metadata": {
        "colab": {
          "base_uri": "https://localhost:8080/",
          "height": 472
        },
        "id": "SUy2O-ICrj9O",
        "outputId": "44f4af2c-2196-4a6a-8e57-7a0d1d5a19b1"
      },
      "outputs": [
        {
          "output_type": "stream",
          "name": "stdout",
          "text": [
            "(886, 8)\n"
          ]
        },
        {
          "output_type": "display_data",
          "data": {
            "text/plain": [
              "                                Open       High        Low      Close  \\\n",
              "Date                                                                    \n",
              "2019-01-02 00:00:00-02:00  84.599998  88.260002  84.349998  87.900002   \n",
              "2019-01-03 00:00:00-02:00  87.550003  88.400002  86.800003  88.000000   \n",
              "2019-01-04 00:00:00-02:00  88.199997  89.449997  87.629997  88.500000   \n",
              "2019-01-07 00:00:00-02:00  88.650002  89.320000  88.059998  88.480003   \n",
              "2019-01-08 00:00:00-02:00  88.750000  88.970001  87.870003  88.830002   \n",
              "...                              ...        ...        ...        ...   \n",
              "2022-07-21 00:00:00-03:00  93.989998  95.529999  93.620003  95.349998   \n",
              "2022-07-22 00:00:00-03:00  95.790001  96.160004  94.820000  95.419998   \n",
              "2022-07-25 00:00:00-03:00  96.309998  96.930000  96.029999  96.750000   \n",
              "2022-07-26 00:00:00-03:00  96.879997  97.160004  95.849998  96.150002   \n",
              "2022-07-27 00:00:00-03:00  96.769997  97.940002  96.459999  97.830002   \n",
              "\n",
              "                            Volume  Dividends  Stock Splits      diff  \n",
              "Date                                                                   \n",
              "2019-01-02 00:00:00-02:00  5021260          0             0  3.300003  \n",
              "2019-01-03 00:00:00-02:00  4300220          0             0  0.449997  \n",
              "2019-01-04 00:00:00-02:00  2449750          0             0  0.300003  \n",
              "2019-01-07 00:00:00-02:00  2891360          0             0 -0.169998  \n",
              "2019-01-08 00:00:00-02:00  3441770          0             0  0.080002  \n",
              "...                            ...        ...           ...       ...  \n",
              "2022-07-21 00:00:00-03:00  7765854          0             0  1.360001  \n",
              "2022-07-22 00:00:00-03:00  5037163          0             0 -0.370003  \n",
              "2022-07-25 00:00:00-03:00  4192244          0             0  0.440002  \n",
              "2022-07-26 00:00:00-03:00  4780077          0             0 -0.729996  \n",
              "2022-07-27 00:00:00-03:00  4846166          0             0  1.060005  \n",
              "\n",
              "[886 rows x 8 columns]"
            ],
            "text/html": [
              "\n",
              "  <div id=\"df-e35242b7-f08e-49af-a4e1-0fa2de70a9ba\">\n",
              "    <div class=\"colab-df-container\">\n",
              "      <div>\n",
              "<style scoped>\n",
              "    .dataframe tbody tr th:only-of-type {\n",
              "        vertical-align: middle;\n",
              "    }\n",
              "\n",
              "    .dataframe tbody tr th {\n",
              "        vertical-align: top;\n",
              "    }\n",
              "\n",
              "    .dataframe thead th {\n",
              "        text-align: right;\n",
              "    }\n",
              "</style>\n",
              "<table border=\"1\" class=\"dataframe\">\n",
              "  <thead>\n",
              "    <tr style=\"text-align: right;\">\n",
              "      <th></th>\n",
              "      <th>Open</th>\n",
              "      <th>High</th>\n",
              "      <th>Low</th>\n",
              "      <th>Close</th>\n",
              "      <th>Volume</th>\n",
              "      <th>Dividends</th>\n",
              "      <th>Stock Splits</th>\n",
              "      <th>diff</th>\n",
              "    </tr>\n",
              "    <tr>\n",
              "      <th>Date</th>\n",
              "      <th></th>\n",
              "      <th></th>\n",
              "      <th></th>\n",
              "      <th></th>\n",
              "      <th></th>\n",
              "      <th></th>\n",
              "      <th></th>\n",
              "      <th></th>\n",
              "    </tr>\n",
              "  </thead>\n",
              "  <tbody>\n",
              "    <tr>\n",
              "      <th>2019-01-02 00:00:00-02:00</th>\n",
              "      <td>84.599998</td>\n",
              "      <td>88.260002</td>\n",
              "      <td>84.349998</td>\n",
              "      <td>87.900002</td>\n",
              "      <td>5021260</td>\n",
              "      <td>0</td>\n",
              "      <td>0</td>\n",
              "      <td>3.300003</td>\n",
              "    </tr>\n",
              "    <tr>\n",
              "      <th>2019-01-03 00:00:00-02:00</th>\n",
              "      <td>87.550003</td>\n",
              "      <td>88.400002</td>\n",
              "      <td>86.800003</td>\n",
              "      <td>88.000000</td>\n",
              "      <td>4300220</td>\n",
              "      <td>0</td>\n",
              "      <td>0</td>\n",
              "      <td>0.449997</td>\n",
              "    </tr>\n",
              "    <tr>\n",
              "      <th>2019-01-04 00:00:00-02:00</th>\n",
              "      <td>88.199997</td>\n",
              "      <td>89.449997</td>\n",
              "      <td>87.629997</td>\n",
              "      <td>88.500000</td>\n",
              "      <td>2449750</td>\n",
              "      <td>0</td>\n",
              "      <td>0</td>\n",
              "      <td>0.300003</td>\n",
              "    </tr>\n",
              "    <tr>\n",
              "      <th>2019-01-07 00:00:00-02:00</th>\n",
              "      <td>88.650002</td>\n",
              "      <td>89.320000</td>\n",
              "      <td>88.059998</td>\n",
              "      <td>88.480003</td>\n",
              "      <td>2891360</td>\n",
              "      <td>0</td>\n",
              "      <td>0</td>\n",
              "      <td>-0.169998</td>\n",
              "    </tr>\n",
              "    <tr>\n",
              "      <th>2019-01-08 00:00:00-02:00</th>\n",
              "      <td>88.750000</td>\n",
              "      <td>88.970001</td>\n",
              "      <td>87.870003</td>\n",
              "      <td>88.830002</td>\n",
              "      <td>3441770</td>\n",
              "      <td>0</td>\n",
              "      <td>0</td>\n",
              "      <td>0.080002</td>\n",
              "    </tr>\n",
              "    <tr>\n",
              "      <th>...</th>\n",
              "      <td>...</td>\n",
              "      <td>...</td>\n",
              "      <td>...</td>\n",
              "      <td>...</td>\n",
              "      <td>...</td>\n",
              "      <td>...</td>\n",
              "      <td>...</td>\n",
              "      <td>...</td>\n",
              "    </tr>\n",
              "    <tr>\n",
              "      <th>2022-07-21 00:00:00-03:00</th>\n",
              "      <td>93.989998</td>\n",
              "      <td>95.529999</td>\n",
              "      <td>93.620003</td>\n",
              "      <td>95.349998</td>\n",
              "      <td>7765854</td>\n",
              "      <td>0</td>\n",
              "      <td>0</td>\n",
              "      <td>1.360001</td>\n",
              "    </tr>\n",
              "    <tr>\n",
              "      <th>2022-07-22 00:00:00-03:00</th>\n",
              "      <td>95.790001</td>\n",
              "      <td>96.160004</td>\n",
              "      <td>94.820000</td>\n",
              "      <td>95.419998</td>\n",
              "      <td>5037163</td>\n",
              "      <td>0</td>\n",
              "      <td>0</td>\n",
              "      <td>-0.370003</td>\n",
              "    </tr>\n",
              "    <tr>\n",
              "      <th>2022-07-25 00:00:00-03:00</th>\n",
              "      <td>96.309998</td>\n",
              "      <td>96.930000</td>\n",
              "      <td>96.029999</td>\n",
              "      <td>96.750000</td>\n",
              "      <td>4192244</td>\n",
              "      <td>0</td>\n",
              "      <td>0</td>\n",
              "      <td>0.440002</td>\n",
              "    </tr>\n",
              "    <tr>\n",
              "      <th>2022-07-26 00:00:00-03:00</th>\n",
              "      <td>96.879997</td>\n",
              "      <td>97.160004</td>\n",
              "      <td>95.849998</td>\n",
              "      <td>96.150002</td>\n",
              "      <td>4780077</td>\n",
              "      <td>0</td>\n",
              "      <td>0</td>\n",
              "      <td>-0.729996</td>\n",
              "    </tr>\n",
              "    <tr>\n",
              "      <th>2022-07-27 00:00:00-03:00</th>\n",
              "      <td>96.769997</td>\n",
              "      <td>97.940002</td>\n",
              "      <td>96.459999</td>\n",
              "      <td>97.830002</td>\n",
              "      <td>4846166</td>\n",
              "      <td>0</td>\n",
              "      <td>0</td>\n",
              "      <td>1.060005</td>\n",
              "    </tr>\n",
              "  </tbody>\n",
              "</table>\n",
              "<p>886 rows × 8 columns</p>\n",
              "</div>\n",
              "      <button class=\"colab-df-convert\" onclick=\"convertToInteractive('df-e35242b7-f08e-49af-a4e1-0fa2de70a9ba')\"\n",
              "              title=\"Convert this dataframe to an interactive table.\"\n",
              "              style=\"display:none;\">\n",
              "        \n",
              "  <svg xmlns=\"http://www.w3.org/2000/svg\" height=\"24px\"viewBox=\"0 0 24 24\"\n",
              "       width=\"24px\">\n",
              "    <path d=\"M0 0h24v24H0V0z\" fill=\"none\"/>\n",
              "    <path d=\"M18.56 5.44l.94 2.06.94-2.06 2.06-.94-2.06-.94-.94-2.06-.94 2.06-2.06.94zm-11 1L8.5 8.5l.94-2.06 2.06-.94-2.06-.94L8.5 2.5l-.94 2.06-2.06.94zm10 10l.94 2.06.94-2.06 2.06-.94-2.06-.94-.94-2.06-.94 2.06-2.06.94z\"/><path d=\"M17.41 7.96l-1.37-1.37c-.4-.4-.92-.59-1.43-.59-.52 0-1.04.2-1.43.59L10.3 9.45l-7.72 7.72c-.78.78-.78 2.05 0 2.83L4 21.41c.39.39.9.59 1.41.59.51 0 1.02-.2 1.41-.59l7.78-7.78 2.81-2.81c.8-.78.8-2.07 0-2.86zM5.41 20L4 18.59l7.72-7.72 1.47 1.35L5.41 20z\"/>\n",
              "  </svg>\n",
              "      </button>\n",
              "      \n",
              "  <style>\n",
              "    .colab-df-container {\n",
              "      display:flex;\n",
              "      flex-wrap:wrap;\n",
              "      gap: 12px;\n",
              "    }\n",
              "\n",
              "    .colab-df-convert {\n",
              "      background-color: #E8F0FE;\n",
              "      border: none;\n",
              "      border-radius: 50%;\n",
              "      cursor: pointer;\n",
              "      display: none;\n",
              "      fill: #1967D2;\n",
              "      height: 32px;\n",
              "      padding: 0 0 0 0;\n",
              "      width: 32px;\n",
              "    }\n",
              "\n",
              "    .colab-df-convert:hover {\n",
              "      background-color: #E2EBFA;\n",
              "      box-shadow: 0px 1px 2px rgba(60, 64, 67, 0.3), 0px 1px 3px 1px rgba(60, 64, 67, 0.15);\n",
              "      fill: #174EA6;\n",
              "    }\n",
              "\n",
              "    [theme=dark] .colab-df-convert {\n",
              "      background-color: #3B4455;\n",
              "      fill: #D2E3FC;\n",
              "    }\n",
              "\n",
              "    [theme=dark] .colab-df-convert:hover {\n",
              "      background-color: #434B5C;\n",
              "      box-shadow: 0px 1px 3px 1px rgba(0, 0, 0, 0.15);\n",
              "      filter: drop-shadow(0px 1px 2px rgba(0, 0, 0, 0.3));\n",
              "      fill: #FFFFFF;\n",
              "    }\n",
              "  </style>\n",
              "\n",
              "      <script>\n",
              "        const buttonEl =\n",
              "          document.querySelector('#df-e35242b7-f08e-49af-a4e1-0fa2de70a9ba button.colab-df-convert');\n",
              "        buttonEl.style.display =\n",
              "          google.colab.kernel.accessAllowed ? 'block' : 'none';\n",
              "\n",
              "        async function convertToInteractive(key) {\n",
              "          const element = document.querySelector('#df-e35242b7-f08e-49af-a4e1-0fa2de70a9ba');\n",
              "          const dataTable =\n",
              "            await google.colab.kernel.invokeFunction('convertToInteractive',\n",
              "                                                     [key], {});\n",
              "          if (!dataTable) return;\n",
              "\n",
              "          const docLinkHtml = 'Like what you see? Visit the ' +\n",
              "            '<a target=\"_blank\" href=https://colab.research.google.com/notebooks/data_table.ipynb>data table notebook</a>'\n",
              "            + ' to learn more about interactive tables.';\n",
              "          element.innerHTML = '';\n",
              "          dataTable['output_type'] = 'display_data';\n",
              "          await google.colab.output.renderOutput(dataTable, element);\n",
              "          const docLink = document.createElement('div');\n",
              "          docLink.innerHTML = docLinkHtml;\n",
              "          element.appendChild(docLink);\n",
              "        }\n",
              "      </script>\n",
              "    </div>\n",
              "  </div>\n",
              "  "
            ]
          },
          "metadata": {}
        }
      ],
      "source": [
        "!pip install yfinance -q\n",
        "\n",
        "# -- Importação de bibliotecas e dados\n",
        "import pandas as pd\n",
        "import yfinance as yf\n",
        "\n",
        "msft = yf.Ticker(\"BOVA11.SA\")\n",
        "\n",
        "# -- Dataset Histórico\n",
        "df = msft.history(interval='1d', start='2019-01-01', end='2022-07-28')\n",
        "df['diff'] = df['Close'] - df['Open']\n",
        "print(df.shape)\n",
        "display(df)"
      ]
    },
    {
      "cell_type": "markdown",
      "source": [
        "Importando as bibliotecas"
      ],
      "metadata": {
        "id": "wI6nMwqQywog"
      }
    },
    {
      "cell_type": "code",
      "source": [
        "import numpy as np\n",
        "import pandas as pd\n",
        "\n",
        "import datetime as dt\n",
        "#bibliotecas para gráficos 2D estáticos\n",
        "import seaborn as sns\n",
        "import matplotlib.pyplot as plt\n",
        "#biblioteca para gráficos interativos, pode fazer em 2D ou 3D\n",
        "#plotly.express --> fornece funções para visualizar uma variedade de gráficos com vários tipos de dados\n",
        "import plotly.express as px\n",
        "import plotly.graph_objects as go"
      ],
      "metadata": {
        "id": "0--1pBDmx-_B"
      },
      "execution_count": 58,
      "outputs": []
    },
    {
      "cell_type": "markdown",
      "source": [
        "Defina aspectos do tema visual para todos os gráficos matplotlib e seaborn usa-se a sns.set_theme(), pra deixar o aspecto visual mais bonito, pois os gráficos padrão do matplotlib são feios"
      ],
      "metadata": {
        "id": "wLVjlqer4isZ"
      }
    },
    {
      "cell_type": "code",
      "source": [
        "sns.set_theme(\n",
        "    context='talk', #deixar os gráficos numa escala com fontes maiores\n",
        "    style='ticks', #fundo branco\n",
        "    font_scale= 0.8, #ajuste tamanho da fonte\n",
        "    rc={\n",
        "        'figure.figsize': (10,6), #definir o padrão pro tamanho da figura\n",
        "        'axes.grid': True,\n",
        "        'grid.alpha':0.2\n",
        "    }\n",
        ")"
      ],
      "metadata": {
        "id": "R13zjMK2tG6B"
      },
      "execution_count": 59,
      "outputs": []
    },
    {
      "cell_type": "markdown",
      "source": [
        "1 - Calcule média, desvio padrão, e a moda da coluna dif?"
      ],
      "metadata": {
        "id": "tMO8DWno6pSJ"
      }
    },
    {
      "cell_type": "code",
      "source": [
        "#calculando a média\n",
        "df['diff'].mean()"
      ],
      "metadata": {
        "colab": {
          "base_uri": "https://localhost:8080/"
        },
        "id": "opTL_2JF8NrB",
        "outputId": "06e0d6ee-e44e-4193-e141-12cd283730c1"
      },
      "execution_count": 60,
      "outputs": [
        {
          "output_type": "execute_result",
          "data": {
            "text/plain": [
              "-0.07477434386518148"
            ]
          },
          "metadata": {},
          "execution_count": 60
        }
      ]
    },
    {
      "cell_type": "code",
      "source": [
        "#calculando desvio padrão\n",
        "df['diff'].std()"
      ],
      "metadata": {
        "colab": {
          "base_uri": "https://localhost:8080/"
        },
        "id": "2XaY3BCA8XVI",
        "outputId": "75b84b30-4a8f-47ac-af97-6c2f1d85c4a4"
      },
      "execution_count": 61,
      "outputs": [
        {
          "output_type": "execute_result",
          "data": {
            "text/plain": [
              "1.1631112620322424"
            ]
          },
          "metadata": {},
          "execution_count": 61
        }
      ]
    },
    {
      "cell_type": "code",
      "source": [
        "#calculando a moda\n",
        "df['diff'].mode().values"
      ],
      "metadata": {
        "colab": {
          "base_uri": "https://localhost:8080/"
        },
        "id": "s8Hx9gsA8bPA",
        "outputId": "c6c8731b-b097-4669-a014-4e3c9d574977"
      },
      "execution_count": 62,
      "outputs": [
        {
          "output_type": "execute_result",
          "data": {
            "text/plain": [
              "array([0.])"
            ]
          },
          "metadata": {},
          "execution_count": 62
        }
      ]
    },
    {
      "cell_type": "code",
      "source": [
        "# ou poderia passar tudo como uma lista usando a função agg(agrega todos os valores e transforma e um só). Porém não pega na moda\n",
        "df['diff'].agg(['mean','std'])"
      ],
      "metadata": {
        "colab": {
          "base_uri": "https://localhost:8080/"
        },
        "id": "WYHbKo3T9Ki5",
        "outputId": "e967f7ad-71b6-4acd-e464-d2b098b60cb3"
      },
      "execution_count": 63,
      "outputs": [
        {
          "output_type": "execute_result",
          "data": {
            "text/plain": [
              "mean   -0.074774\n",
              "std     1.163111\n",
              "Name: diff, dtype: float64"
            ]
          },
          "metadata": {},
          "execution_count": 63
        }
      ]
    },
    {
      "cell_type": "code",
      "source": [
        "#criar uma função para pegar a moda\n",
        "def mode(values):\n",
        "  return pd.Series.mode(values)[0]\n",
        "\n",
        "mode(df['diff'])"
      ],
      "metadata": {
        "colab": {
          "base_uri": "https://localhost:8080/"
        },
        "id": "trvPrecx93BJ",
        "outputId": "68bbe7c7-8f8a-466b-afbf-22357e804391"
      },
      "execution_count": 64,
      "outputs": [
        {
          "output_type": "execute_result",
          "data": {
            "text/plain": [
              "0.0"
            ]
          },
          "metadata": {},
          "execution_count": 64
        }
      ]
    },
    {
      "cell_type": "code",
      "source": [
        "#mostrando as três \n",
        "df['diff'].agg(['mean','std', mode])"
      ],
      "metadata": {
        "colab": {
          "base_uri": "https://localhost:8080/"
        },
        "id": "X9ASK2zA-brx",
        "outputId": "988b90e5-8f4d-4e18-eee2-48f6460d12fe"
      },
      "execution_count": 65,
      "outputs": [
        {
          "output_type": "execute_result",
          "data": {
            "text/plain": [
              "mean   -0.074774\n",
              "std     1.163111\n",
              "mode    0.000000\n",
              "Name: diff, dtype: float64"
            ]
          },
          "metadata": {},
          "execution_count": 65
        }
      ]
    },
    {
      "cell_type": "markdown",
      "source": [
        "2 - Construa um gráfico de boxplot do dif e responda, qual é (aproximadamente) o valor do outlier mais distante?"
      ],
      "metadata": {
        "id": "Uk-L-pHu-6CD"
      }
    },
    {
      "cell_type": "code",
      "source": [
        "df['diff'].plot.box()\n",
        "plt.show()"
      ],
      "metadata": {
        "colab": {
          "base_uri": "https://localhost:8080/",
          "height": 383
        },
        "id": "5O8wEFgI-67q",
        "outputId": "c006e1d4-3e47-4b58-f4a6-c4aa2f3c8248"
      },
      "execution_count": 66,
      "outputs": [
        {
          "output_type": "display_data",
          "data": {
            "text/plain": [
              "<Figure size 720x432 with 1 Axes>"
            ],
            "image/png": "[encoded data removed]"
          },
          "metadata": {}
        }
      ]
    },
    {
      "cell_type": "code",
      "source": [
        "#fazendo usando o seaborn\n",
        "sns.boxplot(data=df, y='diff')"
      ],
      "metadata": {
        "colab": {
          "base_uri": "https://localhost:8080/",
          "height": 383
        },
        "id": "rR8qNEkyaR-6",
        "outputId": "f24c6b7c-8f36-41bf-f803-83cc367d3a11"
      },
      "execution_count": 67,
      "outputs": [
        {
          "output_type": "execute_result",
          "data": {
            "text/plain": [
              "<matplotlib.axes._subplots.AxesSubplot at 0x7f81b82db9d0>"
            ]
          },
          "metadata": {},
          "execution_count": 67
        },
        {
          "output_type": "display_data",
          "data": {
            "text/plain": [
              "<Figure size 720x432 with 1 Axes>"
            ],
            "image/png": "[encoded data removed]"
          },
          "metadata": {}
        }
      ]
    },
    {
      "cell_type": "code",
      "source": [
        "#usando plotly.express as px\n",
        "px.box(data_frame=df, y='diff')"
      ],
      "metadata": {
        "colab": {
          "base_uri": "https://localhost:8080/",
          "height": 542
        },
        "id": "sTIIhkJOa1M7",
        "outputId": "c0b6736f-1660-4268-f88d-305f02dc88af"
      },
      "execution_count": 68,
      "outputs": [
        {
          "output_type": "display_data",
          "data": {
            "text/html": [
              "<html>\n",
              "<head><meta charset=\"utf-8\" /></head>\n",
              "<body>\n",
              "    <div>            <script src=\"https://cdnjs.cloudflare.com/ajax/libs/mathjax/2.7.5/MathJax.js?config=TeX-AMS-MML_SVG\"></script><script type=\"text/javascript\">if (window.MathJax) {MathJax.Hub.Config({SVG: {font: \"STIX-Web\"}});}</script>                <script type=\"text/javascript\">window.PlotlyConfig = {MathJaxConfig: 'local'};</script>\n",
              "        <script src=\"https://cdn.plot.ly/plotly-2.8.3.min.js\"></script>                <div id=\"93affffb-afba-4db7-9509-80eb222a6963\" class=\"plotly-graph-div\" style=\"height:525px; width:100%;\"></div>            <script type=\"text/javascript\">                                    window.PLOTLYENV=window.PLOTLYENV || {};                                    if (document.getElementById(\"93affffb-afba-4db7-9509-80eb222a6963\")) {                    Plotly.newPlot(                        \"93affffb-afba-4db7-9509-80eb222a6963\",                        [{\"alignmentgroup\":\"True\",\"hovertemplate\":\"diff=%{y}<extra></extra>\",\"legendgroup\":\"\",\"marker\":{\"color\":\"#636efa\"},\"name\":\"\",\"notched\":false,\"offsetgroup\":\"\",\"orientation\":\"v\",\"showlegend\":false,\"x0\":\" \",\"xaxis\":\"x\",\"y\":[3.3000030517578125,0.4499969482421875,0.3000030517578125,-0.1699981689453125,0.0800018310546875,1.0100021362304688,0.279998779296875,-0.12000274658203125,0.7099990844726562,-0.6299972534179688,0.5500030517578125,0.779998779296875,0.48000335693359375,0.15999603271484375,-0.80999755859375,1.0999984741210938,1.0699996948242188,-0.4199981689453125,-0.6100006103515625,0.07999420166015625,-0.26000213623046875,0.26000213623046875,1.029998779296875,0.20000457763671875,-2.5600051879882812,-1.0,1.2199935913085938,-1.3199996948242188,0.339996337890625,-0.43000030517578125,1.4899978637695312,-0.1100006103515625,-0.399993896484375,0.279998779296875,-1.4199981689453125,-0.0099945068359375,0.20999908447265625,-0.8400039672851562,0.1399993896484375,-0.28000640869140625,-2.0500030517578125,-1.3199996948242188,-0.8199996948242188,0.0,1.2699966430664062,2.5300064086914062,-0.34999847412109375,1.05999755859375,-0.5400009155273438,0.48999786376953125,0.5999984741210938,-0.43000030517578125,-1.5999984741210938,-1.2999954223632812,-1.4499969482421875,0.37999725341796875,0.9000015258789062,-2.75,2.2899932861328125,-0.31999969482421875,-0.5699996948242188,-1.2099990844726562,-1.5799942016601562,1.3700027465820312,0.45999908447265625,0.15000152587890625,-0.75,-0.7099990844726562,-1.100006103515625,-0.8199996948242188,-0.1300048828125,1.1999969482421875,-1.25,0.7600021362304688,0.1999969482421875,0.7700042724609375,-1.0800018310546875,1.4000015258789062,-0.17000579833984375,-0.23999786376953125,0.0099945068359375,-0.029998779296875,0.20999908447265625,0.12000274658203125,-0.1199951171875,0.80999755859375,-0.21999359130859375,-0.529998779296875,-0.9800033569335938,-1.2399978637695312,0.03000640869140625,-1.0500030517578125,0.2299957275390625,2.0600051879882812,1.9900054931640625,-1.0400009155273438,0.029998779296875,-0.80999755859375,0.5500030517578125,1.0699996948242188,0.6299972534179688,0.8899993896484375,-0.06000518798828125,-0.529998779296875,-0.20999908447265625,-1.5,0.31999969482421875,0.20000457763671875,0.0,0.970001220703125,-0.6399993896484375,0.0800018310546875,-0.5799942016601562,0.01000213623046875,0.31999969482421875,0.8600006103515625,0.9000015258789062,0.0,-1.8000030517578125,-0.1100006103515625,0.6200027465820312,-0.5100021362304688,-1.1500015258789062,-0.9300003051757812,0.6200027465820312,0.0,0.779998779296875,0.07999420166015625,0.15999603271484375,-0.75,-1.5999984741210938,-0.7600021362304688,-0.470001220703125,-0.15000152587890625,0.48999786376953125,-1.0500030517578125,0.0,-0.31000518798828125,0.26999664306640625,-1.5499954223632812,-0.2299957275390625,0.40999603271484375,-0.30999755859375,-1.4300003051757812,-0.15000152587890625,0.26999664306640625,-0.6299972534179688,1.1399993896484375,1.9000015258789062,0.80999755859375,0.23999786376953125,-0.839996337890625,1.3899993896484375,-1.839996337890625,-1.8400039672851562,-0.5699996948242188,-0.9500045776367188,-0.29000091552734375,1.1599960327148438,-1.2000045776367188,-1.5800018310546875,-1.9000015258789062,0.45999908447265625,1.5400009155273438,1.8300018310546875,0.0800018310546875,-0.7599945068359375,-0.7900009155273438,0.06999969482421875,0.42000579833984375,0.06999969482421875,-0.1699981689453125,-0.18000030517578125,-0.0500030517578125,0.05999755859375,-1.2099990844726562,-0.07999420166015625,1.279998779296875,0.07999420166015625,-1.0099945068359375,0.1100006103515625,0.29999542236328125,-0.910003662109375,0.649993896484375,0.5,-0.160003662109375,-0.23999786376953125,-0.94000244140625,-2.0100021362304688,0.12000274658203125,0.8899993896484375,-1.75,-0.839996337890625,0.339996337890625,0.279998779296875,1.1100006103515625,0.6999969482421875,0.2400054931640625,0.8499984741210938,-0.26999664306640625,-0.30999755859375,0.5500030517578125,1.2399978637695312,0.160003662109375,-0.660003662109375,0.06999969482421875,0.5699996948242188,-0.40000152587890625,0.8400039672851562,-0.6399993896484375,0.4199981689453125,0.18000030517578125,-0.29000091552734375,-0.5999984741210938,0.5499954223632812,-1.0999984741210938,1.1599960327148438,-1.4500045776367188,0.04000091552734375,0.2700042724609375,-1.9499969482421875,-0.7099990844726562,1.4499969482421875,1.029998779296875,-0.5400009155273438,-0.6899948120117188,0.37999725341796875,0.9199981689453125,-0.029998779296875,0.20999908447265625,-0.15000152587890625,0.7999954223632812,0.2400054931640625,0.43000030517578125,-0.19000244140625,-0.05999755859375,-0.06999969482421875,0.6399993896484375,-0.04000091552734375,-0.8300018310546875,-0.07999420166015625,1.8100051879882812,0.839996337890625,0.01999664306640625,0.8699951171875,1.1999969482421875,-0.8300018310546875,-1.5499954223632812,1.7900009155273438,0.8700027465820312,-0.410003662109375,-0.660003662109375,-0.7000045776367188,-0.2899932861328125,-1.1200027465820312,1.5800018310546875,0.5699996948242188,-0.8199996948242188,-0.34999847412109375,1.4499969482421875,0.6200027465820312,-1.220001220703125,0.7999954223632812,1.7099990844726562,-1.2099990844726562,-1.4099960327148438,0.9200057983398438,-1.7800064086914062,1.2099990844726562,-0.09999847412109375,0.720001220703125,-0.9000015258789062,-0.9900054931640625,-1.6500015258789062,-0.7700042724609375,-0.5100021362304688,1.5,0.399993896484375,-0.48999786376953125,-1.1500015258789062,0.09000396728515625,0.9899978637695312,1.0800018310546875,-1.7600021362304688,0.649993896484375,-2.5,-0.8800048828125,1.6599960327148438,2.1399993896484375,-1.2099990844726562,-0.8899993896484375,-3.2099990844726562,-0.4199981689453125,-5.650001525878906,2.0099945068359375,-3.9300003051757812,-0.48999786376953125,-0.48000335693359375,-0.6100006103515625,0.0,-1.7900009155273438,2.0999984741210938,-3.8000030517578125,-4.209999084472656,1.3800048828125,3.8400039672851562,2.80999755859375,-0.9300003051757812,0.9500045776367188,-2.160003662109375,0.410003662109375,0.29999542236328125,-2.970001220703125,0.779998779296875,-2.9599990844726562,2.0200042724609375,-1.4099960327148438,1.44000244140625,-0.5999984741210938,0.850006103515625,-2.0100021362304688,-0.45999908447265625,1.5,1.6999969482421875,-1.7099990844726562,-2.9899978637695312,1.0100021362304688,0.5900039672851562,0.48999786376953125,-1.3700027465820312,0.9300003051757812,-0.45999908447265625,-0.6200027465820312,-1.6800003051757812,0.48999786376953125,-0.55999755859375,-1.779998779296875,-0.5400009155273438,2.0100021362304688,-1.1399993896484375,0.7900009155273438,-0.6899948120117188,0.1399993896484375,1.3800048828125,0.9599990844726562,0.9000015258789062,-1.5300064086914062,1.2399978637695312,-0.5800018310546875,0.5600051879882812,1.7300033569335938,1.779998779296875,0.17000579833984375,1.2399978637695312,-2.0199966430664062,1.4799957275390625,0.55999755859375,-2.779998779296875,0.7300033569335938,1.8199996948242188,-1.4000015258789062,1.4099960327148438,1.3899993896484375,-1.160003662109375,-1.470001220703125,-0.839996337890625,-1.2800064086914062,1.5999984741210938,-1.6500015258789062,1.1500015258789062,-0.15999603271484375,0.8000030517578125,-1.3000030517578125,0.75,0.5400009155273438,-0.8100051879882812,1.1599960327148438,-0.8699951171875,0.8899993896484375,-1.839996337890625,1.5,0.3300018310546875,-0.7300033569335938,1.7099990844726562,1.3799972534179688,-0.94000244140625,-0.19000244140625,-1.9799957275390625,0.2899932861328125,1.529998779296875,-0.1999969482421875,0.5500030517578125,0.55999755859375,-2.1100006103515625,-0.7600021362304688,-0.31000518798828125,-0.04000091552734375,0.9899978637695312,-0.06999969482421875,0.45000457763671875,-2.0600051879882812,-0.5800018310546875,-2.3600006103515625,0.5200042724609375,-1.4599990844726562,0.7399978637695312,-1.4599990844726562,2.4300003051757812,0.279998779296875,0.01999664306640625,-0.470001220703125,-1.5100021362304688,-0.1999969482421875,1.0300064086914062,-1.910003662109375,1.7699966430664062,-0.43999481201171875,-0.9300003051757812,-0.160003662109375,0.7100067138671875,0.4499969482421875,-2.4499969482421875,-0.839996337890625,1.0900039672851562,-0.5,-0.80999755859375,1.1700057983398438,-1.2099990844726562,0.01000213623046875,0.5,-1.6699981689453125,1.0400009155273438,0.660003662109375,-3.0500030517578125,-1.1200027465820312,0.5,0.57000732421875,-1.1599960327148438,1.779998779296875,-1.2000045776367188,-0.4600067138671875,2.089996337890625,-0.4799957275390625,0.7000045776367188,0.5799942016601562,0.9799957275390625,-0.5800018310546875,-0.05999755859375,1.1699981689453125,0.1100006103515625,1.3799972534179688,-0.6199951171875,0.23000335693359375,-1.7300033569335938,-2.44000244140625,1.2300033569335938,-1.5699996948242188,0.17000579833984375,0.6500015258789062,1.1800003051757812,1.100006103515625,-0.8899993896484375,1.0699996948242188,0.0800018310546875,-1.9500045776367188,1.44000244140625,0.4900054931640625,1.029998779296875,-1.4000015258789062,0.5800018310546875,0.5,2.0500030517578125,0.3600006103515625,0.6299972534179688,0.1399993896484375,-1.0,0.5699996948242188,0.410003662109375,0.12000274658203125,0.6299972534179688,-0.100006103515625,0.45000457763671875,-0.7400054931640625,1.3899993896484375,0.9500045776367188,-1.0400009155273438,1.5600051879882812,1.6500015258789062,0.5499954223632812,-0.29000091552734375,-0.19000244140625,0.6299972534179688,0.589996337890625,0.6999969482421875,-0.029998779296875,-0.6699981689453125,-1.5100021362304688,0.69000244140625,0.9900054931640625,3.5100021362304688,1.910003662109375,-0.43000030517578125,0.6599960327148438,-2.0800018310546875,0.410003662109375,-1.720001220703125,-0.1699981689453125,-1.3799972534179688,-1.4599990844726562,-1.1700057983398438,0.9599990844726562,-0.8300018310546875,-0.1100006103515625,3.2300033569335938,-2.529998779296875,0.40999603271484375,-0.6500015258789062,0.8499984741210938,-0.9599990844726562,0.48999786376953125,-0.23000335693359375,0.0,-1.3600006103515625,0.1699981689453125,0.7600021362304688,1.3300018310546875,-1.1399993896484375,-0.160003662109375,-1.7399978637695312,1.2900009155273438,-0.1100006103515625,-3.410003662109375,-2.8100051879882812,-1.470001220703125,2.5100021362304688,0.160003662109375,1.1800003051757812,2.5999984741210938,-3.410003662109375,1.0,1.029998779296875,0.8600006103515625,0.0,0.0,0.0,0.0,0.0,0.0,0.0,0.0,0.0,0.0,0.0,0.0,0.0,0.0,0.0,0.0,0.0,0.0,0.4499969482421875,-0.18999481201171875,0.6300048828125,0.5099945068359375,0.6800003051757812,0.0399932861328125,0.5400009155273438,-0.12000274658203125,-0.6199951171875,-1.4500045776367188,0.3899993896484375,-0.7800064086914062,-1.2399978637695312,0.9199981689453125,-1.30999755859375,-0.37999725341796875,-0.6200027465820312,-1.5300064086914062,1.0999984741210938,0.45999908447265625,1.6999969482421875,-0.6100006103515625,2.1299972534179688,-1.5900039672851562,0.43000030517578125,0.05999755859375,1.2399978637695312,0.100006103515625,0.94000244140625,-0.1399993896484375,0.0,1.0,-1.4899978637695312,0.29999542236328125,0.12999725341796875,0.970001220703125,0.410003662109375,0.8400039672851562,1.1599960327148438,0.5900039672851562,0.9499969482421875,-0.7900009155273438,-0.03000640869140625,-0.3600006103515625,-1.089996337890625,-0.1399993896484375,0.01000213623046875,-1.1599960327148438,-1.1200027465820312,-0.12000274658203125,1.0100021362304688,0.05999755859375,-0.279998779296875,-0.20999908447265625,-2.4300003051757812,-0.12000274658203125,-0.2400054931640625,-0.06000518798828125,-1.3899993896484375,1.0699996948242188,-0.6100006103515625,-1.1999969482421875,0.779998779296875,0.6300048828125,1.339996337890625,1.1200027465820312,-0.8300018310546875,-0.43000030517578125,-1.8600006103515625,0.23999786376953125,1.220001220703125,0.470001220703125,0.34999847412109375,-1.1300048828125,0.8799972534179688,-0.9799957275390625,0.5499954223632812,-0.6899948120117188,-2.5400009155273438,-1.279998779296875,0.94000244140625,-1.25,-1.30999755859375,0.839996337890625,0.7399978637695312,-0.9300003051757812,-0.2299957275390625,-1.4199981689453125,0.1100006103515625,-1.5500030517578125,-0.9500045776367188,-1.0,2.029998779296875,2.160003662109375,-0.5999984741210938,1.0799942016601562,1.029998779296875,-1.5900039672851562,1.529998779296875,-0.6699981689453125,-0.9000015258789062,0.6500015258789062,-1.9899978637695312,-0.9200057983398438,1.4800033569335938,-4.1100006103515625,1.9599990844726562,-2.4200057983398438,0.44000244140625,-0.31999969482421875,-1.05999755859375,-0.32999420166015625,-2.0400009155273438,-0.48000335693359375,0.46999359130859375,0.3899993896484375,1.3300018310546875,0.4199981689453125,-0.04000091552734375,-2.7399978637695312,-0.04999542236328125,-0.8600006103515625,1.4799957275390625,-1.3300018310546875,-0.1100006103515625,1.660003662109375,-0.31000518798828125,0.5699996948242188,-0.910003662109375,1.2099990844726562,-0.4799957275390625,1.1699981689453125,1.149993896484375,-1.529998779296875,-0.45999908447265625,-0.839996337890625,-0.12999725341796875,0.8100051879882812,-1.1200027465820312,-0.75,-1.2299957275390625,-2.30999755859375,0.7599945068359375,1.1999969482421875,-1.8699951171875,0.30999755859375,0.7099990844726562,0.40999603271484375,0.7599945068359375,0.01000213623046875,-1.1700057983398438,-2.3700027465820312,-2.25,-0.720001220703125,0.4799957275390625,-1.2900009155273438,0.8300018310546875,1.5200042724609375,0.9799957275390625,-1.0,-0.6299972534179688,-0.23999786376953125,-2.1700057983398438,1.9800033569335938,0.45999908447265625,1.0199966430664062,-0.8700027465820312,0.34999847412109375,-1.2300033569335938,0.1300048828125,-0.40000152587890625,-1.8899993896484375,0.5,-0.089996337890625,-0.279998779296875,-0.9800033569335938,-0.470001220703125,-0.26999664306640625,-0.75,0.1999969482421875,-0.7700042724609375,-0.9899978637695312,-0.0099945068359375,-1.55999755859375,-0.8899993896484375,-2.19000244140625,0.20999908447265625,0.9099960327148438,0.470001220703125,1.970001220703125,1.6100006103515625,0.350006103515625,1.470001220703125,0.04000091552734375,0.5800018310546875,0.20000457763671875,0.3300018310546875,0.23999786376953125,-0.40999603271484375,2.910003662109375,-0.04000091552734375,-0.06000518798828125,-0.15999603271484375,0.69000244140625,0.910003662109375,-1.399993896484375,-0.2700042724609375,0.589996337890625,-0.04999542236328125,1.19000244140625,0.3800048828125,0.30999755859375,-0.5900039672851562,-0.14000701904296875,0.6599960327148438,-0.29000091552734375,-1.4800033569335938,-1.3499984741210938,-1.5,0.089996337890625,-1.4499969482421875,2.2400054931640625,1.8499984741210938,0.9000015258789062,-0.06999969482421875,-0.26000213623046875,-2.8899993896484375,-0.589996337890625,1.7600021362304688,0.3300018310546875,-2.4300003051757812,-2.1500015258789062,-0.1100006103515625,1.1399993896484375,1.3700027465820312,2.19000244140625,0.75,0.43000030517578125,-0.2299957275390625,1.3899993896484375,-0.25,-0.37999725341796875,-0.06999969482421875,0.09999847412109375,-0.31000518798828125,0.6199951171875,-0.04999542236328125,-2.1999969482421875,-0.25,1.3800048828125,0.03000640869140625,-0.279998779296875,-2.2000045776367188,-0.0800018310546875,-0.34999847412109375,-0.160003662109375,0.15999603271484375,-0.46999359130859375,-2.6200027465820312,0.9800033569335938,-1.6200027465820312,-0.410003662109375,-0.1999969482421875,-3.8899993896484375,-0.9499969482421875,-0.12999725341796875,2.4099960327148438,-1.69000244140625,-0.2899932861328125,-0.12000274658203125,-0.9200057983398438,1.029998779296875,2.0400009155273438,0.9500045776367188,1.0400009155273438,-0.6500015258789062,-2.5699996948242188,0.6699981689453125,0.160003662109375,1.2900009155273438,1.4000015258789062,0.470001220703125,1.3499984741210938,0.1699981689453125,-1.779998779296875,-0.55999755859375,0.1399993896484375,0.0800018310546875,-0.4199981689453125,-1.19000244140625,0.2700042724609375,-0.6300048828125,-0.5100021362304688,-0.5800018310546875,-0.9799957275390625,-0.8600006103515625,-0.23000335693359375,-1.3799972534179688,0.09000396728515625,-0.6699981689453125,0.7900009155273438,-1.7999954223632812,-0.0800018310546875,1.2900009155273438,-1.0199966430664062,-1.3700027465820312,0.5,1.2699966430664062,0.20999908447265625,0.3800048828125,0.839996337890625,0.7599945068359375,-0.6399993896484375,-0.55999755859375,0.6300048828125,0.31000518798828125,-0.4799957275390625,0.3899993896484375,-0.6299972534179688,0.9799957275390625,0.75,1.3600006103515625,-0.37000274658203125,0.44000244140625,-0.7299957275390625,1.0600051879882812],\"y0\":\" \",\"yaxis\":\"y\",\"type\":\"box\"}],                        {\"template\":{\"data\":{\"bar\":[{\"error_x\":{\"color\":\"#2a3f5f\"},\"error_y\":{\"color\":\"#2a3f5f\"},\"marker\":{\"line\":{\"color\":\"#E5ECF6\",\"width\":0.5},\"pattern\":{\"fillmode\":\"overlay\",\"size\":10,\"solidity\":0.2}},\"type\":\"bar\"}],\"barpolar\":[{\"marker\":{\"line\":{\"color\":\"#E5ECF6\",\"width\":0.5},\"pattern\":{\"fillmode\":\"overlay\",\"size\":10,\"solidity\":0.2}},\"type\":\"barpolar\"}],\"carpet\":[{\"aaxis\":{\"endlinecolor\":\"#2a3f5f\",\"gridcolor\":\"white\",\"linecolor\":\"white\",\"minorgridcolor\":\"white\",\"startlinecolor\":\"#2a3f5f\"},\"baxis\":{\"endlinecolor\":\"#2a3f5f\",\"gridcolor\":\"white\",\"linecolor\":\"white\",\"minorgridcolor\":\"white\",\"startlinecolor\":\"#2a3f5f\"},\"type\":\"carpet\"}],\"choropleth\":[{\"colorbar\":{\"outlinewidth\":0,\"ticks\":\"\"},\"type\":\"choropleth\"}],\"contour\":[{\"colorbar\":{\"outlinewidth\":0,\"ticks\":\"\"},\"colorscale\":[[0.0,\"#0d0887\"],[0.1111111111111111,\"#46039f\"],[0.2222222222222222,\"#7201a8\"],[0.3333333333333333,\"#9c179e\"],[0.4444444444444444,\"#bd3786\"],[0.5555555555555556,\"#d8576b\"],[0.6666666666666666,\"#ed7953\"],[0.7777777777777778,\"#fb9f3a\"],[0.8888888888888888,\"#fdca26\"],[1.0,\"#f0f921\"]],\"type\":\"contour\"}],\"contourcarpet\":[{\"colorbar\":{\"outlinewidth\":0,\"ticks\":\"\"},\"type\":\"contourcarpet\"}],\"heatmap\":[{\"colorbar\":{\"outlinewidth\":0,\"ticks\":\"\"},\"colorscale\":[[0.0,\"#0d0887\"],[0.1111111111111111,\"#46039f\"],[0.2222222222222222,\"#7201a8\"],[0.3333333333333333,\"#9c179e\"],[0.4444444444444444,\"#bd3786\"],[0.5555555555555556,\"#d8576b\"],[0.6666666666666666,\"#ed7953\"],[0.7777777777777778,\"#fb9f3a\"],[0.8888888888888888,\"#fdca26\"],[1.0,\"#f0f921\"]],\"type\":\"heatmap\"}],\"heatmapgl\":[{\"colorbar\":{\"outlinewidth\":0,\"ticks\":\"\"},\"colorscale\":[[0.0,\"#0d0887\"],[0.1111111111111111,\"#46039f\"],[0.2222222222222222,\"#7201a8\"],[0.3333333333333333,\"#9c179e\"],[0.4444444444444444,\"#bd3786\"],[0.5555555555555556,\"#d8576b\"],[0.6666666666666666,\"#ed7953\"],[0.7777777777777778,\"#fb9f3a\"],[0.8888888888888888,\"#fdca26\"],[1.0,\"#f0f921\"]],\"type\":\"heatmapgl\"}],\"histogram\":[{\"marker\":{\"pattern\":{\"fillmode\":\"overlay\",\"size\":10,\"solidity\":0.2}},\"type\":\"histogram\"}],\"histogram2d\":[{\"colorbar\":{\"outlinewidth\":0,\"ticks\":\"\"},\"colorscale\":[[0.0,\"#0d0887\"],[0.1111111111111111,\"#46039f\"],[0.2222222222222222,\"#7201a8\"],[0.3333333333333333,\"#9c179e\"],[0.4444444444444444,\"#bd3786\"],[0.5555555555555556,\"#d8576b\"],[0.6666666666666666,\"#ed7953\"],[0.7777777777777778,\"#fb9f3a\"],[0.8888888888888888,\"#fdca26\"],[1.0,\"#f0f921\"]],\"type\":\"histogram2d\"}],\"histogram2dcontour\":[{\"colorbar\":{\"outlinewidth\":0,\"ticks\":\"\"},\"colorscale\":[[0.0,\"#0d0887\"],[0.1111111111111111,\"#46039f\"],[0.2222222222222222,\"#7201a8\"],[0.3333333333333333,\"#9c179e\"],[0.4444444444444444,\"#bd3786\"],[0.5555555555555556,\"#d8576b\"],[0.6666666666666666,\"#ed7953\"],[0.7777777777777778,\"#fb9f3a\"],[0.8888888888888888,\"#fdca26\"],[1.0,\"#f0f921\"]],\"type\":\"histogram2dcontour\"}],\"mesh3d\":[{\"colorbar\":{\"outlinewidth\":0,\"ticks\":\"\"},\"type\":\"mesh3d\"}],\"parcoords\":[{\"line\":{\"colorbar\":{\"outlinewidth\":0,\"ticks\":\"\"}},\"type\":\"parcoords\"}],\"pie\":[{\"automargin\":true,\"type\":\"pie\"}],\"scatter\":[{\"marker\":{\"colorbar\":{\"outlinewidth\":0,\"ticks\":\"\"}},\"type\":\"scatter\"}],\"scatter3d\":[{\"line\":{\"colorbar\":{\"outlinewidth\":0,\"ticks\":\"\"}},\"marker\":{\"colorbar\":{\"outlinewidth\":0,\"ticks\":\"\"}},\"type\":\"scatter3d\"}],\"scattercarpet\":[{\"marker\":{\"colorbar\":{\"outlinewidth\":0,\"ticks\":\"\"}},\"type\":\"scattercarpet\"}],\"scattergeo\":[{\"marker\":{\"colorbar\":{\"outlinewidth\":0,\"ticks\":\"\"}},\"type\":\"scattergeo\"}],\"scattergl\":[{\"marker\":{\"colorbar\":{\"outlinewidth\":0,\"ticks\":\"\"}},\"type\":\"scattergl\"}],\"scattermapbox\":[{\"marker\":{\"colorbar\":{\"outlinewidth\":0,\"ticks\":\"\"}},\"type\":\"scattermapbox\"}],\"scatterpolar\":[{\"marker\":{\"colorbar\":{\"outlinewidth\":0,\"ticks\":\"\"}},\"type\":\"scatterpolar\"}],\"scatterpolargl\":[{\"marker\":{\"colorbar\":{\"outlinewidth\":0,\"ticks\":\"\"}},\"type\":\"scatterpolargl\"}],\"scatterternary\":[{\"marker\":{\"colorbar\":{\"outlinewidth\":0,\"ticks\":\"\"}},\"type\":\"scatterternary\"}],\"surface\":[{\"colorbar\":{\"outlinewidth\":0,\"ticks\":\"\"},\"colorscale\":[[0.0,\"#0d0887\"],[0.1111111111111111,\"#46039f\"],[0.2222222222222222,\"#7201a8\"],[0.3333333333333333,\"#9c179e\"],[0.4444444444444444,\"#bd3786\"],[0.5555555555555556,\"#d8576b\"],[0.6666666666666666,\"#ed7953\"],[0.7777777777777778,\"#fb9f3a\"],[0.8888888888888888,\"#fdca26\"],[1.0,\"#f0f921\"]],\"type\":\"surface\"}],\"table\":[{\"cells\":{\"fill\":{\"color\":\"#EBF0F8\"},\"line\":{\"color\":\"white\"}},\"header\":{\"fill\":{\"color\":\"#C8D4E3\"},\"line\":{\"color\":\"white\"}},\"type\":\"table\"}]},\"layout\":{\"annotationdefaults\":{\"arrowcolor\":\"#2a3f5f\",\"arrowhead\":0,\"arrowwidth\":1},\"autotypenumbers\":\"strict\",\"coloraxis\":{\"colorbar\":{\"outlinewidth\":0,\"ticks\":\"\"}},\"colorscale\":{\"diverging\":[[0,\"#8e0152\"],[0.1,\"#c51b7d\"],[0.2,\"#de77ae\"],[0.3,\"#f1b6da\"],[0.4,\"#fde0ef\"],[0.5,\"#f7f7f7\"],[0.6,\"#e6f5d0\"],[0.7,\"#b8e186\"],[0.8,\"#7fbc41\"],[0.9,\"#4d9221\"],[1,\"#276419\"]],\"sequential\":[[0.0,\"#0d0887\"],[0.1111111111111111,\"#46039f\"],[0.2222222222222222,\"#7201a8\"],[0.3333333333333333,\"#9c179e\"],[0.4444444444444444,\"#bd3786\"],[0.5555555555555556,\"#d8576b\"],[0.6666666666666666,\"#ed7953\"],[0.7777777777777778,\"#fb9f3a\"],[0.8888888888888888,\"#fdca26\"],[1.0,\"#f0f921\"]],\"sequentialminus\":[[0.0,\"#0d0887\"],[0.1111111111111111,\"#46039f\"],[0.2222222222222222,\"#7201a8\"],[0.3333333333333333,\"#9c179e\"],[0.4444444444444444,\"#bd3786\"],[0.5555555555555556,\"#d8576b\"],[0.6666666666666666,\"#ed7953\"],[0.7777777777777778,\"#fb9f3a\"],[0.8888888888888888,\"#fdca26\"],[1.0,\"#f0f921\"]]},\"colorway\":[\"#636efa\",\"#EF553B\",\"#00cc96\",\"#ab63fa\",\"#FFA15A\",\"#19d3f3\",\"#FF6692\",\"#B6E880\",\"#FF97FF\",\"#FECB52\"],\"font\":{\"color\":\"#2a3f5f\"},\"geo\":{\"bgcolor\":\"white\",\"lakecolor\":\"white\",\"landcolor\":\"#E5ECF6\",\"showlakes\":true,\"showland\":true,\"subunitcolor\":\"white\"},\"hoverlabel\":{\"align\":\"left\"},\"hovermode\":\"closest\",\"mapbox\":{\"style\":\"light\"},\"paper_bgcolor\":\"white\",\"plot_bgcolor\":\"#E5ECF6\",\"polar\":{\"angularaxis\":{\"gridcolor\":\"white\",\"linecolor\":\"white\",\"ticks\":\"\"},\"bgcolor\":\"#E5ECF6\",\"radialaxis\":{\"gridcolor\":\"white\",\"linecolor\":\"white\",\"ticks\":\"\"}},\"scene\":{\"xaxis\":{\"backgroundcolor\":\"#E5ECF6\",\"gridcolor\":\"white\",\"gridwidth\":2,\"linecolor\":\"white\",\"showbackground\":true,\"ticks\":\"\",\"zerolinecolor\":\"white\"},\"yaxis\":{\"backgroundcolor\":\"#E5ECF6\",\"gridcolor\":\"white\",\"gridwidth\":2,\"linecolor\":\"white\",\"showbackground\":true,\"ticks\":\"\",\"zerolinecolor\":\"white\"},\"zaxis\":{\"backgroundcolor\":\"#E5ECF6\",\"gridcolor\":\"white\",\"gridwidth\":2,\"linecolor\":\"white\",\"showbackground\":true,\"ticks\":\"\",\"zerolinecolor\":\"white\"}},\"shapedefaults\":{\"line\":{\"color\":\"#2a3f5f\"}},\"ternary\":{\"aaxis\":{\"gridcolor\":\"white\",\"linecolor\":\"white\",\"ticks\":\"\"},\"baxis\":{\"gridcolor\":\"white\",\"linecolor\":\"white\",\"ticks\":\"\"},\"bgcolor\":\"#E5ECF6\",\"caxis\":{\"gridcolor\":\"white\",\"linecolor\":\"white\",\"ticks\":\"\"}},\"title\":{\"x\":0.05},\"xaxis\":{\"automargin\":true,\"gridcolor\":\"white\",\"linecolor\":\"white\",\"ticks\":\"\",\"title\":{\"standoff\":15},\"zerolinecolor\":\"white\",\"zerolinewidth\":2},\"yaxis\":{\"automargin\":true,\"gridcolor\":\"white\",\"linecolor\":\"white\",\"ticks\":\"\",\"title\":{\"standoff\":15},\"zerolinecolor\":\"white\",\"zerolinewidth\":2}}},\"xaxis\":{\"anchor\":\"y\",\"domain\":[0.0,1.0]},\"yaxis\":{\"anchor\":\"x\",\"domain\":[0.0,1.0],\"title\":{\"text\":\"diff\"}},\"legend\":{\"tracegroupgap\":0},\"margin\":{\"t\":60},\"boxmode\":\"group\"},                        {\"responsive\": true}                    ).then(function(){\n",
              "                            \n",
              "var gd = document.getElementById('93affffb-afba-4db7-9509-80eb222a6963');\n",
              "var x = new MutationObserver(function (mutations, observer) {{\n",
              "        var display = window.getComputedStyle(gd).display;\n",
              "        if (!display || display === 'none') {{\n",
              "            console.log([gd, 'removed!']);\n",
              "            Plotly.purge(gd);\n",
              "            observer.disconnect();\n",
              "        }}\n",
              "}});\n",
              "\n",
              "// Listen for the removal of the full notebook cells\n",
              "var notebookContainer = gd.closest('#notebook-container');\n",
              "if (notebookContainer) {{\n",
              "    x.observe(notebookContainer, {childList: true});\n",
              "}}\n",
              "\n",
              "// Listen for the clearing of the current output cell\n",
              "var outputEl = gd.closest('.output');\n",
              "if (outputEl) {{\n",
              "    x.observe(outputEl, {childList: true});\n",
              "}}\n",
              "\n",
              "                        })                };                            </script>        </div>\n",
              "</body>\n",
              "</html>"
            ]
          },
          "metadata": {}
        }
      ]
    },
    {
      "cell_type": "markdown",
      "source": [
        "3 - Calcule a maior amplitude do dia (High - Low), qual seria a média e variância dessa amplitude para os dados?"
      ],
      "metadata": {
        "id": "3dDpypbhKxYq"
      }
    },
    {
      "cell_type": "code",
      "source": [
        "df['amplitude'] = df.High  - df.Low # ou posso escrever df['amplitude'] = df['High'] - df['Low']\n",
        "display(df)"
      ],
      "metadata": {
        "colab": {
          "base_uri": "https://localhost:8080/",
          "height": 455
        },
        "id": "-TINVB_BKuLj",
        "outputId": "174251bd-94be-4d85-92de-94d3daffb98b"
      },
      "execution_count": 69,
      "outputs": [
        {
          "output_type": "display_data",
          "data": {
            "text/plain": [
              "                                Open       High        Low      Close  \\\n",
              "Date                                                                    \n",
              "2019-01-02 00:00:00-02:00  84.599998  88.260002  84.349998  87.900002   \n",
              "2019-01-03 00:00:00-02:00  87.550003  88.400002  86.800003  88.000000   \n",
              "2019-01-04 00:00:00-02:00  88.199997  89.449997  87.629997  88.500000   \n",
              "2019-01-07 00:00:00-02:00  88.650002  89.320000  88.059998  88.480003   \n",
              "2019-01-08 00:00:00-02:00  88.750000  88.970001  87.870003  88.830002   \n",
              "...                              ...        ...        ...        ...   \n",
              "2022-07-21 00:00:00-03:00  93.989998  95.529999  93.620003  95.349998   \n",
              "2022-07-22 00:00:00-03:00  95.790001  96.160004  94.820000  95.419998   \n",
              "2022-07-25 00:00:00-03:00  96.309998  96.930000  96.029999  96.750000   \n",
              "2022-07-26 00:00:00-03:00  96.879997  97.160004  95.849998  96.150002   \n",
              "2022-07-27 00:00:00-03:00  96.769997  97.940002  96.459999  97.830002   \n",
              "\n",
              "                            Volume  Dividends  Stock Splits      diff  \\\n",
              "Date                                                                    \n",
              "2019-01-02 00:00:00-02:00  5021260          0             0  3.300003   \n",
              "2019-01-03 00:00:00-02:00  4300220          0             0  0.449997   \n",
              "2019-01-04 00:00:00-02:00  2449750          0             0  0.300003   \n",
              "2019-01-07 00:00:00-02:00  2891360          0             0 -0.169998   \n",
              "2019-01-08 00:00:00-02:00  3441770          0             0  0.080002   \n",
              "...                            ...        ...           ...       ...   \n",
              "2022-07-21 00:00:00-03:00  7765854          0             0  1.360001   \n",
              "2022-07-22 00:00:00-03:00  5037163          0             0 -0.370003   \n",
              "2022-07-25 00:00:00-03:00  4192244          0             0  0.440002   \n",
              "2022-07-26 00:00:00-03:00  4780077          0             0 -0.729996   \n",
              "2022-07-27 00:00:00-03:00  4846166          0             0  1.060005   \n",
              "\n",
              "                           amplitude  \n",
              "Date                                  \n",
              "2019-01-02 00:00:00-02:00   3.910004  \n",
              "2019-01-03 00:00:00-02:00   1.599998  \n",
              "2019-01-04 00:00:00-02:00   1.820000  \n",
              "2019-01-07 00:00:00-02:00   1.260002  \n",
              "2019-01-08 00:00:00-02:00   1.099998  \n",
              "...                              ...  \n",
              "2022-07-21 00:00:00-03:00   1.909996  \n",
              "2022-07-22 00:00:00-03:00   1.340004  \n",
              "2022-07-25 00:00:00-03:00   0.900002  \n",
              "2022-07-26 00:00:00-03:00   1.310005  \n",
              "2022-07-27 00:00:00-03:00   1.480003  \n",
              "\n",
              "[886 rows x 9 columns]"
            ],
            "text/html": [
              "\n",
              "  <div id=\"df-f2da6f0e-86e5-4ee3-8186-15b096c6edc3\">\n",
              "    <div class=\"colab-df-container\">\n",
              "      <div>\n",
              "<style scoped>\n",
              "    .dataframe tbody tr th:only-of-type {\n",
              "        vertical-align: middle;\n",
              "    }\n",
              "\n",
              "    .dataframe tbody tr th {\n",
              "        vertical-align: top;\n",
              "    }\n",
              "\n",
              "    .dataframe thead th {\n",
              "        text-align: right;\n",
              "    }\n",
              "</style>\n",
              "<table border=\"1\" class=\"dataframe\">\n",
              "  <thead>\n",
              "    <tr style=\"text-align: right;\">\n",
              "      <th></th>\n",
              "      <th>Open</th>\n",
              "      <th>High</th>\n",
              "      <th>Low</th>\n",
              "      <th>Close</th>\n",
              "      <th>Volume</th>\n",
              "      <th>Dividends</th>\n",
              "      <th>Stock Splits</th>\n",
              "      <th>diff</th>\n",
              "      <th>amplitude</th>\n",
              "    </tr>\n",
              "    <tr>\n",
              "      <th>Date</th>\n",
              "      <th></th>\n",
              "      <th></th>\n",
              "      <th></th>\n",
              "      <th></th>\n",
              "      <th></th>\n",
              "      <th></th>\n",
              "      <th></th>\n",
              "      <th></th>\n",
              "      <th></th>\n",
              "    </tr>\n",
              "  </thead>\n",
              "  <tbody>\n",
              "    <tr>\n",
              "      <th>2019-01-02 00:00:00-02:00</th>\n",
              "      <td>84.599998</td>\n",
              "      <td>88.260002</td>\n",
              "      <td>84.349998</td>\n",
              "      <td>87.900002</td>\n",
              "      <td>5021260</td>\n",
              "      <td>0</td>\n",
              "      <td>0</td>\n",
              "      <td>3.300003</td>\n",
              "      <td>3.910004</td>\n",
              "    </tr>\n",
              "    <tr>\n",
              "      <th>2019-01-03 00:00:00-02:00</th>\n",
              "      <td>87.550003</td>\n",
              "      <td>88.400002</td>\n",
              "      <td>86.800003</td>\n",
              "      <td>88.000000</td>\n",
              "      <td>4300220</td>\n",
              "      <td>0</td>\n",
              "      <td>0</td>\n",
              "      <td>0.449997</td>\n",
              "      <td>1.599998</td>\n",
              "    </tr>\n",
              "    <tr>\n",
              "      <th>2019-01-04 00:00:00-02:00</th>\n",
              "      <td>88.199997</td>\n",
              "      <td>89.449997</td>\n",
              "      <td>87.629997</td>\n",
              "      <td>88.500000</td>\n",
              "      <td>2449750</td>\n",
              "      <td>0</td>\n",
              "      <td>0</td>\n",
              "      <td>0.300003</td>\n",
              "      <td>1.820000</td>\n",
              "    </tr>\n",
              "    <tr>\n",
              "      <th>2019-01-07 00:00:00-02:00</th>\n",
              "      <td>88.650002</td>\n",
              "      <td>89.320000</td>\n",
              "      <td>88.059998</td>\n",
              "      <td>88.480003</td>\n",
              "      <td>2891360</td>\n",
              "      <td>0</td>\n",
              "      <td>0</td>\n",
              "      <td>-0.169998</td>\n",
              "      <td>1.260002</td>\n",
              "    </tr>\n",
              "    <tr>\n",
              "      <th>2019-01-08 00:00:00-02:00</th>\n",
              "      <td>88.750000</td>\n",
              "      <td>88.970001</td>\n",
              "      <td>87.870003</td>\n",
              "      <td>88.830002</td>\n",
              "      <td>3441770</td>\n",
              "      <td>0</td>\n",
              "      <td>0</td>\n",
              "      <td>0.080002</td>\n",
              "      <td>1.099998</td>\n",
              "    </tr>\n",
              "    <tr>\n",
              "      <th>...</th>\n",
              "      <td>...</td>\n",
              "      <td>...</td>\n",
              "      <td>...</td>\n",
              "      <td>...</td>\n",
              "      <td>...</td>\n",
              "      <td>...</td>\n",
              "      <td>...</td>\n",
              "      <td>...</td>\n",
              "      <td>...</td>\n",
              "    </tr>\n",
              "    <tr>\n",
              "      <th>2022-07-21 00:00:00-03:00</th>\n",
              "      <td>93.989998</td>\n",
              "      <td>95.529999</td>\n",
              "      <td>93.620003</td>\n",
              "      <td>95.349998</td>\n",
              "      <td>7765854</td>\n",
              "      <td>0</td>\n",
              "      <td>0</td>\n",
              "      <td>1.360001</td>\n",
              "      <td>1.909996</td>\n",
              "    </tr>\n",
              "    <tr>\n",
              "      <th>2022-07-22 00:00:00-03:00</th>\n",
              "      <td>95.790001</td>\n",
              "      <td>96.160004</td>\n",
              "      <td>94.820000</td>\n",
              "      <td>95.419998</td>\n",
              "      <td>5037163</td>\n",
              "      <td>0</td>\n",
              "      <td>0</td>\n",
              "      <td>-0.370003</td>\n",
              "      <td>1.340004</td>\n",
              "    </tr>\n",
              "    <tr>\n",
              "      <th>2022-07-25 00:00:00-03:00</th>\n",
              "      <td>96.309998</td>\n",
              "      <td>96.930000</td>\n",
              "      <td>96.029999</td>\n",
              "      <td>96.750000</td>\n",
              "      <td>4192244</td>\n",
              "      <td>0</td>\n",
              "      <td>0</td>\n",
              "      <td>0.440002</td>\n",
              "      <td>0.900002</td>\n",
              "    </tr>\n",
              "    <tr>\n",
              "      <th>2022-07-26 00:00:00-03:00</th>\n",
              "      <td>96.879997</td>\n",
              "      <td>97.160004</td>\n",
              "      <td>95.849998</td>\n",
              "      <td>96.150002</td>\n",
              "      <td>4780077</td>\n",
              "      <td>0</td>\n",
              "      <td>0</td>\n",
              "      <td>-0.729996</td>\n",
              "      <td>1.310005</td>\n",
              "    </tr>\n",
              "    <tr>\n",
              "      <th>2022-07-27 00:00:00-03:00</th>\n",
              "      <td>96.769997</td>\n",
              "      <td>97.940002</td>\n",
              "      <td>96.459999</td>\n",
              "      <td>97.830002</td>\n",
              "      <td>4846166</td>\n",
              "      <td>0</td>\n",
              "      <td>0</td>\n",
              "      <td>1.060005</td>\n",
              "      <td>1.480003</td>\n",
              "    </tr>\n",
              "  </tbody>\n",
              "</table>\n",
              "<p>886 rows × 9 columns</p>\n",
              "</div>\n",
              "      <button class=\"colab-df-convert\" onclick=\"convertToInteractive('df-f2da6f0e-86e5-4ee3-8186-15b096c6edc3')\"\n",
              "              title=\"Convert this dataframe to an interactive table.\"\n",
              "              style=\"display:none;\">\n",
              "        \n",
              "  <svg xmlns=\"http://www.w3.org/2000/svg\" height=\"24px\"viewBox=\"0 0 24 24\"\n",
              "       width=\"24px\">\n",
              "    <path d=\"M0 0h24v24H0V0z\" fill=\"none\"/>\n",
              "    <path d=\"M18.56 5.44l.94 2.06.94-2.06 2.06-.94-2.06-.94-.94-2.06-.94 2.06-2.06.94zm-11 1L8.5 8.5l.94-2.06 2.06-.94-2.06-.94L8.5 2.5l-.94 2.06-2.06.94zm10 10l.94 2.06.94-2.06 2.06-.94-2.06-.94-.94-2.06-.94 2.06-2.06.94z\"/><path d=\"M17.41 7.96l-1.37-1.37c-.4-.4-.92-.59-1.43-.59-.52 0-1.04.2-1.43.59L10.3 9.45l-7.72 7.72c-.78.78-.78 2.05 0 2.83L4 21.41c.39.39.9.59 1.41.59.51 0 1.02-.2 1.41-.59l7.78-7.78 2.81-2.81c.8-.78.8-2.07 0-2.86zM5.41 20L4 18.59l7.72-7.72 1.47 1.35L5.41 20z\"/>\n",
              "  </svg>\n",
              "      </button>\n",
              "      \n",
              "  <style>\n",
              "    .colab-df-container {\n",
              "      display:flex;\n",
              "      flex-wrap:wrap;\n",
              "      gap: 12px;\n",
              "    }\n",
              "\n",
              "    .colab-df-convert {\n",
              "      background-color: #E8F0FE;\n",
              "      border: none;\n",
              "      border-radius: 50%;\n",
              "      cursor: pointer;\n",
              "      display: none;\n",
              "      fill: #1967D2;\n",
              "      height: 32px;\n",
              "      padding: 0 0 0 0;\n",
              "      width: 32px;\n",
              "    }\n",
              "\n",
              "    .colab-df-convert:hover {\n",
              "      background-color: #E2EBFA;\n",
              "      box-shadow: 0px 1px 2px rgba(60, 64, 67, 0.3), 0px 1px 3px 1px rgba(60, 64, 67, 0.15);\n",
              "      fill: #174EA6;\n",
              "    }\n",
              "\n",
              "    [theme=dark] .colab-df-convert {\n",
              "      background-color: #3B4455;\n",
              "      fill: #D2E3FC;\n",
              "    }\n",
              "\n",
              "    [theme=dark] .colab-df-convert:hover {\n",
              "      background-color: #434B5C;\n",
              "      box-shadow: 0px 1px 3px 1px rgba(0, 0, 0, 0.15);\n",
              "      filter: drop-shadow(0px 1px 2px rgba(0, 0, 0, 0.3));\n",
              "      fill: #FFFFFF;\n",
              "    }\n",
              "  </style>\n",
              "\n",
              "      <script>\n",
              "        const buttonEl =\n",
              "          document.querySelector('#df-f2da6f0e-86e5-4ee3-8186-15b096c6edc3 button.colab-df-convert');\n",
              "        buttonEl.style.display =\n",
              "          google.colab.kernel.accessAllowed ? 'block' : 'none';\n",
              "\n",
              "        async function convertToInteractive(key) {\n",
              "          const element = document.querySelector('#df-f2da6f0e-86e5-4ee3-8186-15b096c6edc3');\n",
              "          const dataTable =\n",
              "            await google.colab.kernel.invokeFunction('convertToInteractive',\n",
              "                                                     [key], {});\n",
              "          if (!dataTable) return;\n",
              "\n",
              "          const docLinkHtml = 'Like what you see? Visit the ' +\n",
              "            '<a target=\"_blank\" href=https://colab.research.google.com/notebooks/data_table.ipynb>data table notebook</a>'\n",
              "            + ' to learn more about interactive tables.';\n",
              "          element.innerHTML = '';\n",
              "          dataTable['output_type'] = 'display_data';\n",
              "          await google.colab.output.renderOutput(dataTable, element);\n",
              "          const docLink = document.createElement('div');\n",
              "          docLink.innerHTML = docLinkHtml;\n",
              "          element.appendChild(docLink);\n",
              "        }\n",
              "      </script>\n",
              "    </div>\n",
              "  </div>\n",
              "  "
            ]
          },
          "metadata": {}
        }
      ]
    },
    {
      "cell_type": "code",
      "source": [
        "#calculando a média e a variância\n",
        "df['amplitude'].agg(['mean', 'std'])"
      ],
      "metadata": {
        "colab": {
          "base_uri": "https://localhost:8080/"
        },
        "id": "PoFSb2mtOu7i",
        "outputId": "8b08546a-9eb9-4fc4-c62a-fe7aa40b49fc"
      },
      "execution_count": 70,
      "outputs": [
        {
          "output_type": "execute_result",
          "data": {
            "text/plain": [
              "mean    1.786829\n",
              "std     1.008223\n",
              "Name: amplitude, dtype: float64"
            ]
          },
          "metadata": {},
          "execution_count": 70
        }
      ]
    },
    {
      "cell_type": "markdown",
      "source": [
        "4 - Utilizando a coluna de data (agrupando por mês e ano) e o dif, qual foi o período com maior saldo negativo? (Entende-se por saldo negativo as somas das diferenças diárias)"
      ],
      "metadata": {
        "id": "kpI3ENf1QMvy"
      }
    },
    {
      "cell_type": "code",
      "source": [
        "df['month'] = df.index.month\n",
        "df['year'] = df.index.year\n",
        "display(df)"
      ],
      "metadata": {
        "colab": {
          "base_uri": "https://localhost:8080/",
          "height": 455
        },
        "id": "BJyEWMYyXiYp",
        "outputId": "8c823a86-2a15-4a61-8757-e943fcf6d9b4"
      },
      "execution_count": 71,
      "outputs": [
        {
          "output_type": "display_data",
          "data": {
            "text/plain": [
              "                                Open       High        Low      Close  \\\n",
              "Date                                                                    \n",
              "2019-01-02 00:00:00-02:00  84.599998  88.260002  84.349998  87.900002   \n",
              "2019-01-03 00:00:00-02:00  87.550003  88.400002  86.800003  88.000000   \n",
              "2019-01-04 00:00:00-02:00  88.199997  89.449997  87.629997  88.500000   \n",
              "2019-01-07 00:00:00-02:00  88.650002  89.320000  88.059998  88.480003   \n",
              "2019-01-08 00:00:00-02:00  88.750000  88.970001  87.870003  88.830002   \n",
              "...                              ...        ...        ...        ...   \n",
              "2022-07-21 00:00:00-03:00  93.989998  95.529999  93.620003  95.349998   \n",
              "2022-07-22 00:00:00-03:00  95.790001  96.160004  94.820000  95.419998   \n",
              "2022-07-25 00:00:00-03:00  96.309998  96.930000  96.029999  96.750000   \n",
              "2022-07-26 00:00:00-03:00  96.879997  97.160004  95.849998  96.150002   \n",
              "2022-07-27 00:00:00-03:00  96.769997  97.940002  96.459999  97.830002   \n",
              "\n",
              "                            Volume  Dividends  Stock Splits      diff  \\\n",
              "Date                                                                    \n",
              "2019-01-02 00:00:00-02:00  5021260          0             0  3.300003   \n",
              "2019-01-03 00:00:00-02:00  4300220          0             0  0.449997   \n",
              "2019-01-04 00:00:00-02:00  2449750          0             0  0.300003   \n",
              "2019-01-07 00:00:00-02:00  2891360          0             0 -0.169998   \n",
              "2019-01-08 00:00:00-02:00  3441770          0             0  0.080002   \n",
              "...                            ...        ...           ...       ...   \n",
              "2022-07-21 00:00:00-03:00  7765854          0             0  1.360001   \n",
              "2022-07-22 00:00:00-03:00  5037163          0             0 -0.370003   \n",
              "2022-07-25 00:00:00-03:00  4192244          0             0  0.440002   \n",
              "2022-07-26 00:00:00-03:00  4780077          0             0 -0.729996   \n",
              "2022-07-27 00:00:00-03:00  4846166          0             0  1.060005   \n",
              "\n",
              "                           amplitude  month  year  \n",
              "Date                                               \n",
              "2019-01-02 00:00:00-02:00   3.910004      1  2019  \n",
              "2019-01-03 00:00:00-02:00   1.599998      1  2019  \n",
              "2019-01-04 00:00:00-02:00   1.820000      1  2019  \n",
              "2019-01-07 00:00:00-02:00   1.260002      1  2019  \n",
              "2019-01-08 00:00:00-02:00   1.099998      1  2019  \n",
              "...                              ...    ...   ...  \n",
              "2022-07-21 00:00:00-03:00   1.909996      7  2022  \n",
              "2022-07-22 00:00:00-03:00   1.340004      7  2022  \n",
              "2022-07-25 00:00:00-03:00   0.900002      7  2022  \n",
              "2022-07-26 00:00:00-03:00   1.310005      7  2022  \n",
              "2022-07-27 00:00:00-03:00   1.480003      7  2022  \n",
              "\n",
              "[886 rows x 11 columns]"
            ],
            "text/html": [
              "\n",
              "  <div id=\"df-e19c35fa-f8c0-4484-816b-d7fbd2ba326f\">\n",
              "    <div class=\"colab-df-container\">\n",
              "      <div>\n",
              "<style scoped>\n",
              "    .dataframe tbody tr th:only-of-type {\n",
              "        vertical-align: middle;\n",
              "    }\n",
              "\n",
              "    .dataframe tbody tr th {\n",
              "        vertical-align: top;\n",
              "    }\n",
              "\n",
              "    .dataframe thead th {\n",
              "        text-align: right;\n",
              "    }\n",
              "</style>\n",
              "<table border=\"1\" class=\"dataframe\">\n",
              "  <thead>\n",
              "    <tr style=\"text-align: right;\">\n",
              "      <th></th>\n",
              "      <th>Open</th>\n",
              "      <th>High</th>\n",
              "      <th>Low</th>\n",
              "      <th>Close</th>\n",
              "      <th>Volume</th>\n",
              "      <th>Dividends</th>\n",
              "      <th>Stock Splits</th>\n",
              "      <th>diff</th>\n",
              "      <th>amplitude</th>\n",
              "      <th>month</th>\n",
              "      <th>year</th>\n",
              "    </tr>\n",
              "    <tr>\n",
              "      <th>Date</th>\n",
              "      <th></th>\n",
              "      <th></th>\n",
              "      <th></th>\n",
              "      <th></th>\n",
              "      <th></th>\n",
              "      <th></th>\n",
              "      <th></th>\n",
              "      <th></th>\n",
              "      <th></th>\n",
              "      <th></th>\n",
              "      <th></th>\n",
              "    </tr>\n",
              "  </thead>\n",
              "  <tbody>\n",
              "    <tr>\n",
              "      <th>2019-01-02 00:00:00-02:00</th>\n",
              "      <td>84.599998</td>\n",
              "      <td>88.260002</td>\n",
              "      <td>84.349998</td>\n",
              "      <td>87.900002</td>\n",
              "      <td>5021260</td>\n",
              "      <td>0</td>\n",
              "      <td>0</td>\n",
              "      <td>3.300003</td>\n",
              "      <td>3.910004</td>\n",
              "      <td>1</td>\n",
              "      <td>2019</td>\n",
              "    </tr>\n",
              "    <tr>\n",
              "      <th>2019-01-03 00:00:00-02:00</th>\n",
              "      <td>87.550003</td>\n",
              "      <td>88.400002</td>\n",
              "      <td>86.800003</td>\n",
              "      <td>88.000000</td>\n",
              "      <td>4300220</td>\n",
              "      <td>0</td>\n",
              "      <td>0</td>\n",
              "      <td>0.449997</td>\n",
              "      <td>1.599998</td>\n",
              "      <td>1</td>\n",
              "      <td>2019</td>\n",
              "    </tr>\n",
              "    <tr>\n",
              "      <th>2019-01-04 00:00:00-02:00</th>\n",
              "      <td>88.199997</td>\n",
              "      <td>89.449997</td>\n",
              "      <td>87.629997</td>\n",
              "      <td>88.500000</td>\n",
              "      <td>2449750</td>\n",
              "      <td>0</td>\n",
              "      <td>0</td>\n",
              "      <td>0.300003</td>\n",
              "      <td>1.820000</td>\n",
              "      <td>1</td>\n",
              "      <td>2019</td>\n",
              "    </tr>\n",
              "    <tr>\n",
              "      <th>2019-01-07 00:00:00-02:00</th>\n",
              "      <td>88.650002</td>\n",
              "      <td>89.320000</td>\n",
              "      <td>88.059998</td>\n",
              "      <td>88.480003</td>\n",
              "      <td>2891360</td>\n",
              "      <td>0</td>\n",
              "      <td>0</td>\n",
              "      <td>-0.169998</td>\n",
              "      <td>1.260002</td>\n",
              "      <td>1</td>\n",
              "      <td>2019</td>\n",
              "    </tr>\n",
              "    <tr>\n",
              "      <th>2019-01-08 00:00:00-02:00</th>\n",
              "      <td>88.750000</td>\n",
              "      <td>88.970001</td>\n",
              "      <td>87.870003</td>\n",
              "      <td>88.830002</td>\n",
              "      <td>3441770</td>\n",
              "      <td>0</td>\n",
              "      <td>0</td>\n",
              "      <td>0.080002</td>\n",
              "      <td>1.099998</td>\n",
              "      <td>1</td>\n",
              "      <td>2019</td>\n",
              "    </tr>\n",
              "    <tr>\n",
              "      <th>...</th>\n",
              "      <td>...</td>\n",
              "      <td>...</td>\n",
              "      <td>...</td>\n",
              "      <td>...</td>\n",
              "      <td>...</td>\n",
              "      <td>...</td>\n",
              "      <td>...</td>\n",
              "      <td>...</td>\n",
              "      <td>...</td>\n",
              "      <td>...</td>\n",
              "      <td>...</td>\n",
              "    </tr>\n",
              "    <tr>\n",
              "      <th>2022-07-21 00:00:00-03:00</th>\n",
              "      <td>93.989998</td>\n",
              "      <td>95.529999</td>\n",
              "      <td>93.620003</td>\n",
              "      <td>95.349998</td>\n",
              "      <td>7765854</td>\n",
              "      <td>0</td>\n",
              "      <td>0</td>\n",
              "      <td>1.360001</td>\n",
              "      <td>1.909996</td>\n",
              "      <td>7</td>\n",
              "      <td>2022</td>\n",
              "    </tr>\n",
              "    <tr>\n",
              "      <th>2022-07-22 00:00:00-03:00</th>\n",
              "      <td>95.790001</td>\n",
              "      <td>96.160004</td>\n",
              "      <td>94.820000</td>\n",
              "      <td>95.419998</td>\n",
              "      <td>5037163</td>\n",
              "      <td>0</td>\n",
              "      <td>0</td>\n",
              "      <td>-0.370003</td>\n",
              "      <td>1.340004</td>\n",
              "      <td>7</td>\n",
              "      <td>2022</td>\n",
              "    </tr>\n",
              "    <tr>\n",
              "      <th>2022-07-25 00:00:00-03:00</th>\n",
              "      <td>96.309998</td>\n",
              "      <td>96.930000</td>\n",
              "      <td>96.029999</td>\n",
              "      <td>96.750000</td>\n",
              "      <td>4192244</td>\n",
              "      <td>0</td>\n",
              "      <td>0</td>\n",
              "      <td>0.440002</td>\n",
              "      <td>0.900002</td>\n",
              "      <td>7</td>\n",
              "      <td>2022</td>\n",
              "    </tr>\n",
              "    <tr>\n",
              "      <th>2022-07-26 00:00:00-03:00</th>\n",
              "      <td>96.879997</td>\n",
              "      <td>97.160004</td>\n",
              "      <td>95.849998</td>\n",
              "      <td>96.150002</td>\n",
              "      <td>4780077</td>\n",
              "      <td>0</td>\n",
              "      <td>0</td>\n",
              "      <td>-0.729996</td>\n",
              "      <td>1.310005</td>\n",
              "      <td>7</td>\n",
              "      <td>2022</td>\n",
              "    </tr>\n",
              "    <tr>\n",
              "      <th>2022-07-27 00:00:00-03:00</th>\n",
              "      <td>96.769997</td>\n",
              "      <td>97.940002</td>\n",
              "      <td>96.459999</td>\n",
              "      <td>97.830002</td>\n",
              "      <td>4846166</td>\n",
              "      <td>0</td>\n",
              "      <td>0</td>\n",
              "      <td>1.060005</td>\n",
              "      <td>1.480003</td>\n",
              "      <td>7</td>\n",
              "      <td>2022</td>\n",
              "    </tr>\n",
              "  </tbody>\n",
              "</table>\n",
              "<p>886 rows × 11 columns</p>\n",
              "</div>\n",
              "      <button class=\"colab-df-convert\" onclick=\"convertToInteractive('df-e19c35fa-f8c0-4484-816b-d7fbd2ba326f')\"\n",
              "              title=\"Convert this dataframe to an interactive table.\"\n",
              "              style=\"display:none;\">\n",
              "        \n",
              "  <svg xmlns=\"http://www.w3.org/2000/svg\" height=\"24px\"viewBox=\"0 0 24 24\"\n",
              "       width=\"24px\">\n",
              "    <path d=\"M0 0h24v24H0V0z\" fill=\"none\"/>\n",
              "    <path d=\"M18.56 5.44l.94 2.06.94-2.06 2.06-.94-2.06-.94-.94-2.06-.94 2.06-2.06.94zm-11 1L8.5 8.5l.94-2.06 2.06-.94-2.06-.94L8.5 2.5l-.94 2.06-2.06.94zm10 10l.94 2.06.94-2.06 2.06-.94-2.06-.94-.94-2.06-.94 2.06-2.06.94z\"/><path d=\"M17.41 7.96l-1.37-1.37c-.4-.4-.92-.59-1.43-.59-.52 0-1.04.2-1.43.59L10.3 9.45l-7.72 7.72c-.78.78-.78 2.05 0 2.83L4 21.41c.39.39.9.59 1.41.59.51 0 1.02-.2 1.41-.59l7.78-7.78 2.81-2.81c.8-.78.8-2.07 0-2.86zM5.41 20L4 18.59l7.72-7.72 1.47 1.35L5.41 20z\"/>\n",
              "  </svg>\n",
              "      </button>\n",
              "      \n",
              "  <style>\n",
              "    .colab-df-container {\n",
              "      display:flex;\n",
              "      flex-wrap:wrap;\n",
              "      gap: 12px;\n",
              "    }\n",
              "\n",
              "    .colab-df-convert {\n",
              "      background-color: #E8F0FE;\n",
              "      border: none;\n",
              "      border-radius: 50%;\n",
              "      cursor: pointer;\n",
              "      display: none;\n",
              "      fill: #1967D2;\n",
              "      height: 32px;\n",
              "      padding: 0 0 0 0;\n",
              "      width: 32px;\n",
              "    }\n",
              "\n",
              "    .colab-df-convert:hover {\n",
              "      background-color: #E2EBFA;\n",
              "      box-shadow: 0px 1px 2px rgba(60, 64, 67, 0.3), 0px 1px 3px 1px rgba(60, 64, 67, 0.15);\n",
              "      fill: #174EA6;\n",
              "    }\n",
              "\n",
              "    [theme=dark] .colab-df-convert {\n",
              "      background-color: #3B4455;\n",
              "      fill: #D2E3FC;\n",
              "    }\n",
              "\n",
              "    [theme=dark] .colab-df-convert:hover {\n",
              "      background-color: #434B5C;\n",
              "      box-shadow: 0px 1px 3px 1px rgba(0, 0, 0, 0.15);\n",
              "      filter: drop-shadow(0px 1px 2px rgba(0, 0, 0, 0.3));\n",
              "      fill: #FFFFFF;\n",
              "    }\n",
              "  </style>\n",
              "\n",
              "      <script>\n",
              "        const buttonEl =\n",
              "          document.querySelector('#df-e19c35fa-f8c0-4484-816b-d7fbd2ba326f button.colab-df-convert');\n",
              "        buttonEl.style.display =\n",
              "          google.colab.kernel.accessAllowed ? 'block' : 'none';\n",
              "\n",
              "        async function convertToInteractive(key) {\n",
              "          const element = document.querySelector('#df-e19c35fa-f8c0-4484-816b-d7fbd2ba326f');\n",
              "          const dataTable =\n",
              "            await google.colab.kernel.invokeFunction('convertToInteractive',\n",
              "                                                     [key], {});\n",
              "          if (!dataTable) return;\n",
              "\n",
              "          const docLinkHtml = 'Like what you see? Visit the ' +\n",
              "            '<a target=\"_blank\" href=https://colab.research.google.com/notebooks/data_table.ipynb>data table notebook</a>'\n",
              "            + ' to learn more about interactive tables.';\n",
              "          element.innerHTML = '';\n",
              "          dataTable['output_type'] = 'display_data';\n",
              "          await google.colab.output.renderOutput(dataTable, element);\n",
              "          const docLink = document.createElement('div');\n",
              "          docLink.innerHTML = docLinkHtml;\n",
              "          element.appendChild(docLink);\n",
              "        }\n",
              "      </script>\n",
              "    </div>\n",
              "  </div>\n",
              "  "
            ]
          },
          "metadata": {}
        }
      ]
    },
    {
      "cell_type": "code",
      "source": [
        "\n",
        "#agrupo por mês e ano, pego a coluna diff, somo e ordeno\n",
        "df.groupby(['month','year'])['diff']\n"
      ],
      "metadata": {
        "colab": {
          "base_uri": "https://localhost:8080/"
        },
        "id": "YOZSDkCmZccy",
        "outputId": "7d1c5754-734b-4471-e0a7-528092a0040e"
      },
      "execution_count": 72,
      "outputs": [
        {
          "output_type": "execute_result",
          "data": {
            "text/plain": [
              "<pandas.core.groupby.generic.SeriesGroupBy object at 0x7f81b836fe90>"
            ]
          },
          "metadata": {},
          "execution_count": 72
        }
      ]
    },
    {
      "cell_type": "code",
      "source": [
        "#caso a coluna data não estivesse no índice\n",
        "df = df.reset.index()"
      ],
      "metadata": {
        "colab": {
          "base_uri": "https://localhost:8080/",
          "height": 304
        },
        "id": "qgIKFotqY8or",
        "outputId": "3ca062cf-900b-440c-e968-db75182bdf67"
      },
      "execution_count": 73,
      "outputs": [
        {
          "output_type": "error",
          "ename": "AttributeError",
          "evalue": "ignored",
          "traceback": [
            "\u001b[0;31m---------------------------------------------------------------------------\u001b[0m",
            "\u001b[0;31mAttributeError\u001b[0m                            Traceback (most recent call last)",
            "\u001b[0;32m<ipython-input-73-88274a5ee80d>\u001b[0m in \u001b[0;36m<module>\u001b[0;34m\u001b[0m\n\u001b[1;32m      1\u001b[0m \u001b[0;31m#caso a coluna data não estivesse no índice\u001b[0m\u001b[0;34m\u001b[0m\u001b[0;34m\u001b[0m\u001b[0;34m\u001b[0m\u001b[0m\n\u001b[0;32m----> 2\u001b[0;31m \u001b[0mdf\u001b[0m \u001b[0;34m=\u001b[0m \u001b[0mdf\u001b[0m\u001b[0;34m.\u001b[0m\u001b[0mreset\u001b[0m\u001b[0;34m.\u001b[0m\u001b[0mindex\u001b[0m\u001b[0;34m(\u001b[0m\u001b[0;34m)\u001b[0m\u001b[0;34m\u001b[0m\u001b[0;34m\u001b[0m\u001b[0m\n\u001b[0m",
            "\u001b[0;32m/usr/local/lib/python3.7/dist-packages/pandas/core/generic.py\u001b[0m in \u001b[0;36m__getattr__\u001b[0;34m(self, name)\u001b[0m\n\u001b[1;32m   5485\u001b[0m         ):\n\u001b[1;32m   5486\u001b[0m             \u001b[0;32mreturn\u001b[0m \u001b[0mself\u001b[0m\u001b[0;34m[\u001b[0m\u001b[0mname\u001b[0m\u001b[0;34m]\u001b[0m\u001b[0;34m\u001b[0m\u001b[0;34m\u001b[0m\u001b[0m\n\u001b[0;32m-> 5487\u001b[0;31m         \u001b[0;32mreturn\u001b[0m \u001b[0mobject\u001b[0m\u001b[0;34m.\u001b[0m\u001b[0m__getattribute__\u001b[0m\u001b[0;34m(\u001b[0m\u001b[0mself\u001b[0m\u001b[0;34m,\u001b[0m \u001b[0mname\u001b[0m\u001b[0;34m)\u001b[0m\u001b[0;34m\u001b[0m\u001b[0;34m\u001b[0m\u001b[0m\n\u001b[0m\u001b[1;32m   5488\u001b[0m \u001b[0;34m\u001b[0m\u001b[0m\n\u001b[1;32m   5489\u001b[0m     \u001b[0;32mdef\u001b[0m \u001b[0m__setattr__\u001b[0m\u001b[0;34m(\u001b[0m\u001b[0mself\u001b[0m\u001b[0;34m,\u001b[0m \u001b[0mname\u001b[0m\u001b[0;34m:\u001b[0m \u001b[0mstr\u001b[0m\u001b[0;34m,\u001b[0m \u001b[0mvalue\u001b[0m\u001b[0;34m)\u001b[0m \u001b[0;34m->\u001b[0m \u001b[0;32mNone\u001b[0m\u001b[0;34m:\u001b[0m\u001b[0;34m\u001b[0m\u001b[0;34m\u001b[0m\u001b[0m\n",
            "\u001b[0;31mAttributeError\u001b[0m: 'DataFrame' object has no attribute 'reset'"
          ]
        }
      ]
    }
  ]
}