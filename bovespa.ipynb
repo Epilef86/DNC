{
  "nbformat": 4,
  "nbformat_minor": 0,
  "metadata": {
    "colab": {
      "provenance": [],
      "collapsed_sections": [],
      "authorship_tag": "ABX9TyMuqbVBTdHMmLlh3dn23bSx",
      "include_colab_link": true
    },
    "kernelspec": {
      "name": "python3",
      "display_name": "Python 3"
    },
    "language_info": {
      "name": "python"
    }
  },
  "cells": [
    {
      "cell_type": "markdown",
      "metadata": {
        "id": "view-in-github",
        "colab_type": "text"
      },
      "source": [
        "<a href=\"https://colab.research.google.com/github/Epilef86/DNC/blob/main/bovespa.ipynb\" target=\"_parent\"><img src=\"https://colab.research.google.com/assets/colab-badge.svg\" alt=\"Open In Colab\"/></a>"
      ]
    },
    {
      "cell_type": "markdown",
      "source": [
        "Após a década de 80 e 90, período no qual houveram diversos avanços tecnológicos e uma maior integração entre os mercados de diferentes países, o estudo e aplicação de técnicas no mercado financeiro se tornou ainda mais evidente.\n",
        "\n",
        "Neste quesito, utilizar técnicas matemáticas e estatísticas para entender o comportamento do mercado se tornou algo muito comum após o o banco JP Morgan divulgou seu serviço RiskMetrics divulgar o VaR (Value at Risk) que consiste em uma métrica, utilizando estatística, para estimar o máximo de valor que seu ativo poderá perder em um único dia.\n",
        "\n",
        "Neste contexto, iremos analisar os dados de ação da BOVESPA, a bolsa de valores do Brasil com índices diários dos últimos 3 anos. Com estes dados e seguindo o passo a passo das perguntas abaixo, iremos calcular a maior perda esperada para o meu ativo no dia posterior.\n",
        "\n",
        "Primeiro, para fazer o download dos dados, utilize o código abaixo para gerar o dataset:"
      ],
      "metadata": {
        "id": "JZW3wXH3ymvB"
      }
    },
    {
      "cell_type": "code",
      "execution_count": 3,
      "metadata": {
        "colab": {
          "base_uri": "https://localhost:8080/",
          "height": 472
        },
        "id": "SUy2O-ICrj9O",
        "outputId": "e1747c6d-a111-4b48-e9d2-61e461777662"
      },
      "outputs": [
        {
          "output_type": "stream",
          "name": "stdout",
          "text": [
            "(886, 8)\n"
          ]
        },
        {
          "output_type": "display_data",
          "data": {
            "text/plain": [
              "                                Open       High        Low      Close  \\\n",
              "Date                                                                    \n",
              "2019-01-02 00:00:00-02:00  84.599998  88.260002  84.349998  87.900002   \n",
              "2019-01-03 00:00:00-02:00  87.550003  88.400002  86.800003  88.000000   \n",
              "2019-01-04 00:00:00-02:00  88.199997  89.449997  87.629997  88.500000   \n",
              "2019-01-07 00:00:00-02:00  88.650002  89.320000  88.059998  88.480003   \n",
              "2019-01-08 00:00:00-02:00  88.750000  88.970001  87.870003  88.830002   \n",
              "...                              ...        ...        ...        ...   \n",
              "2022-07-21 00:00:00-03:00  93.989998  95.529999  93.620003  95.349998   \n",
              "2022-07-22 00:00:00-03:00  95.790001  96.160004  94.820000  95.419998   \n",
              "2022-07-25 00:00:00-03:00  96.309998  96.930000  96.029999  96.750000   \n",
              "2022-07-26 00:00:00-03:00  96.879997  97.160004  95.849998  96.150002   \n",
              "2022-07-27 00:00:00-03:00  96.769997  97.940002  96.459999  97.830002   \n",
              "\n",
              "                            Volume  Dividends  Stock Splits       dif  \n",
              "Date                                                                   \n",
              "2019-01-02 00:00:00-02:00  5021260          0             0  3.300003  \n",
              "2019-01-03 00:00:00-02:00  4300220          0             0  0.449997  \n",
              "2019-01-04 00:00:00-02:00  2449750          0             0  0.300003  \n",
              "2019-01-07 00:00:00-02:00  2891360          0             0 -0.169998  \n",
              "2019-01-08 00:00:00-02:00  3441770          0             0  0.080002  \n",
              "...                            ...        ...           ...       ...  \n",
              "2022-07-21 00:00:00-03:00  7765854          0             0  1.360001  \n",
              "2022-07-22 00:00:00-03:00  5037163          0             0 -0.370003  \n",
              "2022-07-25 00:00:00-03:00  4192244          0             0  0.440002  \n",
              "2022-07-26 00:00:00-03:00  4780077          0             0 -0.729996  \n",
              "2022-07-27 00:00:00-03:00  4846166          0             0  1.060005  \n",
              "\n",
              "[886 rows x 8 columns]"
            ],
            "text/html": [
              "\n",
              "  <div id=\"df-ec4c75c5-31a6-4e47-8b00-e6b85a992899\">\n",
              "    <div class=\"colab-df-container\">\n",
              "      <div>\n",
              "<style scoped>\n",
              "    .dataframe tbody tr th:only-of-type {\n",
              "        vertical-align: middle;\n",
              "    }\n",
              "\n",
              "    .dataframe tbody tr th {\n",
              "        vertical-align: top;\n",
              "    }\n",
              "\n",
              "    .dataframe thead th {\n",
              "        text-align: right;\n",
              "    }\n",
              "</style>\n",
              "<table border=\"1\" class=\"dataframe\">\n",
              "  <thead>\n",
              "    <tr style=\"text-align: right;\">\n",
              "      <th></th>\n",
              "      <th>Open</th>\n",
              "      <th>High</th>\n",
              "      <th>Low</th>\n",
              "      <th>Close</th>\n",
              "      <th>Volume</th>\n",
              "      <th>Dividends</th>\n",
              "      <th>Stock Splits</th>\n",
              "      <th>dif</th>\n",
              "    </tr>\n",
              "    <tr>\n",
              "      <th>Date</th>\n",
              "      <th></th>\n",
              "      <th></th>\n",
              "      <th></th>\n",
              "      <th></th>\n",
              "      <th></th>\n",
              "      <th></th>\n",
              "      <th></th>\n",
              "      <th></th>\n",
              "    </tr>\n",
              "  </thead>\n",
              "  <tbody>\n",
              "    <tr>\n",
              "      <th>2019-01-02 00:00:00-02:00</th>\n",
              "      <td>84.599998</td>\n",
              "      <td>88.260002</td>\n",
              "      <td>84.349998</td>\n",
              "      <td>87.900002</td>\n",
              "      <td>5021260</td>\n",
              "      <td>0</td>\n",
              "      <td>0</td>\n",
              "      <td>3.300003</td>\n",
              "    </tr>\n",
              "    <tr>\n",
              "      <th>2019-01-03 00:00:00-02:00</th>\n",
              "      <td>87.550003</td>\n",
              "      <td>88.400002</td>\n",
              "      <td>86.800003</td>\n",
              "      <td>88.000000</td>\n",
              "      <td>4300220</td>\n",
              "      <td>0</td>\n",
              "      <td>0</td>\n",
              "      <td>0.449997</td>\n",
              "    </tr>\n",
              "    <tr>\n",
              "      <th>2019-01-04 00:00:00-02:00</th>\n",
              "      <td>88.199997</td>\n",
              "      <td>89.449997</td>\n",
              "      <td>87.629997</td>\n",
              "      <td>88.500000</td>\n",
              "      <td>2449750</td>\n",
              "      <td>0</td>\n",
              "      <td>0</td>\n",
              "      <td>0.300003</td>\n",
              "    </tr>\n",
              "    <tr>\n",
              "      <th>2019-01-07 00:00:00-02:00</th>\n",
              "      <td>88.650002</td>\n",
              "      <td>89.320000</td>\n",
              "      <td>88.059998</td>\n",
              "      <td>88.480003</td>\n",
              "      <td>2891360</td>\n",
              "      <td>0</td>\n",
              "      <td>0</td>\n",
              "      <td>-0.169998</td>\n",
              "    </tr>\n",
              "    <tr>\n",
              "      <th>2019-01-08 00:00:00-02:00</th>\n",
              "      <td>88.750000</td>\n",
              "      <td>88.970001</td>\n",
              "      <td>87.870003</td>\n",
              "      <td>88.830002</td>\n",
              "      <td>3441770</td>\n",
              "      <td>0</td>\n",
              "      <td>0</td>\n",
              "      <td>0.080002</td>\n",
              "    </tr>\n",
              "    <tr>\n",
              "      <th>...</th>\n",
              "      <td>...</td>\n",
              "      <td>...</td>\n",
              "      <td>...</td>\n",
              "      <td>...</td>\n",
              "      <td>...</td>\n",
              "      <td>...</td>\n",
              "      <td>...</td>\n",
              "      <td>...</td>\n",
              "    </tr>\n",
              "    <tr>\n",
              "      <th>2022-07-21 00:00:00-03:00</th>\n",
              "      <td>93.989998</td>\n",
              "      <td>95.529999</td>\n",
              "      <td>93.620003</td>\n",
              "      <td>95.349998</td>\n",
              "      <td>7765854</td>\n",
              "      <td>0</td>\n",
              "      <td>0</td>\n",
              "      <td>1.360001</td>\n",
              "    </tr>\n",
              "    <tr>\n",
              "      <th>2022-07-22 00:00:00-03:00</th>\n",
              "      <td>95.790001</td>\n",
              "      <td>96.160004</td>\n",
              "      <td>94.820000</td>\n",
              "      <td>95.419998</td>\n",
              "      <td>5037163</td>\n",
              "      <td>0</td>\n",
              "      <td>0</td>\n",
              "      <td>-0.370003</td>\n",
              "    </tr>\n",
              "    <tr>\n",
              "      <th>2022-07-25 00:00:00-03:00</th>\n",
              "      <td>96.309998</td>\n",
              "      <td>96.930000</td>\n",
              "      <td>96.029999</td>\n",
              "      <td>96.750000</td>\n",
              "      <td>4192244</td>\n",
              "      <td>0</td>\n",
              "      <td>0</td>\n",
              "      <td>0.440002</td>\n",
              "    </tr>\n",
              "    <tr>\n",
              "      <th>2022-07-26 00:00:00-03:00</th>\n",
              "      <td>96.879997</td>\n",
              "      <td>97.160004</td>\n",
              "      <td>95.849998</td>\n",
              "      <td>96.150002</td>\n",
              "      <td>4780077</td>\n",
              "      <td>0</td>\n",
              "      <td>0</td>\n",
              "      <td>-0.729996</td>\n",
              "    </tr>\n",
              "    <tr>\n",
              "      <th>2022-07-27 00:00:00-03:00</th>\n",
              "      <td>96.769997</td>\n",
              "      <td>97.940002</td>\n",
              "      <td>96.459999</td>\n",
              "      <td>97.830002</td>\n",
              "      <td>4846166</td>\n",
              "      <td>0</td>\n",
              "      <td>0</td>\n",
              "      <td>1.060005</td>\n",
              "    </tr>\n",
              "  </tbody>\n",
              "</table>\n",
              "<p>886 rows × 8 columns</p>\n",
              "</div>\n",
              "      <button class=\"colab-df-convert\" onclick=\"convertToInteractive('df-ec4c75c5-31a6-4e47-8b00-e6b85a992899')\"\n",
              "              title=\"Convert this dataframe to an interactive table.\"\n",
              "              style=\"display:none;\">\n",
              "        \n",
              "  <svg xmlns=\"http://www.w3.org/2000/svg\" height=\"24px\"viewBox=\"0 0 24 24\"\n",
              "       width=\"24px\">\n",
              "    <path d=\"M0 0h24v24H0V0z\" fill=\"none\"/>\n",
              "    <path d=\"M18.56 5.44l.94 2.06.94-2.06 2.06-.94-2.06-.94-.94-2.06-.94 2.06-2.06.94zm-11 1L8.5 8.5l.94-2.06 2.06-.94-2.06-.94L8.5 2.5l-.94 2.06-2.06.94zm10 10l.94 2.06.94-2.06 2.06-.94-2.06-.94-.94-2.06-.94 2.06-2.06.94z\"/><path d=\"M17.41 7.96l-1.37-1.37c-.4-.4-.92-.59-1.43-.59-.52 0-1.04.2-1.43.59L10.3 9.45l-7.72 7.72c-.78.78-.78 2.05 0 2.83L4 21.41c.39.39.9.59 1.41.59.51 0 1.02-.2 1.41-.59l7.78-7.78 2.81-2.81c.8-.78.8-2.07 0-2.86zM5.41 20L4 18.59l7.72-7.72 1.47 1.35L5.41 20z\"/>\n",
              "  </svg>\n",
              "      </button>\n",
              "      \n",
              "  <style>\n",
              "    .colab-df-container {\n",
              "      display:flex;\n",
              "      flex-wrap:wrap;\n",
              "      gap: 12px;\n",
              "    }\n",
              "\n",
              "    .colab-df-convert {\n",
              "      background-color: #E8F0FE;\n",
              "      border: none;\n",
              "      border-radius: 50%;\n",
              "      cursor: pointer;\n",
              "      display: none;\n",
              "      fill: #1967D2;\n",
              "      height: 32px;\n",
              "      padding: 0 0 0 0;\n",
              "      width: 32px;\n",
              "    }\n",
              "\n",
              "    .colab-df-convert:hover {\n",
              "      background-color: #E2EBFA;\n",
              "      box-shadow: 0px 1px 2px rgba(60, 64, 67, 0.3), 0px 1px 3px 1px rgba(60, 64, 67, 0.15);\n",
              "      fill: #174EA6;\n",
              "    }\n",
              "\n",
              "    [theme=dark] .colab-df-convert {\n",
              "      background-color: #3B4455;\n",
              "      fill: #D2E3FC;\n",
              "    }\n",
              "\n",
              "    [theme=dark] .colab-df-convert:hover {\n",
              "      background-color: #434B5C;\n",
              "      box-shadow: 0px 1px 3px 1px rgba(0, 0, 0, 0.15);\n",
              "      filter: drop-shadow(0px 1px 2px rgba(0, 0, 0, 0.3));\n",
              "      fill: #FFFFFF;\n",
              "    }\n",
              "  </style>\n",
              "\n",
              "      <script>\n",
              "        const buttonEl =\n",
              "          document.querySelector('#df-ec4c75c5-31a6-4e47-8b00-e6b85a992899 button.colab-df-convert');\n",
              "        buttonEl.style.display =\n",
              "          google.colab.kernel.accessAllowed ? 'block' : 'none';\n",
              "\n",
              "        async function convertToInteractive(key) {\n",
              "          const element = document.querySelector('#df-ec4c75c5-31a6-4e47-8b00-e6b85a992899');\n",
              "          const dataTable =\n",
              "            await google.colab.kernel.invokeFunction('convertToInteractive',\n",
              "                                                     [key], {});\n",
              "          if (!dataTable) return;\n",
              "\n",
              "          const docLinkHtml = 'Like what you see? Visit the ' +\n",
              "            '<a target=\"_blank\" href=https://colab.research.google.com/notebooks/data_table.ipynb>data table notebook</a>'\n",
              "            + ' to learn more about interactive tables.';\n",
              "          element.innerHTML = '';\n",
              "          dataTable['output_type'] = 'display_data';\n",
              "          await google.colab.output.renderOutput(dataTable, element);\n",
              "          const docLink = document.createElement('div');\n",
              "          docLink.innerHTML = docLinkHtml;\n",
              "          element.appendChild(docLink);\n",
              "        }\n",
              "      </script>\n",
              "    </div>\n",
              "  </div>\n",
              "  "
            ]
          },
          "metadata": {}
        }
      ],
      "source": [
        "!pip install yfinance -q\n",
        "\n",
        "# -- Importação de bibliotecas e dados\n",
        "import pandas as pd\n",
        "import yfinance as yf\n",
        "\n",
        "msft = yf.Ticker(\"BOVA11.SA\")\n",
        "\n",
        "# -- Dataset Histórico\n",
        "df = msft.history(interval='1d', start='2019-01-01', end='2022-07-28')\n",
        "df['dif'] = df['Close'] - df['Open']\n",
        "print(df.shape)\n",
        "display(df)"
      ]
    },
    {
      "cell_type": "markdown",
      "source": [
        "Importando as bibliotecas"
      ],
      "metadata": {
        "id": "wI6nMwqQywog"
      }
    },
    {
      "cell_type": "code",
      "source": [
        "import numpy as np\n",
        "import pandas as pd\n",
        "#bibliotecas para gráficos 2D estáticos\n",
        "import seaborn as sns\n",
        "import matplotlib.pyplot as plt\n",
        "#biblioteca para gráficos interativos, pode fazer em 2D ou 3D\n",
        "#plotly.express --> fornece funções para visualizar uma variedade de gráficos com vários tipos de dados\n",
        "import plotly.express as px\n",
        "import plotly.graph_objects as go"
      ],
      "metadata": {
        "id": "0--1pBDmx-_B"
      },
      "execution_count": 4,
      "outputs": []
    },
    {
      "cell_type": "markdown",
      "source": [
        "Defina aspectos do tema visual para todos os gráficos matplotlib e seaborn usa-se a sns.set_theme(), pra deixar o aspecto visual mais bonito, pois os gráficos padrão do matplotlib são feios"
      ],
      "metadata": {
        "id": "wLVjlqer4isZ"
      }
    },
    {
      "cell_type": "code",
      "source": [
        "sns.set_theme(\n",
        "    context='talk', #deixar os gráficos numa escala com fontes maiores\n",
        "    style='ticks', #fundo branco\n",
        "    font_scale= 0.8, #ajuste tamanho da fonte\n",
        "    rc={\n",
        "        'figure.figsize': (10,6), #definir o padrão pro tamanho da figura\n",
        "        'axes.grid': True,\n",
        "        'grid.alpha':0.2\n",
        "    }\n",
        ")"
      ],
      "metadata": {
        "id": "R13zjMK2tG6B"
      },
      "execution_count": 5,
      "outputs": []
    },
    {
      "cell_type": "markdown",
      "source": [
        "1 - Calcule média, desvio padrão, e a moda da coluna dif?"
      ],
      "metadata": {
        "id": "tMO8DWno6pSJ"
      }
    },
    {
      "cell_type": "code",
      "source": [
        "#acessando a coluna como um dataframe\n",
        "df[['dif']]"
      ],
      "metadata": {
        "colab": {
          "base_uri": "https://localhost:8080/",
          "height": 455
        },
        "id": "L7IDMT4y6iqV",
        "outputId": "8e347a20-a2d9-49eb-a451-07f21f20720a"
      },
      "execution_count": 6,
      "outputs": [
        {
          "output_type": "execute_result",
          "data": {
            "text/plain": [
              "                                dif\n",
              "Date                               \n",
              "2019-01-02 00:00:00-02:00  3.300003\n",
              "2019-01-03 00:00:00-02:00  0.449997\n",
              "2019-01-04 00:00:00-02:00  0.300003\n",
              "2019-01-07 00:00:00-02:00 -0.169998\n",
              "2019-01-08 00:00:00-02:00  0.080002\n",
              "...                             ...\n",
              "2022-07-21 00:00:00-03:00  1.360001\n",
              "2022-07-22 00:00:00-03:00 -0.370003\n",
              "2022-07-25 00:00:00-03:00  0.440002\n",
              "2022-07-26 00:00:00-03:00 -0.729996\n",
              "2022-07-27 00:00:00-03:00  1.060005\n",
              "\n",
              "[886 rows x 1 columns]"
            ],
            "text/html": [
              "\n",
              "  <div id=\"df-e7551e78-50d9-4bd0-a2d8-24f4113fc418\">\n",
              "    <div class=\"colab-df-container\">\n",
              "      <div>\n",
              "<style scoped>\n",
              "    .dataframe tbody tr th:only-of-type {\n",
              "        vertical-align: middle;\n",
              "    }\n",
              "\n",
              "    .dataframe tbody tr th {\n",
              "        vertical-align: top;\n",
              "    }\n",
              "\n",
              "    .dataframe thead th {\n",
              "        text-align: right;\n",
              "    }\n",
              "</style>\n",
              "<table border=\"1\" class=\"dataframe\">\n",
              "  <thead>\n",
              "    <tr style=\"text-align: right;\">\n",
              "      <th></th>\n",
              "      <th>dif</th>\n",
              "    </tr>\n",
              "    <tr>\n",
              "      <th>Date</th>\n",
              "      <th></th>\n",
              "    </tr>\n",
              "  </thead>\n",
              "  <tbody>\n",
              "    <tr>\n",
              "      <th>2019-01-02 00:00:00-02:00</th>\n",
              "      <td>3.300003</td>\n",
              "    </tr>\n",
              "    <tr>\n",
              "      <th>2019-01-03 00:00:00-02:00</th>\n",
              "      <td>0.449997</td>\n",
              "    </tr>\n",
              "    <tr>\n",
              "      <th>2019-01-04 00:00:00-02:00</th>\n",
              "      <td>0.300003</td>\n",
              "    </tr>\n",
              "    <tr>\n",
              "      <th>2019-01-07 00:00:00-02:00</th>\n",
              "      <td>-0.169998</td>\n",
              "    </tr>\n",
              "    <tr>\n",
              "      <th>2019-01-08 00:00:00-02:00</th>\n",
              "      <td>0.080002</td>\n",
              "    </tr>\n",
              "    <tr>\n",
              "      <th>...</th>\n",
              "      <td>...</td>\n",
              "    </tr>\n",
              "    <tr>\n",
              "      <th>2022-07-21 00:00:00-03:00</th>\n",
              "      <td>1.360001</td>\n",
              "    </tr>\n",
              "    <tr>\n",
              "      <th>2022-07-22 00:00:00-03:00</th>\n",
              "      <td>-0.370003</td>\n",
              "    </tr>\n",
              "    <tr>\n",
              "      <th>2022-07-25 00:00:00-03:00</th>\n",
              "      <td>0.440002</td>\n",
              "    </tr>\n",
              "    <tr>\n",
              "      <th>2022-07-26 00:00:00-03:00</th>\n",
              "      <td>-0.729996</td>\n",
              "    </tr>\n",
              "    <tr>\n",
              "      <th>2022-07-27 00:00:00-03:00</th>\n",
              "      <td>1.060005</td>\n",
              "    </tr>\n",
              "  </tbody>\n",
              "</table>\n",
              "<p>886 rows × 1 columns</p>\n",
              "</div>\n",
              "      <button class=\"colab-df-convert\" onclick=\"convertToInteractive('df-e7551e78-50d9-4bd0-a2d8-24f4113fc418')\"\n",
              "              title=\"Convert this dataframe to an interactive table.\"\n",
              "              style=\"display:none;\">\n",
              "        \n",
              "  <svg xmlns=\"http://www.w3.org/2000/svg\" height=\"24px\"viewBox=\"0 0 24 24\"\n",
              "       width=\"24px\">\n",
              "    <path d=\"M0 0h24v24H0V0z\" fill=\"none\"/>\n",
              "    <path d=\"M18.56 5.44l.94 2.06.94-2.06 2.06-.94-2.06-.94-.94-2.06-.94 2.06-2.06.94zm-11 1L8.5 8.5l.94-2.06 2.06-.94-2.06-.94L8.5 2.5l-.94 2.06-2.06.94zm10 10l.94 2.06.94-2.06 2.06-.94-2.06-.94-.94-2.06-.94 2.06-2.06.94z\"/><path d=\"M17.41 7.96l-1.37-1.37c-.4-.4-.92-.59-1.43-.59-.52 0-1.04.2-1.43.59L10.3 9.45l-7.72 7.72c-.78.78-.78 2.05 0 2.83L4 21.41c.39.39.9.59 1.41.59.51 0 1.02-.2 1.41-.59l7.78-7.78 2.81-2.81c.8-.78.8-2.07 0-2.86zM5.41 20L4 18.59l7.72-7.72 1.47 1.35L5.41 20z\"/>\n",
              "  </svg>\n",
              "      </button>\n",
              "      \n",
              "  <style>\n",
              "    .colab-df-container {\n",
              "      display:flex;\n",
              "      flex-wrap:wrap;\n",
              "      gap: 12px;\n",
              "    }\n",
              "\n",
              "    .colab-df-convert {\n",
              "      background-color: #E8F0FE;\n",
              "      border: none;\n",
              "      border-radius: 50%;\n",
              "      cursor: pointer;\n",
              "      display: none;\n",
              "      fill: #1967D2;\n",
              "      height: 32px;\n",
              "      padding: 0 0 0 0;\n",
              "      width: 32px;\n",
              "    }\n",
              "\n",
              "    .colab-df-convert:hover {\n",
              "      background-color: #E2EBFA;\n",
              "      box-shadow: 0px 1px 2px rgba(60, 64, 67, 0.3), 0px 1px 3px 1px rgba(60, 64, 67, 0.15);\n",
              "      fill: #174EA6;\n",
              "    }\n",
              "\n",
              "    [theme=dark] .colab-df-convert {\n",
              "      background-color: #3B4455;\n",
              "      fill: #D2E3FC;\n",
              "    }\n",
              "\n",
              "    [theme=dark] .colab-df-convert:hover {\n",
              "      background-color: #434B5C;\n",
              "      box-shadow: 0px 1px 3px 1px rgba(0, 0, 0, 0.15);\n",
              "      filter: drop-shadow(0px 1px 2px rgba(0, 0, 0, 0.3));\n",
              "      fill: #FFFFFF;\n",
              "    }\n",
              "  </style>\n",
              "\n",
              "      <script>\n",
              "        const buttonEl =\n",
              "          document.querySelector('#df-e7551e78-50d9-4bd0-a2d8-24f4113fc418 button.colab-df-convert');\n",
              "        buttonEl.style.display =\n",
              "          google.colab.kernel.accessAllowed ? 'block' : 'none';\n",
              "\n",
              "        async function convertToInteractive(key) {\n",
              "          const element = document.querySelector('#df-e7551e78-50d9-4bd0-a2d8-24f4113fc418');\n",
              "          const dataTable =\n",
              "            await google.colab.kernel.invokeFunction('convertToInteractive',\n",
              "                                                     [key], {});\n",
              "          if (!dataTable) return;\n",
              "\n",
              "          const docLinkHtml = 'Like what you see? Visit the ' +\n",
              "            '<a target=\"_blank\" href=https://colab.research.google.com/notebooks/data_table.ipynb>data table notebook</a>'\n",
              "            + ' to learn more about interactive tables.';\n",
              "          element.innerHTML = '';\n",
              "          dataTable['output_type'] = 'display_data';\n",
              "          await google.colab.output.renderOutput(dataTable, element);\n",
              "          const docLink = document.createElement('div');\n",
              "          docLink.innerHTML = docLinkHtml;\n",
              "          element.appendChild(docLink);\n",
              "        }\n",
              "      </script>\n",
              "    </div>\n",
              "  </div>\n",
              "  "
            ]
          },
          "metadata": {},
          "execution_count": 6
        }
      ]
    },
    {
      "cell_type": "code",
      "source": [
        "#calculando a média\n",
        "df['dif'].mean()"
      ],
      "metadata": {
        "colab": {
          "base_uri": "https://localhost:8080/"
        },
        "id": "opTL_2JF8NrB",
        "outputId": "60ce2d63-15e3-4ec7-8844-f5b9daa8a3c9"
      },
      "execution_count": 7,
      "outputs": [
        {
          "output_type": "execute_result",
          "data": {
            "text/plain": [
              "-0.07477434386518148"
            ]
          },
          "metadata": {},
          "execution_count": 7
        }
      ]
    },
    {
      "cell_type": "code",
      "source": [
        "#calculando desvio padrão\n",
        "df['dif'].std()"
      ],
      "metadata": {
        "colab": {
          "base_uri": "https://localhost:8080/"
        },
        "id": "2XaY3BCA8XVI",
        "outputId": "b9b92c27-9553-47a9-ff9c-36b825df5808"
      },
      "execution_count": 8,
      "outputs": [
        {
          "output_type": "execute_result",
          "data": {
            "text/plain": [
              "1.1631112620322424"
            ]
          },
          "metadata": {},
          "execution_count": 8
        }
      ]
    },
    {
      "cell_type": "code",
      "source": [
        "#calculando a moda\n",
        "df['dif'].mode().values"
      ],
      "metadata": {
        "colab": {
          "base_uri": "https://localhost:8080/"
        },
        "id": "s8Hx9gsA8bPA",
        "outputId": "978f7d6d-b285-4c63-a7c2-6b51ce1a79b6"
      },
      "execution_count": 9,
      "outputs": [
        {
          "output_type": "execute_result",
          "data": {
            "text/plain": [
              "array([0.])"
            ]
          },
          "metadata": {},
          "execution_count": 9
        }
      ]
    },
    {
      "cell_type": "code",
      "source": [
        "# ou poderia passar tudo como uma lista usando a função agg(agrega todos os valores e transforma e um só). Porém não pega na moda\n",
        "df['dif'].agg(['mean','std'])"
      ],
      "metadata": {
        "colab": {
          "base_uri": "https://localhost:8080/"
        },
        "id": "WYHbKo3T9Ki5",
        "outputId": "05eeae09-6001-4733-da2e-272525a9919e"
      },
      "execution_count": 10,
      "outputs": [
        {
          "output_type": "execute_result",
          "data": {
            "text/plain": [
              "mean   -0.074774\n",
              "std     1.163111\n",
              "Name: dif, dtype: float64"
            ]
          },
          "metadata": {},
          "execution_count": 10
        }
      ]
    },
    {
      "cell_type": "code",
      "source": [
        "#criar uma função para pegar a moda\n",
        "def mode(values):\n",
        "  return pd.Series.mode(values)[0]\n",
        "\n",
        "mode(df['dif'])"
      ],
      "metadata": {
        "colab": {
          "base_uri": "https://localhost:8080/"
        },
        "id": "trvPrecx93BJ",
        "outputId": "82d21845-b225-4326-8f44-6eda95ce5684"
      },
      "execution_count": 11,
      "outputs": [
        {
          "output_type": "execute_result",
          "data": {
            "text/plain": [
              "0.0"
            ]
          },
          "metadata": {},
          "execution_count": 11
        }
      ]
    },
    {
      "cell_type": "code",
      "source": [
        "#mostrando as três \n",
        "df['dif'].agg(['mean','std', mode])"
      ],
      "metadata": {
        "colab": {
          "base_uri": "https://localhost:8080/"
        },
        "id": "X9ASK2zA-brx",
        "outputId": "ddfe3e72-5d7f-4d7c-8b0f-298d6f3c5667"
      },
      "execution_count": 12,
      "outputs": [
        {
          "output_type": "execute_result",
          "data": {
            "text/plain": [
              "mean   -0.074774\n",
              "std     1.163111\n",
              "mode    0.000000\n",
              "Name: dif, dtype: float64"
            ]
          },
          "metadata": {},
          "execution_count": 12
        }
      ]
    },
    {
      "cell_type": "markdown",
      "source": [
        "2 - Construa um gráfico de boxplot do dif e responda, qual é (aproximadamente) o valor do outlier mais distante?"
      ],
      "metadata": {
        "id": "Uk-L-pHu-6CD"
      }
    },
    {
      "cell_type": "code",
      "source": [
        "df['dif'].plot.box()\n",
        "plt.show()"
      ],
      "metadata": {
        "colab": {
          "base_uri": "https://localhost:8080/",
          "height": 383
        },
        "id": "5O8wEFgI-67q",
        "outputId": "6ca334f1-e81a-4f54-a0c6-027905c05ad5"
      },
      "execution_count": 13,
      "outputs": [
        {
          "output_type": "display_data",
          "data": {
            "text/plain": [
              "<Figure size 720x432 with 1 Axes>"
            ],
            "image/png": "[encoded data removed]"
          },
          "metadata": {}
        }
      ]
    },
    {
      "cell_type": "markdown",
      "source": [
        "3 - Calcule a maior amplitude do dia (High - Low), qual seria a média e variância dessa amplitude para os dados?"
      ],
      "metadata": {
        "id": "3dDpypbhKxYq"
      }
    },
    {
      "cell_type": "code",
      "source": [
        "df['amplitude'] = df.High  - df.Low # ou posso escrever df['amplitude'] = df['High'] - df['Low']\n",
        "display(df)"
      ],
      "metadata": {
        "colab": {
          "base_uri": "https://localhost:8080/",
          "height": 455
        },
        "id": "-TINVB_BKuLj",
        "outputId": "b85f9168-a335-49d8-de65-3f40ce403ad1"
      },
      "execution_count": 17,
      "outputs": [
        {
          "output_type": "display_data",
          "data": {
            "text/plain": [
              "                                Open       High        Low      Close  \\\n",
              "Date                                                                    \n",
              "2019-01-02 00:00:00-02:00  84.599998  88.260002  84.349998  87.900002   \n",
              "2019-01-03 00:00:00-02:00  87.550003  88.400002  86.800003  88.000000   \n",
              "2019-01-04 00:00:00-02:00  88.199997  89.449997  87.629997  88.500000   \n",
              "2019-01-07 00:00:00-02:00  88.650002  89.320000  88.059998  88.480003   \n",
              "2019-01-08 00:00:00-02:00  88.750000  88.970001  87.870003  88.830002   \n",
              "...                              ...        ...        ...        ...   \n",
              "2022-07-21 00:00:00-03:00  93.989998  95.529999  93.620003  95.349998   \n",
              "2022-07-22 00:00:00-03:00  95.790001  96.160004  94.820000  95.419998   \n",
              "2022-07-25 00:00:00-03:00  96.309998  96.930000  96.029999  96.750000   \n",
              "2022-07-26 00:00:00-03:00  96.879997  97.160004  95.849998  96.150002   \n",
              "2022-07-27 00:00:00-03:00  96.769997  97.940002  96.459999  97.830002   \n",
              "\n",
              "                            Volume  Dividends  Stock Splits       dif  \\\n",
              "Date                                                                    \n",
              "2019-01-02 00:00:00-02:00  5021260          0             0  3.300003   \n",
              "2019-01-03 00:00:00-02:00  4300220          0             0  0.449997   \n",
              "2019-01-04 00:00:00-02:00  2449750          0             0  0.300003   \n",
              "2019-01-07 00:00:00-02:00  2891360          0             0 -0.169998   \n",
              "2019-01-08 00:00:00-02:00  3441770          0             0  0.080002   \n",
              "...                            ...        ...           ...       ...   \n",
              "2022-07-21 00:00:00-03:00  7765854          0             0  1.360001   \n",
              "2022-07-22 00:00:00-03:00  5037163          0             0 -0.370003   \n",
              "2022-07-25 00:00:00-03:00  4192244          0             0  0.440002   \n",
              "2022-07-26 00:00:00-03:00  4780077          0             0 -0.729996   \n",
              "2022-07-27 00:00:00-03:00  4846166          0             0  1.060005   \n",
              "\n",
              "                           amplitude  \n",
              "Date                                  \n",
              "2019-01-02 00:00:00-02:00   3.910004  \n",
              "2019-01-03 00:00:00-02:00   1.599998  \n",
              "2019-01-04 00:00:00-02:00   1.820000  \n",
              "2019-01-07 00:00:00-02:00   1.260002  \n",
              "2019-01-08 00:00:00-02:00   1.099998  \n",
              "...                              ...  \n",
              "2022-07-21 00:00:00-03:00   1.909996  \n",
              "2022-07-22 00:00:00-03:00   1.340004  \n",
              "2022-07-25 00:00:00-03:00   0.900002  \n",
              "2022-07-26 00:00:00-03:00   1.310005  \n",
              "2022-07-27 00:00:00-03:00   1.480003  \n",
              "\n",
              "[886 rows x 9 columns]"
            ],
            "text/html": [
              "\n",
              "  <div id=\"df-b2e757f1-7001-4044-9e3b-733d3e9cbf3e\">\n",
              "    <div class=\"colab-df-container\">\n",
              "      <div>\n",
              "<style scoped>\n",
              "    .dataframe tbody tr th:only-of-type {\n",
              "        vertical-align: middle;\n",
              "    }\n",
              "\n",
              "    .dataframe tbody tr th {\n",
              "        vertical-align: top;\n",
              "    }\n",
              "\n",
              "    .dataframe thead th {\n",
              "        text-align: right;\n",
              "    }\n",
              "</style>\n",
              "<table border=\"1\" class=\"dataframe\">\n",
              "  <thead>\n",
              "    <tr style=\"text-align: right;\">\n",
              "      <th></th>\n",
              "      <th>Open</th>\n",
              "      <th>High</th>\n",
              "      <th>Low</th>\n",
              "      <th>Close</th>\n",
              "      <th>Volume</th>\n",
              "      <th>Dividends</th>\n",
              "      <th>Stock Splits</th>\n",
              "      <th>dif</th>\n",
              "      <th>amplitude</th>\n",
              "    </tr>\n",
              "    <tr>\n",
              "      <th>Date</th>\n",
              "      <th></th>\n",
              "      <th></th>\n",
              "      <th></th>\n",
              "      <th></th>\n",
              "      <th></th>\n",
              "      <th></th>\n",
              "      <th></th>\n",
              "      <th></th>\n",
              "      <th></th>\n",
              "    </tr>\n",
              "  </thead>\n",
              "  <tbody>\n",
              "    <tr>\n",
              "      <th>2019-01-02 00:00:00-02:00</th>\n",
              "      <td>84.599998</td>\n",
              "      <td>88.260002</td>\n",
              "      <td>84.349998</td>\n",
              "      <td>87.900002</td>\n",
              "      <td>5021260</td>\n",
              "      <td>0</td>\n",
              "      <td>0</td>\n",
              "      <td>3.300003</td>\n",
              "      <td>3.910004</td>\n",
              "    </tr>\n",
              "    <tr>\n",
              "      <th>2019-01-03 00:00:00-02:00</th>\n",
              "      <td>87.550003</td>\n",
              "      <td>88.400002</td>\n",
              "      <td>86.800003</td>\n",
              "      <td>88.000000</td>\n",
              "      <td>4300220</td>\n",
              "      <td>0</td>\n",
              "      <td>0</td>\n",
              "      <td>0.449997</td>\n",
              "      <td>1.599998</td>\n",
              "    </tr>\n",
              "    <tr>\n",
              "      <th>2019-01-04 00:00:00-02:00</th>\n",
              "      <td>88.199997</td>\n",
              "      <td>89.449997</td>\n",
              "      <td>87.629997</td>\n",
              "      <td>88.500000</td>\n",
              "      <td>2449750</td>\n",
              "      <td>0</td>\n",
              "      <td>0</td>\n",
              "      <td>0.300003</td>\n",
              "      <td>1.820000</td>\n",
              "    </tr>\n",
              "    <tr>\n",
              "      <th>2019-01-07 00:00:00-02:00</th>\n",
              "      <td>88.650002</td>\n",
              "      <td>89.320000</td>\n",
              "      <td>88.059998</td>\n",
              "      <td>88.480003</td>\n",
              "      <td>2891360</td>\n",
              "      <td>0</td>\n",
              "      <td>0</td>\n",
              "      <td>-0.169998</td>\n",
              "      <td>1.260002</td>\n",
              "    </tr>\n",
              "    <tr>\n",
              "      <th>2019-01-08 00:00:00-02:00</th>\n",
              "      <td>88.750000</td>\n",
              "      <td>88.970001</td>\n",
              "      <td>87.870003</td>\n",
              "      <td>88.830002</td>\n",
              "      <td>3441770</td>\n",
              "      <td>0</td>\n",
              "      <td>0</td>\n",
              "      <td>0.080002</td>\n",
              "      <td>1.099998</td>\n",
              "    </tr>\n",
              "    <tr>\n",
              "      <th>...</th>\n",
              "      <td>...</td>\n",
              "      <td>...</td>\n",
              "      <td>...</td>\n",
              "      <td>...</td>\n",
              "      <td>...</td>\n",
              "      <td>...</td>\n",
              "      <td>...</td>\n",
              "      <td>...</td>\n",
              "      <td>...</td>\n",
              "    </tr>\n",
              "    <tr>\n",
              "      <th>2022-07-21 00:00:00-03:00</th>\n",
              "      <td>93.989998</td>\n",
              "      <td>95.529999</td>\n",
              "      <td>93.620003</td>\n",
              "      <td>95.349998</td>\n",
              "      <td>7765854</td>\n",
              "      <td>0</td>\n",
              "      <td>0</td>\n",
              "      <td>1.360001</td>\n",
              "      <td>1.909996</td>\n",
              "    </tr>\n",
              "    <tr>\n",
              "      <th>2022-07-22 00:00:00-03:00</th>\n",
              "      <td>95.790001</td>\n",
              "      <td>96.160004</td>\n",
              "      <td>94.820000</td>\n",
              "      <td>95.419998</td>\n",
              "      <td>5037163</td>\n",
              "      <td>0</td>\n",
              "      <td>0</td>\n",
              "      <td>-0.370003</td>\n",
              "      <td>1.340004</td>\n",
              "    </tr>\n",
              "    <tr>\n",
              "      <th>2022-07-25 00:00:00-03:00</th>\n",
              "      <td>96.309998</td>\n",
              "      <td>96.930000</td>\n",
              "      <td>96.029999</td>\n",
              "      <td>96.750000</td>\n",
              "      <td>4192244</td>\n",
              "      <td>0</td>\n",
              "      <td>0</td>\n",
              "      <td>0.440002</td>\n",
              "      <td>0.900002</td>\n",
              "    </tr>\n",
              "    <tr>\n",
              "      <th>2022-07-26 00:00:00-03:00</th>\n",
              "      <td>96.879997</td>\n",
              "      <td>97.160004</td>\n",
              "      <td>95.849998</td>\n",
              "      <td>96.150002</td>\n",
              "      <td>4780077</td>\n",
              "      <td>0</td>\n",
              "      <td>0</td>\n",
              "      <td>-0.729996</td>\n",
              "      <td>1.310005</td>\n",
              "    </tr>\n",
              "    <tr>\n",
              "      <th>2022-07-27 00:00:00-03:00</th>\n",
              "      <td>96.769997</td>\n",
              "      <td>97.940002</td>\n",
              "      <td>96.459999</td>\n",
              "      <td>97.830002</td>\n",
              "      <td>4846166</td>\n",
              "      <td>0</td>\n",
              "      <td>0</td>\n",
              "      <td>1.060005</td>\n",
              "      <td>1.480003</td>\n",
              "    </tr>\n",
              "  </tbody>\n",
              "</table>\n",
              "<p>886 rows × 9 columns</p>\n",
              "</div>\n",
              "      <button class=\"colab-df-convert\" onclick=\"convertToInteractive('df-b2e757f1-7001-4044-9e3b-733d3e9cbf3e')\"\n",
              "              title=\"Convert this dataframe to an interactive table.\"\n",
              "              style=\"display:none;\">\n",
              "        \n",
              "  <svg xmlns=\"http://www.w3.org/2000/svg\" height=\"24px\"viewBox=\"0 0 24 24\"\n",
              "       width=\"24px\">\n",
              "    <path d=\"M0 0h24v24H0V0z\" fill=\"none\"/>\n",
              "    <path d=\"M18.56 5.44l.94 2.06.94-2.06 2.06-.94-2.06-.94-.94-2.06-.94 2.06-2.06.94zm-11 1L8.5 8.5l.94-2.06 2.06-.94-2.06-.94L8.5 2.5l-.94 2.06-2.06.94zm10 10l.94 2.06.94-2.06 2.06-.94-2.06-.94-.94-2.06-.94 2.06-2.06.94z\"/><path d=\"M17.41 7.96l-1.37-1.37c-.4-.4-.92-.59-1.43-.59-.52 0-1.04.2-1.43.59L10.3 9.45l-7.72 7.72c-.78.78-.78 2.05 0 2.83L4 21.41c.39.39.9.59 1.41.59.51 0 1.02-.2 1.41-.59l7.78-7.78 2.81-2.81c.8-.78.8-2.07 0-2.86zM5.41 20L4 18.59l7.72-7.72 1.47 1.35L5.41 20z\"/>\n",
              "  </svg>\n",
              "      </button>\n",
              "      \n",
              "  <style>\n",
              "    .colab-df-container {\n",
              "      display:flex;\n",
              "      flex-wrap:wrap;\n",
              "      gap: 12px;\n",
              "    }\n",
              "\n",
              "    .colab-df-convert {\n",
              "      background-color: #E8F0FE;\n",
              "      border: none;\n",
              "      border-radius: 50%;\n",
              "      cursor: pointer;\n",
              "      display: none;\n",
              "      fill: #1967D2;\n",
              "      height: 32px;\n",
              "      padding: 0 0 0 0;\n",
              "      width: 32px;\n",
              "    }\n",
              "\n",
              "    .colab-df-convert:hover {\n",
              "      background-color: #E2EBFA;\n",
              "      box-shadow: 0px 1px 2px rgba(60, 64, 67, 0.3), 0px 1px 3px 1px rgba(60, 64, 67, 0.15);\n",
              "      fill: #174EA6;\n",
              "    }\n",
              "\n",
              "    [theme=dark] .colab-df-convert {\n",
              "      background-color: #3B4455;\n",
              "      fill: #D2E3FC;\n",
              "    }\n",
              "\n",
              "    [theme=dark] .colab-df-convert:hover {\n",
              "      background-color: #434B5C;\n",
              "      box-shadow: 0px 1px 3px 1px rgba(0, 0, 0, 0.15);\n",
              "      filter: drop-shadow(0px 1px 2px rgba(0, 0, 0, 0.3));\n",
              "      fill: #FFFFFF;\n",
              "    }\n",
              "  </style>\n",
              "\n",
              "      <script>\n",
              "        const buttonEl =\n",
              "          document.querySelector('#df-b2e757f1-7001-4044-9e3b-733d3e9cbf3e button.colab-df-convert');\n",
              "        buttonEl.style.display =\n",
              "          google.colab.kernel.accessAllowed ? 'block' : 'none';\n",
              "\n",
              "        async function convertToInteractive(key) {\n",
              "          const element = document.querySelector('#df-b2e757f1-7001-4044-9e3b-733d3e9cbf3e');\n",
              "          const dataTable =\n",
              "            await google.colab.kernel.invokeFunction('convertToInteractive',\n",
              "                                                     [key], {});\n",
              "          if (!dataTable) return;\n",
              "\n",
              "          const docLinkHtml = 'Like what you see? Visit the ' +\n",
              "            '<a target=\"_blank\" href=https://colab.research.google.com/notebooks/data_table.ipynb>data table notebook</a>'\n",
              "            + ' to learn more about interactive tables.';\n",
              "          element.innerHTML = '';\n",
              "          dataTable['output_type'] = 'display_data';\n",
              "          await google.colab.output.renderOutput(dataTable, element);\n",
              "          const docLink = document.createElement('div');\n",
              "          docLink.innerHTML = docLinkHtml;\n",
              "          element.appendChild(docLink);\n",
              "        }\n",
              "      </script>\n",
              "    </div>\n",
              "  </div>\n",
              "  "
            ]
          },
          "metadata": {}
        }
      ]
    },
    {
      "cell_type": "code",
      "source": [
        "#calculando a média e a variância\n",
        "df['amplitude'].agg(['mean', 'std'])"
      ],
      "metadata": {
        "colab": {
          "base_uri": "https://localhost:8080/"
        },
        "id": "PoFSb2mtOu7i",
        "outputId": "e12a6734-cc73-4b79-e1bf-e41379ee7c4e"
      },
      "execution_count": 22,
      "outputs": [
        {
          "output_type": "execute_result",
          "data": {
            "text/plain": [
              "mean    1.786829\n",
              "std     1.008223\n",
              "Name: amplitude, dtype: float64"
            ]
          },
          "metadata": {},
          "execution_count": 22
        }
      ]
    }
  ]
}