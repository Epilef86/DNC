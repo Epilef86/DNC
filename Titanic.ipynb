{
  "nbformat": 4,
  "nbformat_minor": 0,
  "metadata": {
    "colab": {
      "provenance": [],
      "authorship_tag": "ABX9TyP1O/tkUw+LQVzSuL+ufNeY",
      "include_colab_link": true
    },
    "kernelspec": {
      "name": "python3",
      "display_name": "Python 3"
    },
    "language_info": {
      "name": "python"
    }
  },
  "cells": [
    {
      "cell_type": "markdown",
      "metadata": {
        "id": "view-in-github",
        "colab_type": "text"
      },
      "source": [
        "<a href=\"https://colab.research.google.com/github/Epilef86/DNC/blob/main/Titanic.ipynb\" target=\"_parent\"><img src=\"https://colab.research.google.com/assets/colab-badge.svg\" alt=\"Open In Colab\"/></a>"
      ]
    },
    {
      "cell_type": "code",
      "execution_count": 184,
      "metadata": {
        "id": "NlRN0m8NXY5s"
      },
      "outputs": [],
      "source": [
        "import pandas as pd"
      ]
    },
    {
      "cell_type": "code",
      "source": [
        "teste = pd.read_csv('/content/test.csv')"
      ],
      "metadata": {
        "id": "6pbI0zpSXoWu"
      },
      "execution_count": 185,
      "outputs": []
    },
    {
      "cell_type": "code",
      "source": [
        "treino = pd.read_csv('/content/train.csv')"
      ],
      "metadata": {
        "id": "dp6cPDmTXwzE"
      },
      "execution_count": 186,
      "outputs": []
    },
    {
      "cell_type": "code",
      "source": [
        "teste.head()"
      ],
      "metadata": {
        "colab": {
          "base_uri": "https://localhost:8080/",
          "height": 250
        },
        "id": "tEGxRNWgX2t-",
        "outputId": "a51c865f-d0a5-4ff6-e546-59a3780e05cd"
      },
      "execution_count": 187,
      "outputs": [
        {
          "output_type": "execute_result",
          "data": {
            "text/plain": [
              "   PassengerId  Pclass                                          Name     Sex  \\\n",
              "0          892       3                              Kelly, Mr. James    male   \n",
              "1          893       3              Wilkes, Mrs. James (Ellen Needs)  female   \n",
              "2          894       2                     Myles, Mr. Thomas Francis    male   \n",
              "3          895       3                              Wirz, Mr. Albert    male   \n",
              "4          896       3  Hirvonen, Mrs. Alexander (Helga E Lindqvist)  female   \n",
              "\n",
              "    Age  SibSp  Parch   Ticket     Fare Cabin Embarked  \n",
              "0  34.5      0      0   330911   7.8292   NaN        Q  \n",
              "1  47.0      1      0   363272   7.0000   NaN        S  \n",
              "2  62.0      0      0   240276   9.6875   NaN        Q  \n",
              "3  27.0      0      0   315154   8.6625   NaN        S  \n",
              "4  22.0      1      1  3101298  12.2875   NaN        S  "
            ],
            "text/html": [
              "\n",
              "  <div id=\"df-2d071dae-ac11-42ae-a171-95d06ae09041\">\n",
              "    <div class=\"colab-df-container\">\n",
              "      <div>\n",
              "<style scoped>\n",
              "    .dataframe tbody tr th:only-of-type {\n",
              "        vertical-align: middle;\n",
              "    }\n",
              "\n",
              "    .dataframe tbody tr th {\n",
              "        vertical-align: top;\n",
              "    }\n",
              "\n",
              "    .dataframe thead th {\n",
              "        text-align: right;\n",
              "    }\n",
              "</style>\n",
              "<table border=\"1\" class=\"dataframe\">\n",
              "  <thead>\n",
              "    <tr style=\"text-align: right;\">\n",
              "      <th></th>\n",
              "      <th>PassengerId</th>\n",
              "      <th>Pclass</th>\n",
              "      <th>Name</th>\n",
              "      <th>Sex</th>\n",
              "      <th>Age</th>\n",
              "      <th>SibSp</th>\n",
              "      <th>Parch</th>\n",
              "      <th>Ticket</th>\n",
              "      <th>Fare</th>\n",
              "      <th>Cabin</th>\n",
              "      <th>Embarked</th>\n",
              "    </tr>\n",
              "  </thead>\n",
              "  <tbody>\n",
              "    <tr>\n",
              "      <th>0</th>\n",
              "      <td>892</td>\n",
              "      <td>3</td>\n",
              "      <td>Kelly, Mr. James</td>\n",
              "      <td>male</td>\n",
              "      <td>34.5</td>\n",
              "      <td>0</td>\n",
              "      <td>0</td>\n",
              "      <td>330911</td>\n",
              "      <td>7.8292</td>\n",
              "      <td>NaN</td>\n",
              "      <td>Q</td>\n",
              "    </tr>\n",
              "    <tr>\n",
              "      <th>1</th>\n",
              "      <td>893</td>\n",
              "      <td>3</td>\n",
              "      <td>Wilkes, Mrs. James (Ellen Needs)</td>\n",
              "      <td>female</td>\n",
              "      <td>47.0</td>\n",
              "      <td>1</td>\n",
              "      <td>0</td>\n",
              "      <td>363272</td>\n",
              "      <td>7.0000</td>\n",
              "      <td>NaN</td>\n",
              "      <td>S</td>\n",
              "    </tr>\n",
              "    <tr>\n",
              "      <th>2</th>\n",
              "      <td>894</td>\n",
              "      <td>2</td>\n",
              "      <td>Myles, Mr. Thomas Francis</td>\n",
              "      <td>male</td>\n",
              "      <td>62.0</td>\n",
              "      <td>0</td>\n",
              "      <td>0</td>\n",
              "      <td>240276</td>\n",
              "      <td>9.6875</td>\n",
              "      <td>NaN</td>\n",
              "      <td>Q</td>\n",
              "    </tr>\n",
              "    <tr>\n",
              "      <th>3</th>\n",
              "      <td>895</td>\n",
              "      <td>3</td>\n",
              "      <td>Wirz, Mr. Albert</td>\n",
              "      <td>male</td>\n",
              "      <td>27.0</td>\n",
              "      <td>0</td>\n",
              "      <td>0</td>\n",
              "      <td>315154</td>\n",
              "      <td>8.6625</td>\n",
              "      <td>NaN</td>\n",
              "      <td>S</td>\n",
              "    </tr>\n",
              "    <tr>\n",
              "      <th>4</th>\n",
              "      <td>896</td>\n",
              "      <td>3</td>\n",
              "      <td>Hirvonen, Mrs. Alexander (Helga E Lindqvist)</td>\n",
              "      <td>female</td>\n",
              "      <td>22.0</td>\n",
              "      <td>1</td>\n",
              "      <td>1</td>\n",
              "      <td>3101298</td>\n",
              "      <td>12.2875</td>\n",
              "      <td>NaN</td>\n",
              "      <td>S</td>\n",
              "    </tr>\n",
              "  </tbody>\n",
              "</table>\n",
              "</div>\n",
              "      <button class=\"colab-df-convert\" onclick=\"convertToInteractive('df-2d071dae-ac11-42ae-a171-95d06ae09041')\"\n",
              "              title=\"Convert this dataframe to an interactive table.\"\n",
              "              style=\"display:none;\">\n",
              "        \n",
              "  <svg xmlns=\"http://www.w3.org/2000/svg\" height=\"24px\"viewBox=\"0 0 24 24\"\n",
              "       width=\"24px\">\n",
              "    <path d=\"M0 0h24v24H0V0z\" fill=\"none\"/>\n",
              "    <path d=\"M18.56 5.44l.94 2.06.94-2.06 2.06-.94-2.06-.94-.94-2.06-.94 2.06-2.06.94zm-11 1L8.5 8.5l.94-2.06 2.06-.94-2.06-.94L8.5 2.5l-.94 2.06-2.06.94zm10 10l.94 2.06.94-2.06 2.06-.94-2.06-.94-.94-2.06-.94 2.06-2.06.94z\"/><path d=\"M17.41 7.96l-1.37-1.37c-.4-.4-.92-.59-1.43-.59-.52 0-1.04.2-1.43.59L10.3 9.45l-7.72 7.72c-.78.78-.78 2.05 0 2.83L4 21.41c.39.39.9.59 1.41.59.51 0 1.02-.2 1.41-.59l7.78-7.78 2.81-2.81c.8-.78.8-2.07 0-2.86zM5.41 20L4 18.59l7.72-7.72 1.47 1.35L5.41 20z\"/>\n",
              "  </svg>\n",
              "      </button>\n",
              "      \n",
              "  <style>\n",
              "    .colab-df-container {\n",
              "      display:flex;\n",
              "      flex-wrap:wrap;\n",
              "      gap: 12px;\n",
              "    }\n",
              "\n",
              "    .colab-df-convert {\n",
              "      background-color: #E8F0FE;\n",
              "      border: none;\n",
              "      border-radius: 50%;\n",
              "      cursor: pointer;\n",
              "      display: none;\n",
              "      fill: #1967D2;\n",
              "      height: 32px;\n",
              "      padding: 0 0 0 0;\n",
              "      width: 32px;\n",
              "    }\n",
              "\n",
              "    .colab-df-convert:hover {\n",
              "      background-color: #E2EBFA;\n",
              "      box-shadow: 0px 1px 2px rgba(60, 64, 67, 0.3), 0px 1px 3px 1px rgba(60, 64, 67, 0.15);\n",
              "      fill: #174EA6;\n",
              "    }\n",
              "\n",
              "    [theme=dark] .colab-df-convert {\n",
              "      background-color: #3B4455;\n",
              "      fill: #D2E3FC;\n",
              "    }\n",
              "\n",
              "    [theme=dark] .colab-df-convert:hover {\n",
              "      background-color: #434B5C;\n",
              "      box-shadow: 0px 1px 3px 1px rgba(0, 0, 0, 0.15);\n",
              "      filter: drop-shadow(0px 1px 2px rgba(0, 0, 0, 0.3));\n",
              "      fill: #FFFFFF;\n",
              "    }\n",
              "  </style>\n",
              "\n",
              "      <script>\n",
              "        const buttonEl =\n",
              "          document.querySelector('#df-2d071dae-ac11-42ae-a171-95d06ae09041 button.colab-df-convert');\n",
              "        buttonEl.style.display =\n",
              "          google.colab.kernel.accessAllowed ? 'block' : 'none';\n",
              "\n",
              "        async function convertToInteractive(key) {\n",
              "          const element = document.querySelector('#df-2d071dae-ac11-42ae-a171-95d06ae09041');\n",
              "          const dataTable =\n",
              "            await google.colab.kernel.invokeFunction('convertToInteractive',\n",
              "                                                     [key], {});\n",
              "          if (!dataTable) return;\n",
              "\n",
              "          const docLinkHtml = 'Like what you see? Visit the ' +\n",
              "            '<a target=\"_blank\" href=https://colab.research.google.com/notebooks/data_table.ipynb>data table notebook</a>'\n",
              "            + ' to learn more about interactive tables.';\n",
              "          element.innerHTML = '';\n",
              "          dataTable['output_type'] = 'display_data';\n",
              "          await google.colab.output.renderOutput(dataTable, element);\n",
              "          const docLink = document.createElement('div');\n",
              "          docLink.innerHTML = docLinkHtml;\n",
              "          element.appendChild(docLink);\n",
              "        }\n",
              "      </script>\n",
              "    </div>\n",
              "  </div>\n",
              "  "
            ]
          },
          "metadata": {},
          "execution_count": 187
        }
      ]
    },
    {
      "cell_type": "code",
      "source": [
        "treino.head()"
      ],
      "metadata": {
        "colab": {
          "base_uri": "https://localhost:8080/",
          "height": 320
        },
        "id": "kT7jtalsX5q3",
        "outputId": "5fd441da-afcb-4301-ddc1-5553f6403c89"
      },
      "execution_count": 188,
      "outputs": [
        {
          "output_type": "execute_result",
          "data": {
            "text/plain": [
              "   PassengerId  Survived  Pclass  \\\n",
              "0            1         0       3   \n",
              "1            2         1       1   \n",
              "2            3         1       3   \n",
              "3            4         1       1   \n",
              "4            5         0       3   \n",
              "\n",
              "                                                Name     Sex   Age  SibSp  \\\n",
              "0                            Braund, Mr. Owen Harris    male  22.0      1   \n",
              "1  Cumings, Mrs. John Bradley (Florence Briggs Th...  female  38.0      1   \n",
              "2                             Heikkinen, Miss. Laina  female  26.0      0   \n",
              "3       Futrelle, Mrs. Jacques Heath (Lily May Peel)  female  35.0      1   \n",
              "4                           Allen, Mr. William Henry    male  35.0      0   \n",
              "\n",
              "   Parch            Ticket     Fare Cabin Embarked  \n",
              "0      0         A/5 21171   7.2500   NaN        S  \n",
              "1      0          PC 17599  71.2833   C85        C  \n",
              "2      0  STON/O2. 3101282   7.9250   NaN        S  \n",
              "3      0            113803  53.1000  C123        S  \n",
              "4      0            373450   8.0500   NaN        S  "
            ],
            "text/html": [
              "\n",
              "  <div id=\"df-eab60551-c489-4833-9ac4-2b76fc50dccc\">\n",
              "    <div class=\"colab-df-container\">\n",
              "      <div>\n",
              "<style scoped>\n",
              "    .dataframe tbody tr th:only-of-type {\n",
              "        vertical-align: middle;\n",
              "    }\n",
              "\n",
              "    .dataframe tbody tr th {\n",
              "        vertical-align: top;\n",
              "    }\n",
              "\n",
              "    .dataframe thead th {\n",
              "        text-align: right;\n",
              "    }\n",
              "</style>\n",
              "<table border=\"1\" class=\"dataframe\">\n",
              "  <thead>\n",
              "    <tr style=\"text-align: right;\">\n",
              "      <th></th>\n",
              "      <th>PassengerId</th>\n",
              "      <th>Survived</th>\n",
              "      <th>Pclass</th>\n",
              "      <th>Name</th>\n",
              "      <th>Sex</th>\n",
              "      <th>Age</th>\n",
              "      <th>SibSp</th>\n",
              "      <th>Parch</th>\n",
              "      <th>Ticket</th>\n",
              "      <th>Fare</th>\n",
              "      <th>Cabin</th>\n",
              "      <th>Embarked</th>\n",
              "    </tr>\n",
              "  </thead>\n",
              "  <tbody>\n",
              "    <tr>\n",
              "      <th>0</th>\n",
              "      <td>1</td>\n",
              "      <td>0</td>\n",
              "      <td>3</td>\n",
              "      <td>Braund, Mr. Owen Harris</td>\n",
              "      <td>male</td>\n",
              "      <td>22.0</td>\n",
              "      <td>1</td>\n",
              "      <td>0</td>\n",
              "      <td>A/5 21171</td>\n",
              "      <td>7.2500</td>\n",
              "      <td>NaN</td>\n",
              "      <td>S</td>\n",
              "    </tr>\n",
              "    <tr>\n",
              "      <th>1</th>\n",
              "      <td>2</td>\n",
              "      <td>1</td>\n",
              "      <td>1</td>\n",
              "      <td>Cumings, Mrs. John Bradley (Florence Briggs Th...</td>\n",
              "      <td>female</td>\n",
              "      <td>38.0</td>\n",
              "      <td>1</td>\n",
              "      <td>0</td>\n",
              "      <td>PC 17599</td>\n",
              "      <td>71.2833</td>\n",
              "      <td>C85</td>\n",
              "      <td>C</td>\n",
              "    </tr>\n",
              "    <tr>\n",
              "      <th>2</th>\n",
              "      <td>3</td>\n",
              "      <td>1</td>\n",
              "      <td>3</td>\n",
              "      <td>Heikkinen, Miss. Laina</td>\n",
              "      <td>female</td>\n",
              "      <td>26.0</td>\n",
              "      <td>0</td>\n",
              "      <td>0</td>\n",
              "      <td>STON/O2. 3101282</td>\n",
              "      <td>7.9250</td>\n",
              "      <td>NaN</td>\n",
              "      <td>S</td>\n",
              "    </tr>\n",
              "    <tr>\n",
              "      <th>3</th>\n",
              "      <td>4</td>\n",
              "      <td>1</td>\n",
              "      <td>1</td>\n",
              "      <td>Futrelle, Mrs. Jacques Heath (Lily May Peel)</td>\n",
              "      <td>female</td>\n",
              "      <td>35.0</td>\n",
              "      <td>1</td>\n",
              "      <td>0</td>\n",
              "      <td>113803</td>\n",
              "      <td>53.1000</td>\n",
              "      <td>C123</td>\n",
              "      <td>S</td>\n",
              "    </tr>\n",
              "    <tr>\n",
              "      <th>4</th>\n",
              "      <td>5</td>\n",
              "      <td>0</td>\n",
              "      <td>3</td>\n",
              "      <td>Allen, Mr. William Henry</td>\n",
              "      <td>male</td>\n",
              "      <td>35.0</td>\n",
              "      <td>0</td>\n",
              "      <td>0</td>\n",
              "      <td>373450</td>\n",
              "      <td>8.0500</td>\n",
              "      <td>NaN</td>\n",
              "      <td>S</td>\n",
              "    </tr>\n",
              "  </tbody>\n",
              "</table>\n",
              "</div>\n",
              "      <button class=\"colab-df-convert\" onclick=\"convertToInteractive('df-eab60551-c489-4833-9ac4-2b76fc50dccc')\"\n",
              "              title=\"Convert this dataframe to an interactive table.\"\n",
              "              style=\"display:none;\">\n",
              "        \n",
              "  <svg xmlns=\"http://www.w3.org/2000/svg\" height=\"24px\"viewBox=\"0 0 24 24\"\n",
              "       width=\"24px\">\n",
              "    <path d=\"M0 0h24v24H0V0z\" fill=\"none\"/>\n",
              "    <path d=\"M18.56 5.44l.94 2.06.94-2.06 2.06-.94-2.06-.94-.94-2.06-.94 2.06-2.06.94zm-11 1L8.5 8.5l.94-2.06 2.06-.94-2.06-.94L8.5 2.5l-.94 2.06-2.06.94zm10 10l.94 2.06.94-2.06 2.06-.94-2.06-.94-.94-2.06-.94 2.06-2.06.94z\"/><path d=\"M17.41 7.96l-1.37-1.37c-.4-.4-.92-.59-1.43-.59-.52 0-1.04.2-1.43.59L10.3 9.45l-7.72 7.72c-.78.78-.78 2.05 0 2.83L4 21.41c.39.39.9.59 1.41.59.51 0 1.02-.2 1.41-.59l7.78-7.78 2.81-2.81c.8-.78.8-2.07 0-2.86zM5.41 20L4 18.59l7.72-7.72 1.47 1.35L5.41 20z\"/>\n",
              "  </svg>\n",
              "      </button>\n",
              "      \n",
              "  <style>\n",
              "    .colab-df-container {\n",
              "      display:flex;\n",
              "      flex-wrap:wrap;\n",
              "      gap: 12px;\n",
              "    }\n",
              "\n",
              "    .colab-df-convert {\n",
              "      background-color: #E8F0FE;\n",
              "      border: none;\n",
              "      border-radius: 50%;\n",
              "      cursor: pointer;\n",
              "      display: none;\n",
              "      fill: #1967D2;\n",
              "      height: 32px;\n",
              "      padding: 0 0 0 0;\n",
              "      width: 32px;\n",
              "    }\n",
              "\n",
              "    .colab-df-convert:hover {\n",
              "      background-color: #E2EBFA;\n",
              "      box-shadow: 0px 1px 2px rgba(60, 64, 67, 0.3), 0px 1px 3px 1px rgba(60, 64, 67, 0.15);\n",
              "      fill: #174EA6;\n",
              "    }\n",
              "\n",
              "    [theme=dark] .colab-df-convert {\n",
              "      background-color: #3B4455;\n",
              "      fill: #D2E3FC;\n",
              "    }\n",
              "\n",
              "    [theme=dark] .colab-df-convert:hover {\n",
              "      background-color: #434B5C;\n",
              "      box-shadow: 0px 1px 3px 1px rgba(0, 0, 0, 0.15);\n",
              "      filter: drop-shadow(0px 1px 2px rgba(0, 0, 0, 0.3));\n",
              "      fill: #FFFFFF;\n",
              "    }\n",
              "  </style>\n",
              "\n",
              "      <script>\n",
              "        const buttonEl =\n",
              "          document.querySelector('#df-eab60551-c489-4833-9ac4-2b76fc50dccc button.colab-df-convert');\n",
              "        buttonEl.style.display =\n",
              "          google.colab.kernel.accessAllowed ? 'block' : 'none';\n",
              "\n",
              "        async function convertToInteractive(key) {\n",
              "          const element = document.querySelector('#df-eab60551-c489-4833-9ac4-2b76fc50dccc');\n",
              "          const dataTable =\n",
              "            await google.colab.kernel.invokeFunction('convertToInteractive',\n",
              "                                                     [key], {});\n",
              "          if (!dataTable) return;\n",
              "\n",
              "          const docLinkHtml = 'Like what you see? Visit the ' +\n",
              "            '<a target=\"_blank\" href=https://colab.research.google.com/notebooks/data_table.ipynb>data table notebook</a>'\n",
              "            + ' to learn more about interactive tables.';\n",
              "          element.innerHTML = '';\n",
              "          dataTable['output_type'] = 'display_data';\n",
              "          await google.colab.output.renderOutput(dataTable, element);\n",
              "          const docLink = document.createElement('div');\n",
              "          docLink.innerHTML = docLinkHtml;\n",
              "          element.appendChild(docLink);\n",
              "        }\n",
              "      </script>\n",
              "    </div>\n",
              "  </div>\n",
              "  "
            ]
          },
          "metadata": {},
          "execution_count": 188
        }
      ]
    },
    {
      "cell_type": "markdown",
      "source": [
        "Primeiro faço as analises1 com treino pq é mais convecional"
      ],
      "metadata": {
        "id": "HqOQAOvwppjK"
      }
    },
    {
      "cell_type": "code",
      "source": [
        "treino.info()"
      ],
      "metadata": {
        "colab": {
          "base_uri": "https://localhost:8080/"
        },
        "id": "Mg-gEWTopxQp",
        "outputId": "ecb99919-e713-42de-f021-b4a0414c2207"
      },
      "execution_count": 189,
      "outputs": [
        {
          "output_type": "stream",
          "name": "stdout",
          "text": [
            "<class 'pandas.core.frame.DataFrame'>\n",
            "RangeIndex: 891 entries, 0 to 890\n",
            "Data columns (total 12 columns):\n",
            " #   Column       Non-Null Count  Dtype  \n",
            "---  ------       --------------  -----  \n",
            " 0   PassengerId  891 non-null    int64  \n",
            " 1   Survived     891 non-null    int64  \n",
            " 2   Pclass       891 non-null    int64  \n",
            " 3   Name         891 non-null    object \n",
            " 4   Sex          891 non-null    object \n",
            " 5   Age          714 non-null    float64\n",
            " 6   SibSp        891 non-null    int64  \n",
            " 7   Parch        891 non-null    int64  \n",
            " 8   Ticket       891 non-null    object \n",
            " 9   Fare         891 non-null    float64\n",
            " 10  Cabin        204 non-null    object \n",
            " 11  Embarked     889 non-null    object \n",
            "dtypes: float64(2), int64(5), object(5)\n",
            "memory usage: 83.7+ KB\n"
          ]
        }
      ]
    },
    {
      "cell_type": "markdown",
      "source": [
        "Os valores nulos da idade e Embarked podem ser preenchidos com valores da moda"
      ],
      "metadata": {
        "id": "BpVDlh-qp-bn"
      }
    },
    {
      "cell_type": "markdown",
      "source": [
        "O inplace ele vai modificar permanentemente o dataset"
      ],
      "metadata": {
        "id": "juC6-CvzrAhr"
      }
    },
    {
      "cell_type": "code",
      "source": [
        "treino['Age'].fillna(treino['Age'].mode()[0], inplace=True)"
      ],
      "metadata": {
        "id": "KacUKzWmqziw"
      },
      "execution_count": 190,
      "outputs": []
    },
    {
      "cell_type": "code",
      "source": [
        "treino['Embarked'].fillna(treino['Embarked'].mode()[0], inplace=True)"
      ],
      "metadata": {
        "id": "pjsga1VXrKFL"
      },
      "execution_count": 191,
      "outputs": []
    },
    {
      "cell_type": "markdown",
      "source": [
        "Remover dados  duplicados, pois quando é duplicado significa que toda linha é igual"
      ],
      "metadata": {
        "id": "5qXfTM5sw_Ug"
      }
    },
    {
      "cell_type": "code",
      "source": [
        "treino = treino.drop_duplicates()\n",
        "treino.info()"
      ],
      "metadata": {
        "colab": {
          "base_uri": "https://localhost:8080/"
        },
        "id": "bM0aw-5wxAEf",
        "outputId": "2b02059b-7cf7-45c2-d7f1-64bacdfbdec7"
      },
      "execution_count": 192,
      "outputs": [
        {
          "output_type": "stream",
          "name": "stdout",
          "text": [
            "<class 'pandas.core.frame.DataFrame'>\n",
            "Int64Index: 891 entries, 0 to 890\n",
            "Data columns (total 12 columns):\n",
            " #   Column       Non-Null Count  Dtype  \n",
            "---  ------       --------------  -----  \n",
            " 0   PassengerId  891 non-null    int64  \n",
            " 1   Survived     891 non-null    int64  \n",
            " 2   Pclass       891 non-null    int64  \n",
            " 3   Name         891 non-null    object \n",
            " 4   Sex          891 non-null    object \n",
            " 5   Age          891 non-null    float64\n",
            " 6   SibSp        891 non-null    int64  \n",
            " 7   Parch        891 non-null    int64  \n",
            " 8   Ticket       891 non-null    object \n",
            " 9   Fare         891 non-null    float64\n",
            " 10  Cabin        204 non-null    object \n",
            " 11  Embarked     891 non-null    object \n",
            "dtypes: float64(2), int64(5), object(5)\n",
            "memory usage: 90.5+ KB\n"
          ]
        }
      ]
    },
    {
      "cell_type": "markdown",
      "source": [
        "Como os valores da coluna Cabin são muitos valores nulos, vou retirar essa coluna. De todo modo, cabine é apenas pra identificação, não é uma variável que se constroi algo, não influencia em nada"
      ],
      "metadata": {
        "id": "LVuecbO3rbf5"
      }
    },
    {
      "cell_type": "code",
      "source": [
        "treino.drop(columns=[\"Cabin\", \"Ticket\", \"Name\", \"PassengerId\"], inplace=True)"
      ],
      "metadata": {
        "id": "wZW8Srsmrjmy"
      },
      "execution_count": 193,
      "outputs": []
    },
    {
      "cell_type": "markdown",
      "source": [
        "Irei verificar quantos tipos existem em cada varivável categórica"
      ],
      "metadata": {
        "id": "Z4p32PcVuy6_"
      }
    },
    {
      "cell_type": "code",
      "source": [
        "treino['Sex'].value_counts()"
      ],
      "metadata": {
        "colab": {
          "base_uri": "https://localhost:8080/"
        },
        "id": "eCgAigqRvnv9",
        "outputId": "e1afa635-79f1-4303-dfbd-1a66b4f9f3d7"
      },
      "execution_count": 194,
      "outputs": [
        {
          "output_type": "execute_result",
          "data": {
            "text/plain": [
              "male      577\n",
              "female    314\n",
              "Name: Sex, dtype: int64"
            ]
          },
          "metadata": {},
          "execution_count": 194
        }
      ]
    },
    {
      "cell_type": "code",
      "source": [
        "treino['Embarked'].value_counts()"
      ],
      "metadata": {
        "colab": {
          "base_uri": "https://localhost:8080/"
        },
        "id": "3UXsyZrpv1OG",
        "outputId": "a9d16d7a-0155-406a-a561-effb1534f447"
      },
      "execution_count": 195,
      "outputs": [
        {
          "output_type": "execute_result",
          "data": {
            "text/plain": [
              "S    646\n",
              "C    168\n",
              "Q     77\n",
              "Name: Embarked, dtype: int64"
            ]
          },
          "metadata": {},
          "execution_count": 195
        }
      ]
    },
    {
      "cell_type": "markdown",
      "source": [
        "Existem dois tipos de modelos de categorização (que é transformar string em um tipo numérico).\n",
        "\n",
        "1- onehotencoder a codificação one-hot é usada para converter variáveis ​​categóricas em um formato que pode ser facilmente usado por algoritmos de aprendizado de máquina .\n",
        "\n",
        "A ideia básica da codificação one-hot é criar novas variáveis ​​que assumem os valores 0 e 1 para representar os valores categóricos originais.\n",
        "\n",
        "Por exemplo, a imagem a seguir mostra como executaríamos codificação one-hot para converter uma variável categórica que contém nomes de equipe em novas variáveis ​​que contêm apenas valores 0 e 1:\n",
        "\n",
        "![image.png](data:image/png;base64,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)\n",
        "\n",
        "\n",
        "2- labelencoder é usado quando existem uma ordem entre as categorias. Ele transforma cada elemento da coluna em valores numeros de relevância."
      ],
      "metadata": {
        "id": "IqpNdFROwFwu"
      }
    },
    {
      "cell_type": "markdown",
      "source": [
        "Usando onehotencoder em ambas as colunas"
      ],
      "metadata": {
        "id": "GknxM_eo6sao"
      }
    },
    {
      "cell_type": "markdown",
      "source": [
        "Etapa 2: executar a codificação One-Hot\n",
        "Em seguida, vamos importar a função OneHotEncoder() da biblioteca sklearn e usá-la para executar a codificação one-hot na variável 'team' no pandas DataFrame:"
      ],
      "metadata": {
        "id": "6AfuwA18LhW4"
      }
    },
    {
      "cell_type": "code",
      "source": [
        "from sklearn.preprocessing import OneHotEncoder\n",
        "\n",
        "#creando um objeto do tipo one-hot-encoder\n",
        "encoder = OneHotEncoder(handle_unknown='ignore')\n",
        "\n",
        "#Está aplicando one-hot encoding nas colunas 'Sex', 'Embarked' \n",
        "encoder_treino = pd.DataFrame(encoder.fit_transform(treino[['Sex', 'Embarked']]).toarray())\n",
        "\n",
        "# juntando as novas colunas numéricas criadas com o dataframe original\n",
        "final_treino = treino.join(encoder_treino)\n",
        "\n",
        "#ver resultado final do dataset treino\n",
        "display(final_treino)"
      ],
      "metadata": {
        "colab": {
          "base_uri": "https://localhost:8080/",
          "height": 424
        },
        "id": "mzezERECLgiB",
        "outputId": "911f555b-47b3-40ee-a3ce-b073fbca56d8"
      },
      "execution_count": 196,
      "outputs": [
        {
          "output_type": "display_data",
          "data": {
            "text/plain": [
              "     Survived  Pclass     Sex   Age  SibSp  Parch     Fare Embarked    0    1  \\\n",
              "0           0       3    male  22.0      1      0   7.2500        S  0.0  1.0   \n",
              "1           1       1  female  38.0      1      0  71.2833        C  1.0  0.0   \n",
              "2           1       3  female  26.0      0      0   7.9250        S  1.0  0.0   \n",
              "3           1       1  female  35.0      1      0  53.1000        S  1.0  0.0   \n",
              "4           0       3    male  35.0      0      0   8.0500        S  0.0  1.0   \n",
              "..        ...     ...     ...   ...    ...    ...      ...      ...  ...  ...   \n",
              "886         0       2    male  27.0      0      0  13.0000        S  0.0  1.0   \n",
              "887         1       1  female  19.0      0      0  30.0000        S  1.0  0.0   \n",
              "888         0       3  female  24.0      1      2  23.4500        S  1.0  0.0   \n",
              "889         1       1    male  26.0      0      0  30.0000        C  0.0  1.0   \n",
              "890         0       3    male  32.0      0      0   7.7500        Q  0.0  1.0   \n",
              "\n",
              "       2    3    4  \n",
              "0    0.0  0.0  1.0  \n",
              "1    1.0  0.0  0.0  \n",
              "2    0.0  0.0  1.0  \n",
              "3    0.0  0.0  1.0  \n",
              "4    0.0  0.0  1.0  \n",
              "..   ...  ...  ...  \n",
              "886  0.0  0.0  1.0  \n",
              "887  0.0  0.0  1.0  \n",
              "888  0.0  0.0  1.0  \n",
              "889  1.0  0.0  0.0  \n",
              "890  0.0  1.0  0.0  \n",
              "\n",
              "[891 rows x 13 columns]"
            ],
            "text/html": [
              "\n",
              "  <div id=\"df-37a60d0b-6584-481d-82bf-5e8d85bd3fe4\">\n",
              "    <div class=\"colab-df-container\">\n",
              "      <div>\n",
              "<style scoped>\n",
              "    .dataframe tbody tr th:only-of-type {\n",
              "        vertical-align: middle;\n",
              "    }\n",
              "\n",
              "    .dataframe tbody tr th {\n",
              "        vertical-align: top;\n",
              "    }\n",
              "\n",
              "    .dataframe thead th {\n",
              "        text-align: right;\n",
              "    }\n",
              "</style>\n",
              "<table border=\"1\" class=\"dataframe\">\n",
              "  <thead>\n",
              "    <tr style=\"text-align: right;\">\n",
              "      <th></th>\n",
              "      <th>Survived</th>\n",
              "      <th>Pclass</th>\n",
              "      <th>Sex</th>\n",
              "      <th>Age</th>\n",
              "      <th>SibSp</th>\n",
              "      <th>Parch</th>\n",
              "      <th>Fare</th>\n",
              "      <th>Embarked</th>\n",
              "      <th>0</th>\n",
              "      <th>1</th>\n",
              "      <th>2</th>\n",
              "      <th>3</th>\n",
              "      <th>4</th>\n",
              "    </tr>\n",
              "  </thead>\n",
              "  <tbody>\n",
              "    <tr>\n",
              "      <th>0</th>\n",
              "      <td>0</td>\n",
              "      <td>3</td>\n",
              "      <td>male</td>\n",
              "      <td>22.0</td>\n",
              "      <td>1</td>\n",
              "      <td>0</td>\n",
              "      <td>7.2500</td>\n",
              "      <td>S</td>\n",
              "      <td>0.0</td>\n",
              "      <td>1.0</td>\n",
              "      <td>0.0</td>\n",
              "      <td>0.0</td>\n",
              "      <td>1.0</td>\n",
              "    </tr>\n",
              "    <tr>\n",
              "      <th>1</th>\n",
              "      <td>1</td>\n",
              "      <td>1</td>\n",
              "      <td>female</td>\n",
              "      <td>38.0</td>\n",
              "      <td>1</td>\n",
              "      <td>0</td>\n",
              "      <td>71.2833</td>\n",
              "      <td>C</td>\n",
              "      <td>1.0</td>\n",
              "      <td>0.0</td>\n",
              "      <td>1.0</td>\n",
              "      <td>0.0</td>\n",
              "      <td>0.0</td>\n",
              "    </tr>\n",
              "    <tr>\n",
              "      <th>2</th>\n",
              "      <td>1</td>\n",
              "      <td>3</td>\n",
              "      <td>female</td>\n",
              "      <td>26.0</td>\n",
              "      <td>0</td>\n",
              "      <td>0</td>\n",
              "      <td>7.9250</td>\n",
              "      <td>S</td>\n",
              "      <td>1.0</td>\n",
              "      <td>0.0</td>\n",
              "      <td>0.0</td>\n",
              "      <td>0.0</td>\n",
              "      <td>1.0</td>\n",
              "    </tr>\n",
              "    <tr>\n",
              "      <th>3</th>\n",
              "      <td>1</td>\n",
              "      <td>1</td>\n",
              "      <td>female</td>\n",
              "      <td>35.0</td>\n",
              "      <td>1</td>\n",
              "      <td>0</td>\n",
              "      <td>53.1000</td>\n",
              "      <td>S</td>\n",
              "      <td>1.0</td>\n",
              "      <td>0.0</td>\n",
              "      <td>0.0</td>\n",
              "      <td>0.0</td>\n",
              "      <td>1.0</td>\n",
              "    </tr>\n",
              "    <tr>\n",
              "      <th>4</th>\n",
              "      <td>0</td>\n",
              "      <td>3</td>\n",
              "      <td>male</td>\n",
              "      <td>35.0</td>\n",
              "      <td>0</td>\n",
              "      <td>0</td>\n",
              "      <td>8.0500</td>\n",
              "      <td>S</td>\n",
              "      <td>0.0</td>\n",
              "      <td>1.0</td>\n",
              "      <td>0.0</td>\n",
              "      <td>0.0</td>\n",
              "      <td>1.0</td>\n",
              "    </tr>\n",
              "    <tr>\n",
              "      <th>...</th>\n",
              "      <td>...</td>\n",
              "      <td>...</td>\n",
              "      <td>...</td>\n",
              "      <td>...</td>\n",
              "      <td>...</td>\n",
              "      <td>...</td>\n",
              "      <td>...</td>\n",
              "      <td>...</td>\n",
              "      <td>...</td>\n",
              "      <td>...</td>\n",
              "      <td>...</td>\n",
              "      <td>...</td>\n",
              "      <td>...</td>\n",
              "    </tr>\n",
              "    <tr>\n",
              "      <th>886</th>\n",
              "      <td>0</td>\n",
              "      <td>2</td>\n",
              "      <td>male</td>\n",
              "      <td>27.0</td>\n",
              "      <td>0</td>\n",
              "      <td>0</td>\n",
              "      <td>13.0000</td>\n",
              "      <td>S</td>\n",
              "      <td>0.0</td>\n",
              "      <td>1.0</td>\n",
              "      <td>0.0</td>\n",
              "      <td>0.0</td>\n",
              "      <td>1.0</td>\n",
              "    </tr>\n",
              "    <tr>\n",
              "      <th>887</th>\n",
              "      <td>1</td>\n",
              "      <td>1</td>\n",
              "      <td>female</td>\n",
              "      <td>19.0</td>\n",
              "      <td>0</td>\n",
              "      <td>0</td>\n",
              "      <td>30.0000</td>\n",
              "      <td>S</td>\n",
              "      <td>1.0</td>\n",
              "      <td>0.0</td>\n",
              "      <td>0.0</td>\n",
              "      <td>0.0</td>\n",
              "      <td>1.0</td>\n",
              "    </tr>\n",
              "    <tr>\n",
              "      <th>888</th>\n",
              "      <td>0</td>\n",
              "      <td>3</td>\n",
              "      <td>female</td>\n",
              "      <td>24.0</td>\n",
              "      <td>1</td>\n",
              "      <td>2</td>\n",
              "      <td>23.4500</td>\n",
              "      <td>S</td>\n",
              "      <td>1.0</td>\n",
              "      <td>0.0</td>\n",
              "      <td>0.0</td>\n",
              "      <td>0.0</td>\n",
              "      <td>1.0</td>\n",
              "    </tr>\n",
              "    <tr>\n",
              "      <th>889</th>\n",
              "      <td>1</td>\n",
              "      <td>1</td>\n",
              "      <td>male</td>\n",
              "      <td>26.0</td>\n",
              "      <td>0</td>\n",
              "      <td>0</td>\n",
              "      <td>30.0000</td>\n",
              "      <td>C</td>\n",
              "      <td>0.0</td>\n",
              "      <td>1.0</td>\n",
              "      <td>1.0</td>\n",
              "      <td>0.0</td>\n",
              "      <td>0.0</td>\n",
              "    </tr>\n",
              "    <tr>\n",
              "      <th>890</th>\n",
              "      <td>0</td>\n",
              "      <td>3</td>\n",
              "      <td>male</td>\n",
              "      <td>32.0</td>\n",
              "      <td>0</td>\n",
              "      <td>0</td>\n",
              "      <td>7.7500</td>\n",
              "      <td>Q</td>\n",
              "      <td>0.0</td>\n",
              "      <td>1.0</td>\n",
              "      <td>0.0</td>\n",
              "      <td>1.0</td>\n",
              "      <td>0.0</td>\n",
              "    </tr>\n",
              "  </tbody>\n",
              "</table>\n",
              "<p>891 rows × 13 columns</p>\n",
              "</div>\n",
              "      <button class=\"colab-df-convert\" onclick=\"convertToInteractive('df-37a60d0b-6584-481d-82bf-5e8d85bd3fe4')\"\n",
              "              title=\"Convert this dataframe to an interactive table.\"\n",
              "              style=\"display:none;\">\n",
              "        \n",
              "  <svg xmlns=\"http://www.w3.org/2000/svg\" height=\"24px\"viewBox=\"0 0 24 24\"\n",
              "       width=\"24px\">\n",
              "    <path d=\"M0 0h24v24H0V0z\" fill=\"none\"/>\n",
              "    <path d=\"M18.56 5.44l.94 2.06.94-2.06 2.06-.94-2.06-.94-.94-2.06-.94 2.06-2.06.94zm-11 1L8.5 8.5l.94-2.06 2.06-.94-2.06-.94L8.5 2.5l-.94 2.06-2.06.94zm10 10l.94 2.06.94-2.06 2.06-.94-2.06-.94-.94-2.06-.94 2.06-2.06.94z\"/><path d=\"M17.41 7.96l-1.37-1.37c-.4-.4-.92-.59-1.43-.59-.52 0-1.04.2-1.43.59L10.3 9.45l-7.72 7.72c-.78.78-.78 2.05 0 2.83L4 21.41c.39.39.9.59 1.41.59.51 0 1.02-.2 1.41-.59l7.78-7.78 2.81-2.81c.8-.78.8-2.07 0-2.86zM5.41 20L4 18.59l7.72-7.72 1.47 1.35L5.41 20z\"/>\n",
              "  </svg>\n",
              "      </button>\n",
              "      \n",
              "  <style>\n",
              "    .colab-df-container {\n",
              "      display:flex;\n",
              "      flex-wrap:wrap;\n",
              "      gap: 12px;\n",
              "    }\n",
              "\n",
              "    .colab-df-convert {\n",
              "      background-color: #E8F0FE;\n",
              "      border: none;\n",
              "      border-radius: 50%;\n",
              "      cursor: pointer;\n",
              "      display: none;\n",
              "      fill: #1967D2;\n",
              "      height: 32px;\n",
              "      padding: 0 0 0 0;\n",
              "      width: 32px;\n",
              "    }\n",
              "\n",
              "    .colab-df-convert:hover {\n",
              "      background-color: #E2EBFA;\n",
              "      box-shadow: 0px 1px 2px rgba(60, 64, 67, 0.3), 0px 1px 3px 1px rgba(60, 64, 67, 0.15);\n",
              "      fill: #174EA6;\n",
              "    }\n",
              "\n",
              "    [theme=dark] .colab-df-convert {\n",
              "      background-color: #3B4455;\n",
              "      fill: #D2E3FC;\n",
              "    }\n",
              "\n",
              "    [theme=dark] .colab-df-convert:hover {\n",
              "      background-color: #434B5C;\n",
              "      box-shadow: 0px 1px 3px 1px rgba(0, 0, 0, 0.15);\n",
              "      filter: drop-shadow(0px 1px 2px rgba(0, 0, 0, 0.3));\n",
              "      fill: #FFFFFF;\n",
              "    }\n",
              "  </style>\n",
              "\n",
              "      <script>\n",
              "        const buttonEl =\n",
              "          document.querySelector('#df-37a60d0b-6584-481d-82bf-5e8d85bd3fe4 button.colab-df-convert');\n",
              "        buttonEl.style.display =\n",
              "          google.colab.kernel.accessAllowed ? 'block' : 'none';\n",
              "\n",
              "        async function convertToInteractive(key) {\n",
              "          const element = document.querySelector('#df-37a60d0b-6584-481d-82bf-5e8d85bd3fe4');\n",
              "          const dataTable =\n",
              "            await google.colab.kernel.invokeFunction('convertToInteractive',\n",
              "                                                     [key], {});\n",
              "          if (!dataTable) return;\n",
              "\n",
              "          const docLinkHtml = 'Like what you see? Visit the ' +\n",
              "            '<a target=\"_blank\" href=https://colab.research.google.com/notebooks/data_table.ipynb>data table notebook</a>'\n",
              "            + ' to learn more about interactive tables.';\n",
              "          element.innerHTML = '';\n",
              "          dataTable['output_type'] = 'display_data';\n",
              "          await google.colab.output.renderOutput(dataTable, element);\n",
              "          const docLink = document.createElement('div');\n",
              "          docLink.innerHTML = docLinkHtml;\n",
              "          element.appendChild(docLink);\n",
              "        }\n",
              "      </script>\n",
              "    </div>\n",
              "  </div>\n",
              "  "
            ]
          },
          "metadata": {}
        }
      ]
    },
    {
      "cell_type": "markdown",
      "source": [
        "Etapa 3: Elimine a variável categórica original\n",
        "Por fim, podemos descartar a variável 'Sex','Embarked', original do DataFrame, pois não precisamos mais dela:\n",
        "\n"
      ],
      "metadata": {
        "id": "eMykCvIgNZBX"
      }
    },
    {
      "cell_type": "code",
      "source": [
        " final_treino.drop(columns=['Sex','Embarked'], axis= 1 , inplace= True)"
      ],
      "metadata": {
        "id": "IviS1fqcNgZr"
      },
      "execution_count": 197,
      "outputs": []
    },
    {
      "cell_type": "code",
      "source": [
        "final_treino.head()"
      ],
      "metadata": {
        "colab": {
          "base_uri": "https://localhost:8080/",
          "height": 206
        },
        "id": "8jf43JHmOGk1",
        "outputId": "c2b8cc2e-c9f7-420a-967c-10dc7e6d121d"
      },
      "execution_count": 198,
      "outputs": [
        {
          "output_type": "execute_result",
          "data": {
            "text/plain": [
              "   Survived  Pclass   Age  SibSp  Parch     Fare    0    1    2    3    4\n",
              "0         0       3  22.0      1      0   7.2500  0.0  1.0  0.0  0.0  1.0\n",
              "1         1       1  38.0      1      0  71.2833  1.0  0.0  1.0  0.0  0.0\n",
              "2         1       3  26.0      0      0   7.9250  1.0  0.0  0.0  0.0  1.0\n",
              "3         1       1  35.0      1      0  53.1000  1.0  0.0  0.0  0.0  1.0\n",
              "4         0       3  35.0      0      0   8.0500  0.0  1.0  0.0  0.0  1.0"
            ],
            "text/html": [
              "\n",
              "  <div id=\"df-7eb5c722-8bf5-4640-be93-ed12f9edd878\">\n",
              "    <div class=\"colab-df-container\">\n",
              "      <div>\n",
              "<style scoped>\n",
              "    .dataframe tbody tr th:only-of-type {\n",
              "        vertical-align: middle;\n",
              "    }\n",
              "\n",
              "    .dataframe tbody tr th {\n",
              "        vertical-align: top;\n",
              "    }\n",
              "\n",
              "    .dataframe thead th {\n",
              "        text-align: right;\n",
              "    }\n",
              "</style>\n",
              "<table border=\"1\" class=\"dataframe\">\n",
              "  <thead>\n",
              "    <tr style=\"text-align: right;\">\n",
              "      <th></th>\n",
              "      <th>Survived</th>\n",
              "      <th>Pclass</th>\n",
              "      <th>Age</th>\n",
              "      <th>SibSp</th>\n",
              "      <th>Parch</th>\n",
              "      <th>Fare</th>\n",
              "      <th>0</th>\n",
              "      <th>1</th>\n",
              "      <th>2</th>\n",
              "      <th>3</th>\n",
              "      <th>4</th>\n",
              "    </tr>\n",
              "  </thead>\n",
              "  <tbody>\n",
              "    <tr>\n",
              "      <th>0</th>\n",
              "      <td>0</td>\n",
              "      <td>3</td>\n",
              "      <td>22.0</td>\n",
              "      <td>1</td>\n",
              "      <td>0</td>\n",
              "      <td>7.2500</td>\n",
              "      <td>0.0</td>\n",
              "      <td>1.0</td>\n",
              "      <td>0.0</td>\n",
              "      <td>0.0</td>\n",
              "      <td>1.0</td>\n",
              "    </tr>\n",
              "    <tr>\n",
              "      <th>1</th>\n",
              "      <td>1</td>\n",
              "      <td>1</td>\n",
              "      <td>38.0</td>\n",
              "      <td>1</td>\n",
              "      <td>0</td>\n",
              "      <td>71.2833</td>\n",
              "      <td>1.0</td>\n",
              "      <td>0.0</td>\n",
              "      <td>1.0</td>\n",
              "      <td>0.0</td>\n",
              "      <td>0.0</td>\n",
              "    </tr>\n",
              "    <tr>\n",
              "      <th>2</th>\n",
              "      <td>1</td>\n",
              "      <td>3</td>\n",
              "      <td>26.0</td>\n",
              "      <td>0</td>\n",
              "      <td>0</td>\n",
              "      <td>7.9250</td>\n",
              "      <td>1.0</td>\n",
              "      <td>0.0</td>\n",
              "      <td>0.0</td>\n",
              "      <td>0.0</td>\n",
              "      <td>1.0</td>\n",
              "    </tr>\n",
              "    <tr>\n",
              "      <th>3</th>\n",
              "      <td>1</td>\n",
              "      <td>1</td>\n",
              "      <td>35.0</td>\n",
              "      <td>1</td>\n",
              "      <td>0</td>\n",
              "      <td>53.1000</td>\n",
              "      <td>1.0</td>\n",
              "      <td>0.0</td>\n",
              "      <td>0.0</td>\n",
              "      <td>0.0</td>\n",
              "      <td>1.0</td>\n",
              "    </tr>\n",
              "    <tr>\n",
              "      <th>4</th>\n",
              "      <td>0</td>\n",
              "      <td>3</td>\n",
              "      <td>35.0</td>\n",
              "      <td>0</td>\n",
              "      <td>0</td>\n",
              "      <td>8.0500</td>\n",
              "      <td>0.0</td>\n",
              "      <td>1.0</td>\n",
              "      <td>0.0</td>\n",
              "      <td>0.0</td>\n",
              "      <td>1.0</td>\n",
              "    </tr>\n",
              "  </tbody>\n",
              "</table>\n",
              "</div>\n",
              "      <button class=\"colab-df-convert\" onclick=\"convertToInteractive('df-7eb5c722-8bf5-4640-be93-ed12f9edd878')\"\n",
              "              title=\"Convert this dataframe to an interactive table.\"\n",
              "              style=\"display:none;\">\n",
              "        \n",
              "  <svg xmlns=\"http://www.w3.org/2000/svg\" height=\"24px\"viewBox=\"0 0 24 24\"\n",
              "       width=\"24px\">\n",
              "    <path d=\"M0 0h24v24H0V0z\" fill=\"none\"/>\n",
              "    <path d=\"M18.56 5.44l.94 2.06.94-2.06 2.06-.94-2.06-.94-.94-2.06-.94 2.06-2.06.94zm-11 1L8.5 8.5l.94-2.06 2.06-.94-2.06-.94L8.5 2.5l-.94 2.06-2.06.94zm10 10l.94 2.06.94-2.06 2.06-.94-2.06-.94-.94-2.06-.94 2.06-2.06.94z\"/><path d=\"M17.41 7.96l-1.37-1.37c-.4-.4-.92-.59-1.43-.59-.52 0-1.04.2-1.43.59L10.3 9.45l-7.72 7.72c-.78.78-.78 2.05 0 2.83L4 21.41c.39.39.9.59 1.41.59.51 0 1.02-.2 1.41-.59l7.78-7.78 2.81-2.81c.8-.78.8-2.07 0-2.86zM5.41 20L4 18.59l7.72-7.72 1.47 1.35L5.41 20z\"/>\n",
              "  </svg>\n",
              "      </button>\n",
              "      \n",
              "  <style>\n",
              "    .colab-df-container {\n",
              "      display:flex;\n",
              "      flex-wrap:wrap;\n",
              "      gap: 12px;\n",
              "    }\n",
              "\n",
              "    .colab-df-convert {\n",
              "      background-color: #E8F0FE;\n",
              "      border: none;\n",
              "      border-radius: 50%;\n",
              "      cursor: pointer;\n",
              "      display: none;\n",
              "      fill: #1967D2;\n",
              "      height: 32px;\n",
              "      padding: 0 0 0 0;\n",
              "      width: 32px;\n",
              "    }\n",
              "\n",
              "    .colab-df-convert:hover {\n",
              "      background-color: #E2EBFA;\n",
              "      box-shadow: 0px 1px 2px rgba(60, 64, 67, 0.3), 0px 1px 3px 1px rgba(60, 64, 67, 0.15);\n",
              "      fill: #174EA6;\n",
              "    }\n",
              "\n",
              "    [theme=dark] .colab-df-convert {\n",
              "      background-color: #3B4455;\n",
              "      fill: #D2E3FC;\n",
              "    }\n",
              "\n",
              "    [theme=dark] .colab-df-convert:hover {\n",
              "      background-color: #434B5C;\n",
              "      box-shadow: 0px 1px 3px 1px rgba(0, 0, 0, 0.15);\n",
              "      filter: drop-shadow(0px 1px 2px rgba(0, 0, 0, 0.3));\n",
              "      fill: #FFFFFF;\n",
              "    }\n",
              "  </style>\n",
              "\n",
              "      <script>\n",
              "        const buttonEl =\n",
              "          document.querySelector('#df-7eb5c722-8bf5-4640-be93-ed12f9edd878 button.colab-df-convert');\n",
              "        buttonEl.style.display =\n",
              "          google.colab.kernel.accessAllowed ? 'block' : 'none';\n",
              "\n",
              "        async function convertToInteractive(key) {\n",
              "          const element = document.querySelector('#df-7eb5c722-8bf5-4640-be93-ed12f9edd878');\n",
              "          const dataTable =\n",
              "            await google.colab.kernel.invokeFunction('convertToInteractive',\n",
              "                                                     [key], {});\n",
              "          if (!dataTable) return;\n",
              "\n",
              "          const docLinkHtml = 'Like what you see? Visit the ' +\n",
              "            '<a target=\"_blank\" href=https://colab.research.google.com/notebooks/data_table.ipynb>data table notebook</a>'\n",
              "            + ' to learn more about interactive tables.';\n",
              "          element.innerHTML = '';\n",
              "          dataTable['output_type'] = 'display_data';\n",
              "          await google.colab.output.renderOutput(dataTable, element);\n",
              "          const docLink = document.createElement('div');\n",
              "          docLink.innerHTML = docLinkHtml;\n",
              "          element.appendChild(docLink);\n",
              "        }\n",
              "      </script>\n",
              "    </div>\n",
              "  </div>\n",
              "  "
            ]
          },
          "metadata": {},
          "execution_count": 198
        }
      ]
    },
    {
      "cell_type": "markdown",
      "source": [
        "Também poderíamos renomear as colunas do DataFrame final para facilitar a leitura:"
      ],
      "metadata": {
        "id": "wIwyg_OLOb2S"
      }
    },
    {
      "cell_type": "code",
      "source": [
        "final_treino.columns = ['Survived',\t'Pclass',\t'Age','SibSp', 'Parch',\t'Fare','Male', 'Female', 'Cherbourg', 'Queenstown', 'Southampton'] "
      ],
      "metadata": {
        "id": "W68yYVLBOcjm"
      },
      "execution_count": 199,
      "outputs": []
    },
    {
      "cell_type": "code",
      "source": [
        "final_treino.head()"
      ],
      "metadata": {
        "colab": {
          "base_uri": "https://localhost:8080/",
          "height": 206
        },
        "id": "B2ZqoHV7POrI",
        "outputId": "08616dc0-2f3b-4593-a9b7-818063c21a73"
      },
      "execution_count": 200,
      "outputs": [
        {
          "output_type": "execute_result",
          "data": {
            "text/plain": [
              "   Survived  Pclass   Age  SibSp  Parch     Fare  Male  Female  Cherbourg  \\\n",
              "0         0       3  22.0      1      0   7.2500   0.0     1.0        0.0   \n",
              "1         1       1  38.0      1      0  71.2833   1.0     0.0        1.0   \n",
              "2         1       3  26.0      0      0   7.9250   1.0     0.0        0.0   \n",
              "3         1       1  35.0      1      0  53.1000   1.0     0.0        0.0   \n",
              "4         0       3  35.0      0      0   8.0500   0.0     1.0        0.0   \n",
              "\n",
              "   Queenstown  Southampton  \n",
              "0         0.0          1.0  \n",
              "1         0.0          0.0  \n",
              "2         0.0          1.0  \n",
              "3         0.0          1.0  \n",
              "4         0.0          1.0  "
            ],
            "text/html": [
              "\n",
              "  <div id=\"df-405d5cfd-fbad-405e-a7d5-273061327374\">\n",
              "    <div class=\"colab-df-container\">\n",
              "      <div>\n",
              "<style scoped>\n",
              "    .dataframe tbody tr th:only-of-type {\n",
              "        vertical-align: middle;\n",
              "    }\n",
              "\n",
              "    .dataframe tbody tr th {\n",
              "        vertical-align: top;\n",
              "    }\n",
              "\n",
              "    .dataframe thead th {\n",
              "        text-align: right;\n",
              "    }\n",
              "</style>\n",
              "<table border=\"1\" class=\"dataframe\">\n",
              "  <thead>\n",
              "    <tr style=\"text-align: right;\">\n",
              "      <th></th>\n",
              "      <th>Survived</th>\n",
              "      <th>Pclass</th>\n",
              "      <th>Age</th>\n",
              "      <th>SibSp</th>\n",
              "      <th>Parch</th>\n",
              "      <th>Fare</th>\n",
              "      <th>Male</th>\n",
              "      <th>Female</th>\n",
              "      <th>Cherbourg</th>\n",
              "      <th>Queenstown</th>\n",
              "      <th>Southampton</th>\n",
              "    </tr>\n",
              "  </thead>\n",
              "  <tbody>\n",
              "    <tr>\n",
              "      <th>0</th>\n",
              "      <td>0</td>\n",
              "      <td>3</td>\n",
              "      <td>22.0</td>\n",
              "      <td>1</td>\n",
              "      <td>0</td>\n",
              "      <td>7.2500</td>\n",
              "      <td>0.0</td>\n",
              "      <td>1.0</td>\n",
              "      <td>0.0</td>\n",
              "      <td>0.0</td>\n",
              "      <td>1.0</td>\n",
              "    </tr>\n",
              "    <tr>\n",
              "      <th>1</th>\n",
              "      <td>1</td>\n",
              "      <td>1</td>\n",
              "      <td>38.0</td>\n",
              "      <td>1</td>\n",
              "      <td>0</td>\n",
              "      <td>71.2833</td>\n",
              "      <td>1.0</td>\n",
              "      <td>0.0</td>\n",
              "      <td>1.0</td>\n",
              "      <td>0.0</td>\n",
              "      <td>0.0</td>\n",
              "    </tr>\n",
              "    <tr>\n",
              "      <th>2</th>\n",
              "      <td>1</td>\n",
              "      <td>3</td>\n",
              "      <td>26.0</td>\n",
              "      <td>0</td>\n",
              "      <td>0</td>\n",
              "      <td>7.9250</td>\n",
              "      <td>1.0</td>\n",
              "      <td>0.0</td>\n",
              "      <td>0.0</td>\n",
              "      <td>0.0</td>\n",
              "      <td>1.0</td>\n",
              "    </tr>\n",
              "    <tr>\n",
              "      <th>3</th>\n",
              "      <td>1</td>\n",
              "      <td>1</td>\n",
              "      <td>35.0</td>\n",
              "      <td>1</td>\n",
              "      <td>0</td>\n",
              "      <td>53.1000</td>\n",
              "      <td>1.0</td>\n",
              "      <td>0.0</td>\n",
              "      <td>0.0</td>\n",
              "      <td>0.0</td>\n",
              "      <td>1.0</td>\n",
              "    </tr>\n",
              "    <tr>\n",
              "      <th>4</th>\n",
              "      <td>0</td>\n",
              "      <td>3</td>\n",
              "      <td>35.0</td>\n",
              "      <td>0</td>\n",
              "      <td>0</td>\n",
              "      <td>8.0500</td>\n",
              "      <td>0.0</td>\n",
              "      <td>1.0</td>\n",
              "      <td>0.0</td>\n",
              "      <td>0.0</td>\n",
              "      <td>1.0</td>\n",
              "    </tr>\n",
              "  </tbody>\n",
              "</table>\n",
              "</div>\n",
              "      <button class=\"colab-df-convert\" onclick=\"convertToInteractive('df-405d5cfd-fbad-405e-a7d5-273061327374')\"\n",
              "              title=\"Convert this dataframe to an interactive table.\"\n",
              "              style=\"display:none;\">\n",
              "        \n",
              "  <svg xmlns=\"http://www.w3.org/2000/svg\" height=\"24px\"viewBox=\"0 0 24 24\"\n",
              "       width=\"24px\">\n",
              "    <path d=\"M0 0h24v24H0V0z\" fill=\"none\"/>\n",
              "    <path d=\"M18.56 5.44l.94 2.06.94-2.06 2.06-.94-2.06-.94-.94-2.06-.94 2.06-2.06.94zm-11 1L8.5 8.5l.94-2.06 2.06-.94-2.06-.94L8.5 2.5l-.94 2.06-2.06.94zm10 10l.94 2.06.94-2.06 2.06-.94-2.06-.94-.94-2.06-.94 2.06-2.06.94z\"/><path d=\"M17.41 7.96l-1.37-1.37c-.4-.4-.92-.59-1.43-.59-.52 0-1.04.2-1.43.59L10.3 9.45l-7.72 7.72c-.78.78-.78 2.05 0 2.83L4 21.41c.39.39.9.59 1.41.59.51 0 1.02-.2 1.41-.59l7.78-7.78 2.81-2.81c.8-.78.8-2.07 0-2.86zM5.41 20L4 18.59l7.72-7.72 1.47 1.35L5.41 20z\"/>\n",
              "  </svg>\n",
              "      </button>\n",
              "      \n",
              "  <style>\n",
              "    .colab-df-container {\n",
              "      display:flex;\n",
              "      flex-wrap:wrap;\n",
              "      gap: 12px;\n",
              "    }\n",
              "\n",
              "    .colab-df-convert {\n",
              "      background-color: #E8F0FE;\n",
              "      border: none;\n",
              "      border-radius: 50%;\n",
              "      cursor: pointer;\n",
              "      display: none;\n",
              "      fill: #1967D2;\n",
              "      height: 32px;\n",
              "      padding: 0 0 0 0;\n",
              "      width: 32px;\n",
              "    }\n",
              "\n",
              "    .colab-df-convert:hover {\n",
              "      background-color: #E2EBFA;\n",
              "      box-shadow: 0px 1px 2px rgba(60, 64, 67, 0.3), 0px 1px 3px 1px rgba(60, 64, 67, 0.15);\n",
              "      fill: #174EA6;\n",
              "    }\n",
              "\n",
              "    [theme=dark] .colab-df-convert {\n",
              "      background-color: #3B4455;\n",
              "      fill: #D2E3FC;\n",
              "    }\n",
              "\n",
              "    [theme=dark] .colab-df-convert:hover {\n",
              "      background-color: #434B5C;\n",
              "      box-shadow: 0px 1px 3px 1px rgba(0, 0, 0, 0.15);\n",
              "      filter: drop-shadow(0px 1px 2px rgba(0, 0, 0, 0.3));\n",
              "      fill: #FFFFFF;\n",
              "    }\n",
              "  </style>\n",
              "\n",
              "      <script>\n",
              "        const buttonEl =\n",
              "          document.querySelector('#df-405d5cfd-fbad-405e-a7d5-273061327374 button.colab-df-convert');\n",
              "        buttonEl.style.display =\n",
              "          google.colab.kernel.accessAllowed ? 'block' : 'none';\n",
              "\n",
              "        async function convertToInteractive(key) {\n",
              "          const element = document.querySelector('#df-405d5cfd-fbad-405e-a7d5-273061327374');\n",
              "          const dataTable =\n",
              "            await google.colab.kernel.invokeFunction('convertToInteractive',\n",
              "                                                     [key], {});\n",
              "          if (!dataTable) return;\n",
              "\n",
              "          const docLinkHtml = 'Like what you see? Visit the ' +\n",
              "            '<a target=\"_blank\" href=https://colab.research.google.com/notebooks/data_table.ipynb>data table notebook</a>'\n",
              "            + ' to learn more about interactive tables.';\n",
              "          element.innerHTML = '';\n",
              "          dataTable['output_type'] = 'display_data';\n",
              "          await google.colab.output.renderOutput(dataTable, element);\n",
              "          const docLink = document.createElement('div');\n",
              "          docLink.innerHTML = docLinkHtml;\n",
              "          element.appendChild(docLink);\n",
              "        }\n",
              "      </script>\n",
              "    </div>\n",
              "  </div>\n",
              "  "
            ]
          },
          "metadata": {},
          "execution_count": 200
        }
      ]
    },
    {
      "cell_type": "markdown",
      "source": [
        "Precisamos separar as variáveis target (y) das preditoras (x)"
      ],
      "metadata": {
        "id": "wFDqwJ6UPYpX"
      }
    },
    {
      "cell_type": "code",
      "source": [
        "y = final_treino['Survived']\n",
        "\n",
        "x = final_treino.drop('Survived', axis=1)"
      ],
      "metadata": {
        "id": "5SpZ9_88Pg0S"
      },
      "execution_count": 201,
      "outputs": []
    },
    {
      "cell_type": "code",
      "source": [
        "x.head()"
      ],
      "metadata": {
        "colab": {
          "base_uri": "https://localhost:8080/",
          "height": 206
        },
        "id": "AALorKZ4P1DJ",
        "outputId": "2d45b68a-4900-45d9-97ba-13432985b756"
      },
      "execution_count": 202,
      "outputs": [
        {
          "output_type": "execute_result",
          "data": {
            "text/plain": [
              "   Pclass   Age  SibSp  Parch     Fare  Male  Female  Cherbourg  Queenstown  \\\n",
              "0       3  22.0      1      0   7.2500   0.0     1.0        0.0         0.0   \n",
              "1       1  38.0      1      0  71.2833   1.0     0.0        1.0         0.0   \n",
              "2       3  26.0      0      0   7.9250   1.0     0.0        0.0         0.0   \n",
              "3       1  35.0      1      0  53.1000   1.0     0.0        0.0         0.0   \n",
              "4       3  35.0      0      0   8.0500   0.0     1.0        0.0         0.0   \n",
              "\n",
              "   Southampton  \n",
              "0          1.0  \n",
              "1          0.0  \n",
              "2          1.0  \n",
              "3          1.0  \n",
              "4          1.0  "
            ],
            "text/html": [
              "\n",
              "  <div id=\"df-2da1d058-a821-4c50-bcef-3cfde5aad988\">\n",
              "    <div class=\"colab-df-container\">\n",
              "      <div>\n",
              "<style scoped>\n",
              "    .dataframe tbody tr th:only-of-type {\n",
              "        vertical-align: middle;\n",
              "    }\n",
              "\n",
              "    .dataframe tbody tr th {\n",
              "        vertical-align: top;\n",
              "    }\n",
              "\n",
              "    .dataframe thead th {\n",
              "        text-align: right;\n",
              "    }\n",
              "</style>\n",
              "<table border=\"1\" class=\"dataframe\">\n",
              "  <thead>\n",
              "    <tr style=\"text-align: right;\">\n",
              "      <th></th>\n",
              "      <th>Pclass</th>\n",
              "      <th>Age</th>\n",
              "      <th>SibSp</th>\n",
              "      <th>Parch</th>\n",
              "      <th>Fare</th>\n",
              "      <th>Male</th>\n",
              "      <th>Female</th>\n",
              "      <th>Cherbourg</th>\n",
              "      <th>Queenstown</th>\n",
              "      <th>Southampton</th>\n",
              "    </tr>\n",
              "  </thead>\n",
              "  <tbody>\n",
              "    <tr>\n",
              "      <th>0</th>\n",
              "      <td>3</td>\n",
              "      <td>22.0</td>\n",
              "      <td>1</td>\n",
              "      <td>0</td>\n",
              "      <td>7.2500</td>\n",
              "      <td>0.0</td>\n",
              "      <td>1.0</td>\n",
              "      <td>0.0</td>\n",
              "      <td>0.0</td>\n",
              "      <td>1.0</td>\n",
              "    </tr>\n",
              "    <tr>\n",
              "      <th>1</th>\n",
              "      <td>1</td>\n",
              "      <td>38.0</td>\n",
              "      <td>1</td>\n",
              "      <td>0</td>\n",
              "      <td>71.2833</td>\n",
              "      <td>1.0</td>\n",
              "      <td>0.0</td>\n",
              "      <td>1.0</td>\n",
              "      <td>0.0</td>\n",
              "      <td>0.0</td>\n",
              "    </tr>\n",
              "    <tr>\n",
              "      <th>2</th>\n",
              "      <td>3</td>\n",
              "      <td>26.0</td>\n",
              "      <td>0</td>\n",
              "      <td>0</td>\n",
              "      <td>7.9250</td>\n",
              "      <td>1.0</td>\n",
              "      <td>0.0</td>\n",
              "      <td>0.0</td>\n",
              "      <td>0.0</td>\n",
              "      <td>1.0</td>\n",
              "    </tr>\n",
              "    <tr>\n",
              "      <th>3</th>\n",
              "      <td>1</td>\n",
              "      <td>35.0</td>\n",
              "      <td>1</td>\n",
              "      <td>0</td>\n",
              "      <td>53.1000</td>\n",
              "      <td>1.0</td>\n",
              "      <td>0.0</td>\n",
              "      <td>0.0</td>\n",
              "      <td>0.0</td>\n",
              "      <td>1.0</td>\n",
              "    </tr>\n",
              "    <tr>\n",
              "      <th>4</th>\n",
              "      <td>3</td>\n",
              "      <td>35.0</td>\n",
              "      <td>0</td>\n",
              "      <td>0</td>\n",
              "      <td>8.0500</td>\n",
              "      <td>0.0</td>\n",
              "      <td>1.0</td>\n",
              "      <td>0.0</td>\n",
              "      <td>0.0</td>\n",
              "      <td>1.0</td>\n",
              "    </tr>\n",
              "  </tbody>\n",
              "</table>\n",
              "</div>\n",
              "      <button class=\"colab-df-convert\" onclick=\"convertToInteractive('df-2da1d058-a821-4c50-bcef-3cfde5aad988')\"\n",
              "              title=\"Convert this dataframe to an interactive table.\"\n",
              "              style=\"display:none;\">\n",
              "        \n",
              "  <svg xmlns=\"http://www.w3.org/2000/svg\" height=\"24px\"viewBox=\"0 0 24 24\"\n",
              "       width=\"24px\">\n",
              "    <path d=\"M0 0h24v24H0V0z\" fill=\"none\"/>\n",
              "    <path d=\"M18.56 5.44l.94 2.06.94-2.06 2.06-.94-2.06-.94-.94-2.06-.94 2.06-2.06.94zm-11 1L8.5 8.5l.94-2.06 2.06-.94-2.06-.94L8.5 2.5l-.94 2.06-2.06.94zm10 10l.94 2.06.94-2.06 2.06-.94-2.06-.94-.94-2.06-.94 2.06-2.06.94z\"/><path d=\"M17.41 7.96l-1.37-1.37c-.4-.4-.92-.59-1.43-.59-.52 0-1.04.2-1.43.59L10.3 9.45l-7.72 7.72c-.78.78-.78 2.05 0 2.83L4 21.41c.39.39.9.59 1.41.59.51 0 1.02-.2 1.41-.59l7.78-7.78 2.81-2.81c.8-.78.8-2.07 0-2.86zM5.41 20L4 18.59l7.72-7.72 1.47 1.35L5.41 20z\"/>\n",
              "  </svg>\n",
              "      </button>\n",
              "      \n",
              "  <style>\n",
              "    .colab-df-container {\n",
              "      display:flex;\n",
              "      flex-wrap:wrap;\n",
              "      gap: 12px;\n",
              "    }\n",
              "\n",
              "    .colab-df-convert {\n",
              "      background-color: #E8F0FE;\n",
              "      border: none;\n",
              "      border-radius: 50%;\n",
              "      cursor: pointer;\n",
              "      display: none;\n",
              "      fill: #1967D2;\n",
              "      height: 32px;\n",
              "      padding: 0 0 0 0;\n",
              "      width: 32px;\n",
              "    }\n",
              "\n",
              "    .colab-df-convert:hover {\n",
              "      background-color: #E2EBFA;\n",
              "      box-shadow: 0px 1px 2px rgba(60, 64, 67, 0.3), 0px 1px 3px 1px rgba(60, 64, 67, 0.15);\n",
              "      fill: #174EA6;\n",
              "    }\n",
              "\n",
              "    [theme=dark] .colab-df-convert {\n",
              "      background-color: #3B4455;\n",
              "      fill: #D2E3FC;\n",
              "    }\n",
              "\n",
              "    [theme=dark] .colab-df-convert:hover {\n",
              "      background-color: #434B5C;\n",
              "      box-shadow: 0px 1px 3px 1px rgba(0, 0, 0, 0.15);\n",
              "      filter: drop-shadow(0px 1px 2px rgba(0, 0, 0, 0.3));\n",
              "      fill: #FFFFFF;\n",
              "    }\n",
              "  </style>\n",
              "\n",
              "      <script>\n",
              "        const buttonEl =\n",
              "          document.querySelector('#df-2da1d058-a821-4c50-bcef-3cfde5aad988 button.colab-df-convert');\n",
              "        buttonEl.style.display =\n",
              "          google.colab.kernel.accessAllowed ? 'block' : 'none';\n",
              "\n",
              "        async function convertToInteractive(key) {\n",
              "          const element = document.querySelector('#df-2da1d058-a821-4c50-bcef-3cfde5aad988');\n",
              "          const dataTable =\n",
              "            await google.colab.kernel.invokeFunction('convertToInteractive',\n",
              "                                                     [key], {});\n",
              "          if (!dataTable) return;\n",
              "\n",
              "          const docLinkHtml = 'Like what you see? Visit the ' +\n",
              "            '<a target=\"_blank\" href=https://colab.research.google.com/notebooks/data_table.ipynb>data table notebook</a>'\n",
              "            + ' to learn more about interactive tables.';\n",
              "          element.innerHTML = '';\n",
              "          dataTable['output_type'] = 'display_data';\n",
              "          await google.colab.output.renderOutput(dataTable, element);\n",
              "          const docLink = document.createElement('div');\n",
              "          docLink.innerHTML = docLinkHtml;\n",
              "          element.appendChild(docLink);\n",
              "        }\n",
              "      </script>\n",
              "    </div>\n",
              "  </div>\n",
              "  "
            ]
          },
          "metadata": {},
          "execution_count": 202
        }
      ]
    },
    {
      "cell_type": "code",
      "source": [
        "y.head()"
      ],
      "metadata": {
        "colab": {
          "base_uri": "https://localhost:8080/"
        },
        "id": "KOmL2smSP7Yb",
        "outputId": "7f65a183-f25f-4b7c-a4a3-4dd776b81ffa"
      },
      "execution_count": 203,
      "outputs": [
        {
          "output_type": "execute_result",
          "data": {
            "text/plain": [
              "0    0\n",
              "1    1\n",
              "2    1\n",
              "3    1\n",
              "4    0\n",
              "Name: Survived, dtype: int64"
            ]
          },
          "metadata": {},
          "execution_count": 203
        }
      ]
    },
    {
      "cell_type": "markdown",
      "source": [
        "Verificando a presença de outliers pra ver se existe alguma linha a ser removida ou também ver qual tipo de escalonamento deve ser utilizado. Os dois principais são:\n",
        "\n",
        "1- MinMaxScaler, que transforma os dados entre 0 e 1. É mais usado para datasets com pouco outliers;\n",
        "\n",
        "2- StandardScaler, é usado quando não há intervalos definidos. É uma boa técnica quando se tem muitos outliers."
      ],
      "metadata": {
        "id": "0uTqkQcUQtt_"
      }
    },
    {
      "cell_type": "code",
      "source": [
        "import matplotlib.pyplot as plt\n",
        "import seaborn as sns\n",
        "\n",
        "for column in x:\n",
        "        plt.figure(figsize=(8,1))\n",
        "        sns.boxplot(data=x, x=column)"
      ],
      "metadata": {
        "colab": {
          "base_uri": "https://localhost:8080/",
          "height": 1000
        },
        "id": "riW42J8HRN3l",
        "outputId": "6f365bed-53e0-45fd-8184-ae10113bef16"
      },
      "execution_count": 204,
      "outputs": [
        {
          "output_type": "display_data",
          "data": {
            "text/plain": [
              "<Figure size 576x72 with 1 Axes>"
            ],
            "image/png": "[encoded data removed]"
          },
          "metadata": {
            "needs_background": "light"
          }
        },
        {
          "output_type": "display_data",
          "data": {
            "text/plain": [
              "<Figure size 576x72 with 1 Axes>"
            ],
            "image/png": "[encoded data removed]"
          },
          "metadata": {
            "needs_background": "light"
          }
        },
        {
          "output_type": "display_data",
          "data": {
            "text/plain": [
              "<Figure size 576x72 with 1 Axes>"
            ],
            "image/png": "[encoded data removed]"
          },
          "metadata": {
            "needs_background": "light"
          }
        },
        {
          "output_type": "display_data",
          "data": {
            "text/plain": [
              "<Figure size 576x72 with 1 Axes>"
            ],
            "image/png": "[encoded data removed]"
          },
          "metadata": {
            "needs_background": "light"
          }
        },
        {
          "output_type": "display_data",
          "data": {
            "text/plain": [
              "<Figure size 576x72 with 1 Axes>"
            ],
            "image/png": "[encoded data removed]"
          },
          "metadata": {
            "needs_background": "light"
          }
        },
        {
          "output_type": "display_data",
          "data": {
            "text/plain": [
              "<Figure size 576x72 with 1 Axes>"
            ],
            "image/png": "[encoded data removed]"
          },
          "metadata": {
            "needs_background": "light"
          }
        },
        {
          "output_type": "display_data",
          "data": {
            "text/plain": [
              "<Figure size 576x72 with 1 Axes>"
            ],
            "image/png": "[encoded data removed]"
          },
          "metadata": {
            "needs_background": "light"
          }
        },
        {
          "output_type": "display_data",
          "data": {
            "text/plain": [
              "<Figure size 576x72 with 1 Axes>"
            ],
            "image/png": "[encoded data removed]"
          },
          "metadata": {
            "needs_background": "light"
          }
        },
        {
          "output_type": "display_data",
          "data": {
            "text/plain": [
              "<Figure size 576x72 with 1 Axes>"
            ],
            "image/png": "[encoded data removed]"
          },
          "metadata": {
            "needs_background": "light"
          }
        },
        {
          "output_type": "display_data",
          "data": {
            "text/plain": [
              "<Figure size 576x72 with 1 Axes>"
            ],
            "image/png": "[encoded data removed]"
          },
          "metadata": {
            "needs_background": "light"
          }
        }
      ]
    },
    {
      "cell_type": "markdown",
      "source": [
        "Vericando que se têm muitos outliers, não queremos remover pois são passageiros relevantes. Apenas aplicar o escalonamento adequado pra aproveitar esses dados. Esse escalonamento é feito com as variáveis preditivas então vamos pegar o dataset de x"
      ],
      "metadata": {
        "id": "ut6dwPIhTjqb"
      }
    },
    {
      "cell_type": "code",
      "source": [
        "from sklearn.preprocessing import StandardScaler\n",
        " \n",
        " #instaciando\n",
        "std_scaler = StandardScaler()\n",
        " \n",
        " #aplicando transformação\n",
        "treino_scaled = std_scaler.fit_transform(x.to_numpy())\n",
        "treino_scaled = pd.DataFrame(treino_scaled, columns= [\n",
        "    'Pclass',\t'Age','SibSp', 'Parch',\t'Fare','Male', \n",
        "    'Female', 'Cherbourg', 'Queenstown', 'Southampton'\n",
        "])\n",
        "  \n",
        "treino_scaled.head()"
      ],
      "metadata": {
        "colab": {
          "base_uri": "https://localhost:8080/",
          "height": 206
        },
        "id": "BQBt_4ddUJ36",
        "outputId": "9ea362f4-0a60-471f-9903-50977064e0fe"
      },
      "execution_count": 209,
      "outputs": [
        {
          "output_type": "execute_result",
          "data": {
            "text/plain": [
              "     Pclass       Age     SibSp     Parch      Fare      Male    Female  \\\n",
              "0  0.827377 -0.497793  0.432793 -0.473674 -0.502445 -0.737695  0.737695   \n",
              "1 -1.566107  0.715048  0.432793 -0.473674  0.786845  1.355574 -1.355574   \n",
              "2  0.827377 -0.194583 -0.474545 -0.473674 -0.488854  1.355574 -1.355574   \n",
              "3 -1.566107  0.487640  0.432793 -0.473674  0.420730  1.355574 -1.355574   \n",
              "4  0.827377  0.487640 -0.474545 -0.473674 -0.486337 -0.737695  0.737695   \n",
              "\n",
              "   Cherbourg  Queenstown  Southampton  \n",
              "0  -0.482043   -0.307562     0.615838  \n",
              "1   2.074505   -0.307562    -1.623803  \n",
              "2  -0.482043   -0.307562     0.615838  \n",
              "3  -0.482043   -0.307562     0.615838  \n",
              "4  -0.482043   -0.307562     0.615838  "
            ],
            "text/html": [
              "\n",
              "  <div id=\"df-79a57a07-5faa-49b7-8466-bcd17878a538\">\n",
              "    <div class=\"colab-df-container\">\n",
              "      <div>\n",
              "<style scoped>\n",
              "    .dataframe tbody tr th:only-of-type {\n",
              "        vertical-align: middle;\n",
              "    }\n",
              "\n",
              "    .dataframe tbody tr th {\n",
              "        vertical-align: top;\n",
              "    }\n",
              "\n",
              "    .dataframe thead th {\n",
              "        text-align: right;\n",
              "    }\n",
              "</style>\n",
              "<table border=\"1\" class=\"dataframe\">\n",
              "  <thead>\n",
              "    <tr style=\"text-align: right;\">\n",
              "      <th></th>\n",
              "      <th>Pclass</th>\n",
              "      <th>Age</th>\n",
              "      <th>SibSp</th>\n",
              "      <th>Parch</th>\n",
              "      <th>Fare</th>\n",
              "      <th>Male</th>\n",
              "      <th>Female</th>\n",
              "      <th>Cherbourg</th>\n",
              "      <th>Queenstown</th>\n",
              "      <th>Southampton</th>\n",
              "    </tr>\n",
              "  </thead>\n",
              "  <tbody>\n",
              "    <tr>\n",
              "      <th>0</th>\n",
              "      <td>0.827377</td>\n",
              "      <td>-0.497793</td>\n",
              "      <td>0.432793</td>\n",
              "      <td>-0.473674</td>\n",
              "      <td>-0.502445</td>\n",
              "      <td>-0.737695</td>\n",
              "      <td>0.737695</td>\n",
              "      <td>-0.482043</td>\n",
              "      <td>-0.307562</td>\n",
              "      <td>0.615838</td>\n",
              "    </tr>\n",
              "    <tr>\n",
              "      <th>1</th>\n",
              "      <td>-1.566107</td>\n",
              "      <td>0.715048</td>\n",
              "      <td>0.432793</td>\n",
              "      <td>-0.473674</td>\n",
              "      <td>0.786845</td>\n",
              "      <td>1.355574</td>\n",
              "      <td>-1.355574</td>\n",
              "      <td>2.074505</td>\n",
              "      <td>-0.307562</td>\n",
              "      <td>-1.623803</td>\n",
              "    </tr>\n",
              "    <tr>\n",
              "      <th>2</th>\n",
              "      <td>0.827377</td>\n",
              "      <td>-0.194583</td>\n",
              "      <td>-0.474545</td>\n",
              "      <td>-0.473674</td>\n",
              "      <td>-0.488854</td>\n",
              "      <td>1.355574</td>\n",
              "      <td>-1.355574</td>\n",
              "      <td>-0.482043</td>\n",
              "      <td>-0.307562</td>\n",
              "      <td>0.615838</td>\n",
              "    </tr>\n",
              "    <tr>\n",
              "      <th>3</th>\n",
              "      <td>-1.566107</td>\n",
              "      <td>0.487640</td>\n",
              "      <td>0.432793</td>\n",
              "      <td>-0.473674</td>\n",
              "      <td>0.420730</td>\n",
              "      <td>1.355574</td>\n",
              "      <td>-1.355574</td>\n",
              "      <td>-0.482043</td>\n",
              "      <td>-0.307562</td>\n",
              "      <td>0.615838</td>\n",
              "    </tr>\n",
              "    <tr>\n",
              "      <th>4</th>\n",
              "      <td>0.827377</td>\n",
              "      <td>0.487640</td>\n",
              "      <td>-0.474545</td>\n",
              "      <td>-0.473674</td>\n",
              "      <td>-0.486337</td>\n",
              "      <td>-0.737695</td>\n",
              "      <td>0.737695</td>\n",
              "      <td>-0.482043</td>\n",
              "      <td>-0.307562</td>\n",
              "      <td>0.615838</td>\n",
              "    </tr>\n",
              "  </tbody>\n",
              "</table>\n",
              "</div>\n",
              "      <button class=\"colab-df-convert\" onclick=\"convertToInteractive('df-79a57a07-5faa-49b7-8466-bcd17878a538')\"\n",
              "              title=\"Convert this dataframe to an interactive table.\"\n",
              "              style=\"display:none;\">\n",
              "        \n",
              "  <svg xmlns=\"http://www.w3.org/2000/svg\" height=\"24px\"viewBox=\"0 0 24 24\"\n",
              "       width=\"24px\">\n",
              "    <path d=\"M0 0h24v24H0V0z\" fill=\"none\"/>\n",
              "    <path d=\"M18.56 5.44l.94 2.06.94-2.06 2.06-.94-2.06-.94-.94-2.06-.94 2.06-2.06.94zm-11 1L8.5 8.5l.94-2.06 2.06-.94-2.06-.94L8.5 2.5l-.94 2.06-2.06.94zm10 10l.94 2.06.94-2.06 2.06-.94-2.06-.94-.94-2.06-.94 2.06-2.06.94z\"/><path d=\"M17.41 7.96l-1.37-1.37c-.4-.4-.92-.59-1.43-.59-.52 0-1.04.2-1.43.59L10.3 9.45l-7.72 7.72c-.78.78-.78 2.05 0 2.83L4 21.41c.39.39.9.59 1.41.59.51 0 1.02-.2 1.41-.59l7.78-7.78 2.81-2.81c.8-.78.8-2.07 0-2.86zM5.41 20L4 18.59l7.72-7.72 1.47 1.35L5.41 20z\"/>\n",
              "  </svg>\n",
              "      </button>\n",
              "      \n",
              "  <style>\n",
              "    .colab-df-container {\n",
              "      display:flex;\n",
              "      flex-wrap:wrap;\n",
              "      gap: 12px;\n",
              "    }\n",
              "\n",
              "    .colab-df-convert {\n",
              "      background-color: #E8F0FE;\n",
              "      border: none;\n",
              "      border-radius: 50%;\n",
              "      cursor: pointer;\n",
              "      display: none;\n",
              "      fill: #1967D2;\n",
              "      height: 32px;\n",
              "      padding: 0 0 0 0;\n",
              "      width: 32px;\n",
              "    }\n",
              "\n",
              "    .colab-df-convert:hover {\n",
              "      background-color: #E2EBFA;\n",
              "      box-shadow: 0px 1px 2px rgba(60, 64, 67, 0.3), 0px 1px 3px 1px rgba(60, 64, 67, 0.15);\n",
              "      fill: #174EA6;\n",
              "    }\n",
              "\n",
              "    [theme=dark] .colab-df-convert {\n",
              "      background-color: #3B4455;\n",
              "      fill: #D2E3FC;\n",
              "    }\n",
              "\n",
              "    [theme=dark] .colab-df-convert:hover {\n",
              "      background-color: #434B5C;\n",
              "      box-shadow: 0px 1px 3px 1px rgba(0, 0, 0, 0.15);\n",
              "      filter: drop-shadow(0px 1px 2px rgba(0, 0, 0, 0.3));\n",
              "      fill: #FFFFFF;\n",
              "    }\n",
              "  </style>\n",
              "\n",
              "      <script>\n",
              "        const buttonEl =\n",
              "          document.querySelector('#df-79a57a07-5faa-49b7-8466-bcd17878a538 button.colab-df-convert');\n",
              "        buttonEl.style.display =\n",
              "          google.colab.kernel.accessAllowed ? 'block' : 'none';\n",
              "\n",
              "        async function convertToInteractive(key) {\n",
              "          const element = document.querySelector('#df-79a57a07-5faa-49b7-8466-bcd17878a538');\n",
              "          const dataTable =\n",
              "            await google.colab.kernel.invokeFunction('convertToInteractive',\n",
              "                                                     [key], {});\n",
              "          if (!dataTable) return;\n",
              "\n",
              "          const docLinkHtml = 'Like what you see? Visit the ' +\n",
              "            '<a target=\"_blank\" href=https://colab.research.google.com/notebooks/data_table.ipynb>data table notebook</a>'\n",
              "            + ' to learn more about interactive tables.';\n",
              "          element.innerHTML = '';\n",
              "          dataTable['output_type'] = 'display_data';\n",
              "          await google.colab.output.renderOutput(dataTable, element);\n",
              "          const docLink = document.createElement('div');\n",
              "          docLink.innerHTML = docLinkHtml;\n",
              "          element.appendChild(docLink);\n",
              "        }\n",
              "      </script>\n",
              "    </div>\n",
              "  </div>\n",
              "  "
            ]
          },
          "metadata": {},
          "execution_count": 209
        }
      ]
    },
    {
      "cell_type": "markdown",
      "source": [
        "Agora que estão tudo na mesma escala, vamos testar os modelos de classificação, os mais usados são:\n",
        "\n",
        "1- Árvore de Decisão/Floresta Aleatória\n",
        "2- K-Nearest Neighbors (KNN)\n",
        "3- Análise Discriminante Linear \n",
        "4- Regressão logística\n",
        "5- Naive Bayes\n",
        "6- Support Vector Machines (SVMs) \n",
        "7- CatBoost"
      ],
      "metadata": {
        "id": "Fj9Rr5UFWrg0"
      }
    },
    {
      "cell_type": "markdown",
      "source": [
        "Nesse caso tem que testar os que mais se adequam a problemática. Antes de aplicar modelo de classificaçao, preciso aplicar as mesmas metodologias de transaformação para a variável de teste, pois até então só tinha sido aplicado no treino."
      ],
      "metadata": {
        "id": "ysodwhByXqnw"
      }
    },
    {
      "cell_type": "code",
      "source": [
        "teste.info()"
      ],
      "metadata": {
        "colab": {
          "base_uri": "https://localhost:8080/"
        },
        "id": "LfHV5ZnfYSjr",
        "outputId": "abc39059-2602-47c3-e961-e0699b69d52a"
      },
      "execution_count": 210,
      "outputs": [
        {
          "output_type": "stream",
          "name": "stdout",
          "text": [
            "<class 'pandas.core.frame.DataFrame'>\n",
            "RangeIndex: 418 entries, 0 to 417\n",
            "Data columns (total 11 columns):\n",
            " #   Column       Non-Null Count  Dtype  \n",
            "---  ------       --------------  -----  \n",
            " 0   PassengerId  418 non-null    int64  \n",
            " 1   Pclass       418 non-null    int64  \n",
            " 2   Name         418 non-null    object \n",
            " 3   Sex          418 non-null    object \n",
            " 4   Age          332 non-null    float64\n",
            " 5   SibSp        418 non-null    int64  \n",
            " 6   Parch        418 non-null    int64  \n",
            " 7   Ticket       418 non-null    object \n",
            " 8   Fare         417 non-null    float64\n",
            " 9   Cabin        91 non-null     object \n",
            " 10  Embarked     418 non-null    object \n",
            "dtypes: float64(2), int64(4), object(5)\n",
            "memory usage: 36.0+ KB\n"
          ]
        }
      ]
    },
    {
      "cell_type": "code",
      "source": [
        "teste.drop(columns=[\"Cabin\", \"Ticket\", \"Name\", \"PassengerId\"], inplace=True)"
      ],
      "metadata": {
        "id": "yyMRaJ06Ya36"
      },
      "execution_count": 211,
      "outputs": []
    },
    {
      "cell_type": "code",
      "source": [
        "teste['Age'].fillna(teste['Age'].mode()[0], inplace=True)\n"
      ],
      "metadata": {
        "id": "Lgqvj05ZZY4N"
      },
      "execution_count": 212,
      "outputs": []
    },
    {
      "cell_type": "code",
      "source": [
        "teste['Embarked'].fillna(teste['Embarked'].mode()[0], inplace=True)"
      ],
      "metadata": {
        "id": "oliSz4KWZces"
      },
      "execution_count": 213,
      "outputs": []
    },
    {
      "cell_type": "code",
      "source": [
        "teste = teste.drop_duplicates()\n",
        "teste.info()"
      ],
      "metadata": {
        "colab": {
          "base_uri": "https://localhost:8080/"
        },
        "id": "CD2zC1x1Zhdi",
        "outputId": "a01b7db2-c19c-420d-be7c-6c086b8fba9b"
      },
      "execution_count": 214,
      "outputs": [
        {
          "output_type": "stream",
          "name": "stdout",
          "text": [
            "<class 'pandas.core.frame.DataFrame'>\n",
            "Int64Index: 375 entries, 0 to 417\n",
            "Data columns (total 7 columns):\n",
            " #   Column    Non-Null Count  Dtype  \n",
            "---  ------    --------------  -----  \n",
            " 0   Pclass    375 non-null    int64  \n",
            " 1   Sex       375 non-null    object \n",
            " 2   Age       375 non-null    float64\n",
            " 3   SibSp     375 non-null    int64  \n",
            " 4   Parch     375 non-null    int64  \n",
            " 5   Fare      374 non-null    float64\n",
            " 6   Embarked  375 non-null    object \n",
            "dtypes: float64(2), int64(3), object(2)\n",
            "memory usage: 23.4+ KB\n"
          ]
        }
      ]
    },
    {
      "cell_type": "code",
      "source": [
        "teste.drop(columns=[\"Cabin\", \"Ticket\", \"Name\", \"PassengerId\"], inplace=True)"
      ],
      "metadata": {
        "colab": {
          "base_uri": "https://localhost:8080/",
          "height": 311
        },
        "id": "idSYWucvZoPY",
        "outputId": "0ddc4225-ea37-4159-f8e2-d00b780c507e"
      },
      "execution_count": 217,
      "outputs": [
        {
          "output_type": "error",
          "ename": "KeyError",
          "evalue": "ignored",
          "traceback": [
            "\u001b[0;31m---------------------------------------------------------------------------\u001b[0m",
            "\u001b[0;31mKeyError\u001b[0m                                  Traceback (most recent call last)",
            "\u001b[0;32m<ipython-input-217-1b9186bd518f>\u001b[0m in \u001b[0;36m<module>\u001b[0;34m\u001b[0m\n\u001b[0;32m----> 1\u001b[0;31m \u001b[0mteste\u001b[0m\u001b[0;34m.\u001b[0m\u001b[0mdrop\u001b[0m\u001b[0;34m(\u001b[0m\u001b[0mcolumns\u001b[0m\u001b[0;34m=\u001b[0m\u001b[0;34m[\u001b[0m\u001b[0;34m\"Cabin\"\u001b[0m\u001b[0;34m,\u001b[0m \u001b[0;34m\"Ticket\"\u001b[0m\u001b[0;34m,\u001b[0m \u001b[0;34m\"Name\"\u001b[0m\u001b[0;34m,\u001b[0m \u001b[0;34m\"PassengerId\"\u001b[0m\u001b[0;34m]\u001b[0m\u001b[0;34m,\u001b[0m \u001b[0minplace\u001b[0m\u001b[0;34m=\u001b[0m\u001b[0;32mTrue\u001b[0m\u001b[0;34m)\u001b[0m\u001b[0;34m\u001b[0m\u001b[0;34m\u001b[0m\u001b[0m\n\u001b[0m",
            "\u001b[0;32m/usr/local/lib/python3.8/dist-packages/pandas/util/_decorators.py\u001b[0m in \u001b[0;36mwrapper\u001b[0;34m(*args, **kwargs)\u001b[0m\n\u001b[1;32m    309\u001b[0m                     \u001b[0mstacklevel\u001b[0m\u001b[0;34m=\u001b[0m\u001b[0mstacklevel\u001b[0m\u001b[0;34m,\u001b[0m\u001b[0;34m\u001b[0m\u001b[0;34m\u001b[0m\u001b[0m\n\u001b[1;32m    310\u001b[0m                 )\n\u001b[0;32m--> 311\u001b[0;31m             \u001b[0;32mreturn\u001b[0m \u001b[0mfunc\u001b[0m\u001b[0;34m(\u001b[0m\u001b[0;34m*\u001b[0m\u001b[0margs\u001b[0m\u001b[0;34m,\u001b[0m \u001b[0;34m**\u001b[0m\u001b[0mkwargs\u001b[0m\u001b[0;34m)\u001b[0m\u001b[0;34m\u001b[0m\u001b[0;34m\u001b[0m\u001b[0m\n\u001b[0m\u001b[1;32m    312\u001b[0m \u001b[0;34m\u001b[0m\u001b[0m\n\u001b[1;32m    313\u001b[0m         \u001b[0;32mreturn\u001b[0m \u001b[0mwrapper\u001b[0m\u001b[0;34m\u001b[0m\u001b[0;34m\u001b[0m\u001b[0m\n",
            "\u001b[0;32m/usr/local/lib/python3.8/dist-packages/pandas/core/frame.py\u001b[0m in \u001b[0;36mdrop\u001b[0;34m(self, labels, axis, index, columns, level, inplace, errors)\u001b[0m\n\u001b[1;32m   4904\u001b[0m                 \u001b[0mweight\u001b[0m  \u001b[0;36m1.0\u001b[0m     \u001b[0;36m0.8\u001b[0m\u001b[0;34m\u001b[0m\u001b[0;34m\u001b[0m\u001b[0m\n\u001b[1;32m   4905\u001b[0m         \"\"\"\n\u001b[0;32m-> 4906\u001b[0;31m         return super().drop(\n\u001b[0m\u001b[1;32m   4907\u001b[0m             \u001b[0mlabels\u001b[0m\u001b[0;34m=\u001b[0m\u001b[0mlabels\u001b[0m\u001b[0;34m,\u001b[0m\u001b[0;34m\u001b[0m\u001b[0;34m\u001b[0m\u001b[0m\n\u001b[1;32m   4908\u001b[0m             \u001b[0maxis\u001b[0m\u001b[0;34m=\u001b[0m\u001b[0maxis\u001b[0m\u001b[0;34m,\u001b[0m\u001b[0;34m\u001b[0m\u001b[0;34m\u001b[0m\u001b[0m\n",
            "\u001b[0;32m/usr/local/lib/python3.8/dist-packages/pandas/core/generic.py\u001b[0m in \u001b[0;36mdrop\u001b[0;34m(self, labels, axis, index, columns, level, inplace, errors)\u001b[0m\n\u001b[1;32m   4148\u001b[0m         \u001b[0;32mfor\u001b[0m \u001b[0maxis\u001b[0m\u001b[0;34m,\u001b[0m \u001b[0mlabels\u001b[0m \u001b[0;32min\u001b[0m \u001b[0maxes\u001b[0m\u001b[0;34m.\u001b[0m\u001b[0mitems\u001b[0m\u001b[0;34m(\u001b[0m\u001b[0;34m)\u001b[0m\u001b[0;34m:\u001b[0m\u001b[0;34m\u001b[0m\u001b[0;34m\u001b[0m\u001b[0m\n\u001b[1;32m   4149\u001b[0m             \u001b[0;32mif\u001b[0m \u001b[0mlabels\u001b[0m \u001b[0;32mis\u001b[0m \u001b[0;32mnot\u001b[0m \u001b[0;32mNone\u001b[0m\u001b[0;34m:\u001b[0m\u001b[0;34m\u001b[0m\u001b[0;34m\u001b[0m\u001b[0m\n\u001b[0;32m-> 4150\u001b[0;31m                 \u001b[0mobj\u001b[0m \u001b[0;34m=\u001b[0m \u001b[0mobj\u001b[0m\u001b[0;34m.\u001b[0m\u001b[0m_drop_axis\u001b[0m\u001b[0;34m(\u001b[0m\u001b[0mlabels\u001b[0m\u001b[0;34m,\u001b[0m \u001b[0maxis\u001b[0m\u001b[0;34m,\u001b[0m \u001b[0mlevel\u001b[0m\u001b[0;34m=\u001b[0m\u001b[0mlevel\u001b[0m\u001b[0;34m,\u001b[0m \u001b[0merrors\u001b[0m\u001b[0;34m=\u001b[0m\u001b[0merrors\u001b[0m\u001b[0;34m)\u001b[0m\u001b[0;34m\u001b[0m\u001b[0;34m\u001b[0m\u001b[0m\n\u001b[0m\u001b[1;32m   4151\u001b[0m \u001b[0;34m\u001b[0m\u001b[0m\n\u001b[1;32m   4152\u001b[0m         \u001b[0;32mif\u001b[0m \u001b[0minplace\u001b[0m\u001b[0;34m:\u001b[0m\u001b[0;34m\u001b[0m\u001b[0;34m\u001b[0m\u001b[0m\n",
            "\u001b[0;32m/usr/local/lib/python3.8/dist-packages/pandas/core/generic.py\u001b[0m in \u001b[0;36m_drop_axis\u001b[0;34m(self, labels, axis, level, errors)\u001b[0m\n\u001b[1;32m   4183\u001b[0m                 \u001b[0mnew_axis\u001b[0m \u001b[0;34m=\u001b[0m \u001b[0maxis\u001b[0m\u001b[0;34m.\u001b[0m\u001b[0mdrop\u001b[0m\u001b[0;34m(\u001b[0m\u001b[0mlabels\u001b[0m\u001b[0;34m,\u001b[0m \u001b[0mlevel\u001b[0m\u001b[0;34m=\u001b[0m\u001b[0mlevel\u001b[0m\u001b[0;34m,\u001b[0m \u001b[0merrors\u001b[0m\u001b[0;34m=\u001b[0m\u001b[0merrors\u001b[0m\u001b[0;34m)\u001b[0m\u001b[0;34m\u001b[0m\u001b[0;34m\u001b[0m\u001b[0m\n\u001b[1;32m   4184\u001b[0m             \u001b[0;32melse\u001b[0m\u001b[0;34m:\u001b[0m\u001b[0;34m\u001b[0m\u001b[0;34m\u001b[0m\u001b[0m\n\u001b[0;32m-> 4185\u001b[0;31m                 \u001b[0mnew_axis\u001b[0m \u001b[0;34m=\u001b[0m \u001b[0maxis\u001b[0m\u001b[0;34m.\u001b[0m\u001b[0mdrop\u001b[0m\u001b[0;34m(\u001b[0m\u001b[0mlabels\u001b[0m\u001b[0;34m,\u001b[0m \u001b[0merrors\u001b[0m\u001b[0;34m=\u001b[0m\u001b[0merrors\u001b[0m\u001b[0;34m)\u001b[0m\u001b[0;34m\u001b[0m\u001b[0;34m\u001b[0m\u001b[0m\n\u001b[0m\u001b[1;32m   4186\u001b[0m             \u001b[0mresult\u001b[0m \u001b[0;34m=\u001b[0m \u001b[0mself\u001b[0m\u001b[0;34m.\u001b[0m\u001b[0mreindex\u001b[0m\u001b[0;34m(\u001b[0m\u001b[0;34m**\u001b[0m\u001b[0;34m{\u001b[0m\u001b[0maxis_name\u001b[0m\u001b[0;34m:\u001b[0m \u001b[0mnew_axis\u001b[0m\u001b[0;34m}\u001b[0m\u001b[0;34m)\u001b[0m\u001b[0;34m\u001b[0m\u001b[0;34m\u001b[0m\u001b[0m\n\u001b[1;32m   4187\u001b[0m \u001b[0;34m\u001b[0m\u001b[0m\n",
            "\u001b[0;32m/usr/local/lib/python3.8/dist-packages/pandas/core/indexes/base.py\u001b[0m in \u001b[0;36mdrop\u001b[0;34m(self, labels, errors)\u001b[0m\n\u001b[1;32m   6015\u001b[0m         \u001b[0;32mif\u001b[0m \u001b[0mmask\u001b[0m\u001b[0;34m.\u001b[0m\u001b[0many\u001b[0m\u001b[0;34m(\u001b[0m\u001b[0;34m)\u001b[0m\u001b[0;34m:\u001b[0m\u001b[0;34m\u001b[0m\u001b[0;34m\u001b[0m\u001b[0m\n\u001b[1;32m   6016\u001b[0m             \u001b[0;32mif\u001b[0m \u001b[0merrors\u001b[0m \u001b[0;34m!=\u001b[0m \u001b[0;34m\"ignore\"\u001b[0m\u001b[0;34m:\u001b[0m\u001b[0;34m\u001b[0m\u001b[0;34m\u001b[0m\u001b[0m\n\u001b[0;32m-> 6017\u001b[0;31m                 \u001b[0;32mraise\u001b[0m \u001b[0mKeyError\u001b[0m\u001b[0;34m(\u001b[0m\u001b[0;34mf\"{labels[mask]} not found in axis\"\u001b[0m\u001b[0;34m)\u001b[0m\u001b[0;34m\u001b[0m\u001b[0;34m\u001b[0m\u001b[0m\n\u001b[0m\u001b[1;32m   6018\u001b[0m             \u001b[0mindexer\u001b[0m \u001b[0;34m=\u001b[0m \u001b[0mindexer\u001b[0m\u001b[0;34m[\u001b[0m\u001b[0;34m~\u001b[0m\u001b[0mmask\u001b[0m\u001b[0;34m]\u001b[0m\u001b[0;34m\u001b[0m\u001b[0;34m\u001b[0m\u001b[0m\n\u001b[1;32m   6019\u001b[0m         \u001b[0;32mreturn\u001b[0m \u001b[0mself\u001b[0m\u001b[0;34m.\u001b[0m\u001b[0mdelete\u001b[0m\u001b[0;34m(\u001b[0m\u001b[0mindexer\u001b[0m\u001b[0;34m)\u001b[0m\u001b[0;34m\u001b[0m\u001b[0;34m\u001b[0m\u001b[0m\n",
            "\u001b[0;31mKeyError\u001b[0m: \"['Cabin' 'Ticket' 'Name' 'PassengerId'] not found in axis\""
          ]
        }
      ]
    }
  ]
}