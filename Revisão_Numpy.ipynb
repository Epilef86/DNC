{
  "nbformat": 4,
  "nbformat_minor": 0,
  "metadata": {
    "colab": {
      "provenance": [],
      "authorship_tag": "ABX9TyPIAZcDb2iDSJSTjLP9rimV",
      "include_colab_link": true
    },
    "kernelspec": {
      "name": "python3",
      "display_name": "Python 3"
    },
    "language_info": {
      "name": "python"
    }
  },
  "cells": [
    {
      "cell_type": "markdown",
      "metadata": {
        "id": "view-in-github",
        "colab_type": "text"
      },
      "source": [
        "<a href=\"https://colab.research.google.com/github/Epilef86/DNC/blob/main/Revis%C3%A3o_Numpy.ipynb\" target=\"_parent\"><img src=\"https://colab.research.google.com/assets/colab-badge.svg\" alt=\"Open In Colab\"/></a>"
      ]
    },
    {
      "cell_type": "code",
      "execution_count": 1,
      "metadata": {
        "id": "1PbTMxX1vaRL"
      },
      "outputs": [],
      "source": [
        "import numpy as np"
      ]
    },
    {
      "cell_type": "code",
      "source": [
        "arr = np.array([1,2,3,4,5])\n",
        "\n",
        "print(arr)"
      ],
      "metadata": {
        "colab": {
          "base_uri": "https://localhost:8080/"
        },
        "id": "pTEnew1hvjOj",
        "outputId": "1ef6fd30-49da-40c3-df79-1f6bd829ff15"
      },
      "execution_count": 2,
      "outputs": [
        {
          "output_type": "stream",
          "name": "stdout",
          "text": [
            "[1 2 3 4 5]\n"
          ]
        }
      ]
    },
    {
      "cell_type": "code",
      "source": [
        "#array 2D, ou seja, bidimensionais\n",
        "\n",
        "arr = np.array([[1,2,3,4,5],[6,4,7,8,9]])\n",
        "\n",
        "print(arr)"
      ],
      "metadata": {
        "colab": {
          "base_uri": "https://localhost:8080/"
        },
        "id": "uM7sUYVzvy6C",
        "outputId": "28ab3a8c-1301-4400-c223-01f7ec69408a"
      },
      "execution_count": 6,
      "outputs": [
        {
          "output_type": "stream",
          "name": "stdout",
          "text": [
            "[[1 2 3 4 5]\n",
            " [6 4 7 8 9]]\n"
          ]
        }
      ]
    },
    {
      "cell_type": "code",
      "source": [
        "#array 3D, ou seja, tridimensionais\n",
        "\n",
        "arr = np.array([[[1,2,3],[4,5,6]],[[7,8,9],[1,5,6]]])\n",
        "\n",
        "print(arr)"
      ],
      "metadata": {
        "colab": {
          "base_uri": "https://localhost:8080/"
        },
        "id": "ogLrM4gfxeqB",
        "outputId": "a3fde3d0-11ad-4d0e-afad-f264ff700d0a"
      },
      "execution_count": 9,
      "outputs": [
        {
          "output_type": "stream",
          "name": "stdout",
          "text": [
            "[[[1 2 3]\n",
            "  [4 5 6]]\n",
            "\n",
            " [[7 8 9]\n",
            "  [1 5 6]]]\n"
          ]
        }
      ]
    },
    {
      "cell_type": "code",
      "source": [
        "#pegar o primeiro dado desse array\n",
        "\n",
        "arr = np.array([1,2,3,4])\n",
        "\n",
        "print(arr[2])"
      ],
      "metadata": {
        "colab": {
          "base_uri": "https://localhost:8080/"
        },
        "id": "n7MOTf-GyGVh",
        "outputId": "7a7c8866-1e09-43c2-b027-eddbf884aa27"
      },
      "execution_count": 11,
      "outputs": [
        {
          "output_type": "stream",
          "name": "stdout",
          "text": [
            "3\n"
          ]
        }
      ]
    },
    {
      "cell_type": "code",
      "source": [
        "#operações com array\n",
        "\n",
        "arr = np.array([[1,2,3,4,5],[6,7,8,9,4]])\n",
        "\n",
        "print('5th elemento on 2nd row: ', arr[1,4])"
      ],
      "metadata": {
        "colab": {
          "base_uri": "https://localhost:8080/"
        },
        "id": "_6mZOaRtyYsa",
        "outputId": "9e412cb2-b107-45f9-cb2f-3809cf5c727b"
      },
      "execution_count": 14,
      "outputs": [
        {
          "output_type": "stream",
          "name": "stdout",
          "text": [
            "5th elemento on 2nd row:  4\n"
          ]
        }
      ]
    },
    {
      "cell_type": "code",
      "source": [
        "from numpy import random\n"
      ],
      "metadata": {
        "id": "TBM3x3Kjzb2D"
      },
      "execution_count": 15,
      "outputs": []
    },
    {
      "cell_type": "code",
      "source": [
        "#Gerar números aleatórios, esse randint é: traga um valor inteiro randômico(aleatório) de 0 até 100\n",
        "x = random.randint(100)\n",
        "\n",
        "print(x)\n"
      ],
      "metadata": {
        "colab": {
          "base_uri": "https://localhost:8080/"
        },
        "id": "SMDN-UGWzuwC",
        "outputId": "06285f30-9443-4ddb-c60b-626d562f92b4"
      },
      "execution_count": 16,
      "outputs": [
        {
          "output_type": "stream",
          "name": "stdout",
          "text": [
            "24\n"
          ]
        }
      ]
    },
    {
      "cell_type": "code",
      "source": [
        "#gerar número decimal de 0 a 1\n",
        "x = random.rand()\n",
        "\n",
        "print(x)"
      ],
      "metadata": {
        "colab": {
          "base_uri": "https://localhost:8080/"
        },
        "id": "D7K3jcP61loj",
        "outputId": "b69de4cf-673f-47f9-839c-ef5e35d899ff"
      },
      "execution_count": 19,
      "outputs": [
        {
          "output_type": "stream",
          "name": "stdout",
          "text": [
            "0.06965501098996563\n"
          ]
        }
      ]
    },
    {
      "cell_type": "markdown",
      "source": [
        "Operações com arrays"
      ],
      "metadata": {
        "id": "AkCm6YmU1-B6"
      }
    },
    {
      "cell_type": "code",
      "source": [
        "#Adição\n",
        "arr1 = np.array([10,11,12,13,14,15])\n",
        "arr2 = np.array([20,21,22,23,54,58])\n",
        "\n",
        "arr = np.add(arr1,arr2)\n",
        "\n",
        "print(arr)"
      ],
      "metadata": {
        "colab": {
          "base_uri": "https://localhost:8080/"
        },
        "id": "90RRrqql2BcL",
        "outputId": "e310b03b-3717-4f9b-a8c3-33cbd3a9ecde"
      },
      "execution_count": 20,
      "outputs": [
        {
          "output_type": "stream",
          "name": "stdout",
          "text": [
            "[30 32 34 36 68 73]\n"
          ]
        }
      ]
    },
    {
      "cell_type": "code",
      "source": [
        "#Subtração\n",
        "arr1 = np.array([10,20,30,40,50,60])\n",
        "arr2 = np.array([20,21,22,23,24,25])\n",
        "\n",
        "arr = np.subtract(arr1,arr2)\n",
        "\n",
        "print(arr)"
      ],
      "metadata": {
        "colab": {
          "base_uri": "https://localhost:8080/"
        },
        "id": "OHR45oaN2b1C",
        "outputId": "12db43a0-eb29-4258-c5d7-45fd6fc99ac0"
      },
      "execution_count": 22,
      "outputs": [
        {
          "output_type": "stream",
          "name": "stdout",
          "text": [
            "[-10  -1   8  17  26  35]\n"
          ]
        }
      ]
    },
    {
      "cell_type": "code",
      "source": [
        "#Multiplicação\n",
        "arr1 = np.array([10,20,30,40,50,60])\n",
        "arr2 = np.array([20,21,22,23,24,25])\n",
        "\n",
        "arr = np.multiply(arr1,arr2)\n",
        "print(arr)"
      ],
      "metadata": {
        "colab": {
          "base_uri": "https://localhost:8080/"
        },
        "id": "v188LWSc3L97",
        "outputId": "89bcecef-fed8-4403-a5dc-d770672f758c"
      },
      "execution_count": 23,
      "outputs": [
        {
          "output_type": "stream",
          "name": "stdout",
          "text": [
            "[ 200  420  660  920 1200 1500]\n"
          ]
        }
      ]
    },
    {
      "cell_type": "code",
      "source": [
        "#Divisão\n",
        "arr1 = np.array([10,20,30,40,50,60])\n",
        "arr2 = np.array([20,21,22,23,24,25])\n",
        "\n",
        "arr = np.divide(arr1,arr2)\n",
        "print(arr)"
      ],
      "metadata": {
        "colab": {
          "base_uri": "https://localhost:8080/"
        },
        "id": "dzmb95kb3XCi",
        "outputId": "7237a8a8-9fc6-4e3b-8525-7d4b8e925423"
      },
      "execution_count": 25,
      "outputs": [
        {
          "output_type": "stream",
          "name": "stdout",
          "text": [
            "[0.5        0.95238095 1.36363636 1.73913043 2.08333333 2.4       ]\n"
          ]
        }
      ]
    },
    {
      "cell_type": "code",
      "source": [
        "#Média de uma coluna da tabela\n",
        "#np.mean(df['coluna'])\n",
        "\n",
        "#Soma de uma coluna da tabela\n",
        "#np.sum(df['coluna'])"
      ],
      "metadata": {
        "id": "8diBMdR23gPz"
      },
      "execution_count": 27,
      "outputs": []
    },
    {
      "cell_type": "code",
      "source": [
        "array = np.array([1,2,3,4,5,5,6,7,8,8,9,9])\n",
        "#A partir da minha posição 5\n",
        "result1 = np.minimum(array,5)\n",
        "\n",
        "result2 = np.maximum(result1,0)\n",
        "\n",
        "print(result2)"
      ],
      "metadata": {
        "colab": {
          "base_uri": "https://localhost:8080/"
        },
        "id": "TDLuGl7v4MUz",
        "outputId": "ae2f7a3b-4ef6-4615-c1dd-b9aaa0dc7474"
      },
      "execution_count": 31,
      "outputs": [
        {
          "output_type": "stream",
          "name": "stdout",
          "text": [
            "[1 2 3 4 5 5 5 5 5 5 5 5]\n"
          ]
        }
      ]
    },
    {
      "cell_type": "code",
      "source": [
        "array = np.array([1,2,3,4,5,5,6,7,8,8,9,9])\n",
        "#A partir da minha posição 5 substitua os demais dados por 7\n",
        "array[array>5] = 7\n",
        "\n",
        "print(array)"
      ],
      "metadata": {
        "colab": {
          "base_uri": "https://localhost:8080/"
        },
        "id": "L7wVpXaU7IrM",
        "outputId": "3dae65d8-8507-4ec7-dac0-567bab16c180"
      },
      "execution_count": 32,
      "outputs": [
        {
          "output_type": "stream",
          "name": "stdout",
          "text": [
            "[1 2 3 4 5 5 7 7 7 7 7 7]\n"
          ]
        }
      ]
    }
  ]
}