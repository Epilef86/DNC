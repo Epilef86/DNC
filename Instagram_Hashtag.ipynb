{
  "nbformat": 4,
  "nbformat_minor": 0,
  "metadata": {
    "colab": {
      "provenance": [],
      "authorship_tag": "ABX9TyOIfoSlU1CN3ZrKgzv7QA3P",
      "include_colab_link": true
    },
    "kernelspec": {
      "name": "python3",
      "display_name": "Python 3"
    },
    "language_info": {
      "name": "python"
    }
  },
  "cells": [
    {
      "cell_type": "markdown",
      "metadata": {
        "id": "view-in-github",
        "colab_type": "text"
      },
      "source": [
        "<a href=\"https://colab.research.google.com/github/Epilef86/DNC/blob/main/Instagram_Hashtag.ipynb\" target=\"_parent\"><img src=\"https://colab.research.google.com/assets/colab-badge.svg\" alt=\"Open In Colab\"/></a>"
      ]
    },
    {
      "cell_type": "markdown",
      "source": [
        "O .drop() permite apagar uma linha ou coluna de uma base:\n",
        "base.drop(nome_coluna, axis =1)\n",
        "\n",
        "*   O axis igual a 1 permite apagar uma coluna, enquanto 0 linha\n",
        "\n",
        "base= base.drop(nome_coluna, axis =1)\n",
        "\n",
        "\n",
        "\n",
        "\n",
        "\n",
        "\n",
        "\n"
      ],
      "metadata": {
        "id": "lBLN6vP-OJDB"
      }
    },
    {
      "cell_type": "markdown",
      "source": [
        "# Contando os valores que aparecem na coluna carrosel\n",
        "base.carrossel.value_counts()\n",
        "\n",
        "# Filtrando os valores em que carrossel é nulo\n",
        "base.loc[base.carrossel.isnull(),'carrossel']\n",
        "\n",
        "# Filtrando os valores em que carrossel é NÃO é nulo\n",
        " base.loc[base.carrossel.notnull()].head()\n",
        "\n",
        "\n",
        "# Selecionando apenas a coluna carrossel\n",
        "base.loc[base.carrossel.isnull(),'carrossel']\n",
        "\n",
        "# Agora vamos atribuir o valor N a esses valores nulos\n",
        "base.loc[base.carrossel.isnull(),'carrossel'] == 'N'\n",
        "\n",
        "# NOVAMENTE Filtrando os valores em que carrossel é nulo\n",
        "base.loc[base.carrossel.isnull(),'carrossel']\n",
        "\n",
        "base.info vericica que não existem valores nulos\n",
        "\n",
        "# NOVAMENTE Contando os valores que aparecem na coluna carrosel\n",
        "base.carrossel.value_counts()\n",
        "\n",
        "Não é indicado apagar os valores nulos e sim tratatos como N, que significa que não é carrossel, apagá-los não ia perder 44 linhas"
      ],
      "metadata": {
        "id": "SS8R7_LsPcJK"
      }
    },
    {
      "cell_type": "markdown",
      "source": [
        "Descrição estatística da base\n",
        "base.describe()"
      ],
      "metadata": {
        "id": "nN33NNW5SgNc"
      }
    },
    {
      "cell_type": "markdown",
      "source": [
        "Um gráfico de dispersão ajudaria a entender melhor curtidas e comentários\n",
        "base.plot(kind='scatter', x='data', y='curtidas',figsize=(14,8));\n",
        "Podemos observar que a data não tem influência na quantidade de curtidas\n"
      ],
      "metadata": {
        "id": "vzz49n6LTIo9"
      }
    },
    {
      "cell_type": "markdown",
      "source": [
        "Podemos colocar curtidas e comentários no mesmo gráfico\n",
        "ax = base.plot(kind='scatter',x='data',y='curtidas', color='blue',label='curtidas',figsize=(14,8));\n",
        "base.plot(kind='scatter',x='data',y='comentário',color='red',label='comentários',figsize=(14,8),ax=ax);\n"
      ],
      "metadata": {
        "id": "J51AIan6TiAB"
      }
    },
    {
      "cell_type": "markdown",
      "source": [
        "A escala curtidas pode estar atrapalhando a visualização, por isso vamos deixar comentários em um gráfico separado\n",
        "\n",
        "base.plot(kind='scatter',x='data',y='curtidas', color='blue',label='curtidas',figsize=(14,8));"
      ],
      "metadata": {
        "id": "_L1nsXAXVT-l"
      }
    },
    {
      "cell_type": "markdown",
      "source": [
        "O gráfico e as informações estatísticas não estão dizendo muita coisa pois existe uma grande disersão entre curtidas e comentários. Precisamos verificar se existe um padrão usando as outras colunas de informações"
      ],
      "metadata": {
        "id": "emUejw00Vtv-"
      }
    },
    {
      "cell_type": "markdown",
      "source": [
        "# A primeira coisa que podemos fazer é pegar os 5 primeiros registros com mais ou menos curtidas\n",
        "\n",
        "Ordenando os valores\n",
        "by é por qual coluna, ascending é se vai ser decrescente ou crescente\n",
        "\n",
        "base.sort_values(by='curtidas',ascending=False).head()\n",
        "\n",
        "# Podemos observar que no top 5 todas as postagens tinham pessoas e eram fotos de campanha \n",
        "\n",
        "# Nas 5 piores postagens, não haviam pessoas e nem eram postagens de campanhas\n",
        "\n",
        "Observando as 5 últimas\n",
        "base.sort_values(by='curtidas',ascending=True).head() outra maneira de visualizar seria base.sort_values(by='curtidas',ascending=False).tail()\n",
        "\n",
        "# Isso pode ser um indicador que pessoas e campanhas tenham relação com curtidas\n",
        "\n",
        "# Pode usar a tabela dinâmica do excel para fazer uma análise"
      ],
      "metadata": {
        "id": "AA_8MrqEWKtY"
      }
    },
    {
      "cell_type": "markdown",
      "source": [
        "# Vamos usar p group by para entender melhor os dados\n",
        "\n",
        "# O group by é bem semelhante a tabela dinâmica do excel\n",
        "\n"
      ],
      "metadata": {
        "id": "Hq_So20na0XF"
      }
    },
    {
      "cell_type": "markdown",
      "source": [
        "Para visualizar melhor vaos criar um padrão nos valores dos dados\n",
        "pd.options.display.float_format = '{:,.2f}'.format\n",
        "\n"
      ],
      "metadata": {
        "id": "EdxljyUocte3"
      }
    },
    {
      "cell_type": "markdown",
      "source": [
        "Agrupando as informações por tipo\n",
        "base.groupby('tipo')['curtidas'].mean()"
      ],
      "metadata": {
        "id": "N_x84gSTdJZI"
      }
    }
  ]
}